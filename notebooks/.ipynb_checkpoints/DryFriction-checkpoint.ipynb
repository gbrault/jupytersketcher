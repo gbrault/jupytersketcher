{
 "cells": [
  {
   "cell_type": "markdown",
   "metadata": {},
   "source": [
    "# Dry Friction Test Case"
   ]
  },
  {
   "cell_type": "markdown",
   "metadata": {},
   "source": [
    "## Content"
   ]
  },
  {
   "cell_type": "markdown",
   "metadata": {},
   "source": [
    "- [Libraries](#Libraries)\n",
    "- [Sketch container](#Sketch-container)\n",
    "- [Sketch Parts yaml definition](#Sketch-Parts-yaml-definition)\n",
    "- [Read yaml sketch definition, draw it](#Read-yaml-sketch-definition,-draw-it)\n",
    "- [Simulate sketch rotation](#Simulate-sketch-rotation)\n",
    "- [Sketch composition](#Sketch-composition)\n",
    "- [Sketch serialization](#Sketch-serialization)"
   ]
  },
  {
   "cell_type": "markdown",
   "metadata": {},
   "source": [
    "## Libraries"
   ]
  },
  {
   "cell_type": "markdown",
   "metadata": {},
   "source": [
    "[home](#Content)"
   ]
  },
  {
   "cell_type": "code",
   "execution_count": 1,
   "metadata": {},
   "outputs": [],
   "source": [
    "%matplotlib widget"
   ]
  },
  {
   "cell_type": "markdown",
   "metadata": {},
   "source": [
    "import matplotlib as mpl\n",
    "mpl.rc('text', usetex = True)\n",
    "mpl.rc('font', family = 'serif')"
   ]
  },
  {
   "cell_type": "code",
   "execution_count": 2,
   "metadata": {},
   "outputs": [],
   "source": [
    "import time"
   ]
  },
  {
   "cell_type": "code",
   "execution_count": 3,
   "metadata": {},
   "outputs": [],
   "source": [
    "from pysketcher import *"
   ]
  },
  {
   "cell_type": "code",
   "execution_count": 4,
   "metadata": {},
   "outputs": [],
   "source": [
    "from ipywidgets import FloatSlider, AppLayout, Label, HBox, Button, Output"
   ]
  },
  {
   "cell_type": "code",
   "execution_count": 5,
   "metadata": {},
   "outputs": [],
   "source": [
    "from IPython.display import HTML, SVG, display, clear_output"
   ]
  },
  {
   "cell_type": "code",
   "execution_count": 6,
   "metadata": {},
   "outputs": [],
   "source": [
    "from math import tan, radians, sin, cos"
   ]
  },
  {
   "cell_type": "markdown",
   "metadata": {},
   "source": [
    "## Sketch container"
   ]
  },
  {
   "cell_type": "markdown",
   "metadata": {},
   "source": [
    "[home](#Table-of-Content)"
   ]
  },
  {
   "cell_type": "code",
   "execution_count": 7,
   "metadata": {},
   "outputs": [],
   "source": [
    "myfig={}\n",
    "sketch = Sketch(myfig)"
   ]
  },
  {
   "cell_type": "markdown",
   "metadata": {},
   "source": [
    "## Sketch Parts yaml definition"
   ]
  },
  {
   "cell_type": "markdown",
   "metadata": {},
   "source": [
    "[home](#Content)"
   ]
  },
  {
   "cell_type": "code",
   "execution_count": null,
   "metadata": {},
   "outputs": [],
   "source": [
    "libraries = \"\"\"\\\n",
    "name: head\n",
    "shapes:\n",
    "    libraries: [\"from math import tan, radians, sin, cos\",\"from pysketcher import *\"]\n",
    "\"\"\""
   ]
  },
  {
   "cell_type": "code",
   "execution_count": null,
   "metadata": {},
   "outputs": [],
   "source": [
    "constants = \"\"\"\\\n",
    "name: constants\n",
    "shapes:\n",
    "    fontsize: 18         # size of the characters\n",
    "    g: 9.81              # constant gravity\n",
    "    theta: 30.0          # inclined plane angle\n",
    "    L: 10.0              # sketch sizing parameter\n",
    "    a: 1.0               #\n",
    "    xmin: 0.0            # sketech min Abscissa\n",
    "    ymin: -3.0           # sketech min Ordinate     \n",
    "    rl: 2.0              # rectangle width\n",
    "    rL: 1.0              # rectangle length\n",
    "\"\"\""
   ]
  },
  {
   "cell_type": "code",
   "execution_count": null,
   "metadata": {},
   "outputs": [],
   "source": [
    "frame = \"\"\"\\\n",
    "name: frame\n",
    "shapes:\n",
    "    setframe:            # sketch setup\n",
    "        action: \"drawing_tool.set_coordinate_system(xmin=xmin-L/5, xmax=xmin+1.5*L,ymin=ymin, ymax=ymin+1.5*L,instruction_file='tmp_mpl_friction.py')\"\n",
    "    setblackline:        # default frame values and actions\n",
    "        action: \"drawing_tool.set_linecolor('black')\"\n",
    "    B: point(a+L,0)                      # wall right end\n",
    "    A: point(a,tan(radians(theta))*L)    # wall left end\n",
    "    normal_vec: point(sin(radians(theta)),cos(radians(theta)))     # Vector normal to wall\n",
    "    tangent_vec: point(cos(radians(theta)),-sin(radians(theta)))   # Vector tangent to wall\n",
    "    help_line: Line(A,B)                 # wall line\n",
    "    x: a + 3*L/10.                       # contact point Abscissa\n",
    "    y: help_line(x=x)                    # contact point Ordinate\n",
    "    contact: point(x, y)                 # contact point: middle of the rectangle bottom edge\n",
    "    c: contact + rL/2*normal_vec\n",
    "\"\"\""
   ]
  },
  {
   "cell_type": "code",
   "execution_count": null,
   "metadata": {},
   "outputs": [],
   "source": [
    "body = \"\"\"\\\n",
    "name: body\n",
    "shapes:\n",
    "    rectangle: \n",
    "        formula: Rectangle(contact, rl, rL)\n",
    "        style:\n",
    "            linecolor: blue\n",
    "            filled_curves: blue\n",
    "        transform: [\"rotate(-theta, contact)\",\n",
    "                    \"translate(-rl/2*tangent_vec)\"]\n",
    "    N: \n",
    "        formula: Force(contact - rl*normal_vec, contact, r'$N$', text_pos='start')\n",
    "        style:\n",
    "            linecolor: black\n",
    "    wheel: \n",
    "        formula: \"Composition({'outer': rectangle})\"   \n",
    "        style:\n",
    "            shadow: 1\n",
    "    mc:\n",
    "        formula: Text(r'$c$', c)\n",
    "    body: \n",
    "        formula: \"Composition({'wheel': wheel, 'N': N, 'mc': mc})\"\n",
    "        style:\n",
    "            linecolor: black\n",
    "\"\"\""
   ]
  },
  {
   "cell_type": "code",
   "execution_count": null,
   "metadata": {},
   "outputs": [],
   "source": [
    "plan = \"\"\"\\\n",
    "name: plan\n",
    "shapes:\n",
    "    mB:\n",
    "        formula: Text(r'$B$',B)\n",
    "    mA:\n",
    "        formula: Text(r'$A$', A)\n",
    "    wall: \n",
    "        formula: Wall(x=[A[0], B[0]], y=[A[1], B[1]], thickness=-0.25,transparent=False)\n",
    "        style:\n",
    "            linecolor: black    \n",
    "    x_const: \n",
    "        formula: Line(contact, contact + point(0,4))\n",
    "        style:\n",
    "            linestyle: dotted\n",
    "        transform: rotate(-theta, contact)\n",
    "    x_axis: \n",
    "        formula: \"Axis(start=contact+ 2*rl*normal_vec, length=2*rl,label='$x$', rotation_angle=-theta)\"\n",
    "    plan: \n",
    "        formula: \"Composition({'body': body, 'inclined wall': wall, 'x start': x_const, 'x axis': x_axis, 'mA': mA, 'mB': mB})\"\n",
    "\"\"\""
   ]
  },
  {
   "cell_type": "code",
   "execution_count": null,
   "metadata": {},
   "outputs": [],
   "source": [
    "friction = \"\"\"\\\n",
    "name: friction\n",
    "shapes:\n",
    "    mg: \n",
    "        formula: Gravity(c, rl, text='$Mg$')\n",
    "        style:\n",
    "            linecolor: black\n",
    "    angle: \n",
    "        formula: \"Arc_wText(r'$<bslash>theta$', center=B, radius=3, start_angle=180-theta, arc_angle=theta, fontsize=fontsize)\"\n",
    "        style:\n",
    "            linecolor: black\n",
    "            linewidth: 1\n",
    "    ground: \n",
    "         formula: Line((B[0]-L/10., 0), (B[0]-L/2.,0))\n",
    "         stlye:\n",
    "             linecolor: black\n",
    "             linestyle: dashed\n",
    "             linewidth: 1\n",
    "    friction: \n",
    "            formula: \"Composition({'plan': plan, 'ground': ground, 'mg': mg, 'angle': angle})\"\n",
    "\"\"\""
   ]
  },
  {
   "cell_type": "markdown",
   "metadata": {},
   "source": [
    "## Read yaml sketch definition, draw it"
   ]
  },
  {
   "cell_type": "markdown",
   "metadata": {},
   "source": [
    "[home](#Content)"
   ]
  },
  {
   "cell_type": "code",
   "execution_count": null,
   "metadata": {},
   "outputs": [],
   "source": [
    "if sketch.append(libraries):\n",
    "    if sketch.append(constants):\n",
    "        if sketch.append(frame):\n",
    "            if sketch.append(body):\n",
    "                if sketch.append(plan):\n",
    "                    if sketch.append(friction):\n",
    "                        print(\"success\")"
   ]
  },
  {
   "cell_type": "code",
   "execution_count": null,
   "metadata": {},
   "outputs": [],
   "source": [
    "d = myfig['friction'].draw()"
   ]
  },
  {
   "cell_type": "code",
   "execution_count": null,
   "metadata": {},
   "outputs": [],
   "source": [
    "drawing_tool.display()"
   ]
  },
  {
   "cell_type": "code",
   "execution_count": null,
   "metadata": {},
   "outputs": [],
   "source": [
    "def doright(change):\n",
    "    rotate(-5)\n",
    "def doleft(change):\n",
    "    rotate(5)\n",
    "def rotate(theta):\n",
    "    angle = myfig['theta']\n",
    "    angle -= theta\n",
    "    myfig['theta'] = angle\n",
    "    drawing_tool.erase()\n",
    "    x = myfig['plan']['body']['mc'].x\n",
    "    y = myfig['plan']['body']['mc'].y\n",
    "    myfig['plan'].rotate(theta,myfig['B'])\n",
    "    xf = myfig['plan']['body']['mc'].x\n",
    "    yf = myfig['plan']['body']['mc'].y\n",
    "    trans = point(xf-x,yf-y)\n",
    "    myfig['angle'].changeAngle(180-angle, angle)\n",
    "    myfig['mg'].translate(trans)\n",
    "    myfig['friction'].draw()"
   ]
  },
  {
   "cell_type": "code",
   "execution_count": null,
   "metadata": {},
   "outputs": [],
   "source": [
    "left = Button(\n",
    "    description = '',\n",
    "    icon = 'rotate-left',\n",
    ")\n",
    "left.on_click(doleft)\n",
    "right = Button(\n",
    "    description = '',\n",
    "    icon = 'rotate-right',\n",
    ")\n",
    "right.on_click(doright)\n",
    "output = Output()"
   ]
  },
  {
   "cell_type": "code",
   "execution_count": null,
   "metadata": {},
   "outputs": [],
   "source": [
    "applayout = AppLayout(\n",
    "    center=output,\n",
    "    footer=HBox([left,right]),\n",
    "    pane_heights=[0, 6, 1]\n",
    ")\n",
    "#drawing_tool.mpl.ion()"
   ]
  },
  {
   "cell_type": "code",
   "execution_count": null,
   "metadata": {},
   "outputs": [],
   "source": [
    "applayout"
   ]
  },
  {
   "cell_type": "code",
   "execution_count": null,
   "metadata": {},
   "outputs": [],
   "source": [
    "with output:\n",
    "    clear_output()\n",
    "    display(drawing_tool.mpl.gcf().canvas)"
   ]
  },
  {
   "cell_type": "markdown",
   "metadata": {},
   "source": [
    "### Turn it interactiv"
   ]
  },
  {
   "cell_type": "code",
   "execution_count": null,
   "metadata": {},
   "outputs": [],
   "source": [
    "drawing_tool.mpl.ion()"
   ]
  },
  {
   "cell_type": "markdown",
   "metadata": {},
   "source": [
    "Use left and right rotation button to rotate the sketch"
   ]
  },
  {
   "cell_type": "markdown",
   "metadata": {},
   "source": [
    "## Simulate sketch rotation"
   ]
  },
  {
   "cell_type": "markdown",
   "metadata": {},
   "source": [
    "[home](#Content)"
   ]
  },
  {
   "cell_type": "markdown",
   "metadata": {},
   "source": [
    "### Using SVG"
   ]
  },
  {
   "cell_type": "code",
   "execution_count": null,
   "metadata": {
    "tags": []
   },
   "outputs": [],
   "source": [
    "for i in range(0,10):\n",
    "    doright(None)\n",
    "    clear_output(wait=True)\n",
    "    display(SVG(Sketch.matplotlib2SVG()))\n",
    "    time.sleep(0.01)"
   ]
  },
  {
   "cell_type": "markdown",
   "metadata": {},
   "source": [
    "### Using PNG"
   ]
  },
  {
   "cell_type": "code",
   "execution_count": null,
   "metadata": {
    "tags": []
   },
   "outputs": [],
   "source": [
    "for i in range(0,10):\n",
    "    doright(None)\n",
    "    clear_output(wait=True)\n",
    "    display(Sketch.matplotlib2PNG()) \n",
    "    time.sleep(0.01)"
   ]
  },
  {
   "cell_type": "markdown",
   "metadata": {},
   "source": [
    "### take a canvas snapshot"
   ]
  },
  {
   "cell_type": "code",
   "execution_count": null,
   "metadata": {},
   "outputs": [],
   "source": [
    "drawing_tool.mpl.gcf().canvas.print_png(\"friction.png\")\n",
    "from PIL import Image\n",
    "img = Image.open(\"friction.png\")\n",
    "img"
   ]
  },
  {
   "cell_type": "markdown",
   "metadata": {},
   "source": [
    "## Sketch composition"
   ]
  },
  {
   "cell_type": "markdown",
   "metadata": {},
   "source": [
    "[home](#Content)"
   ]
  },
  {
   "cell_type": "code",
   "execution_count": null,
   "metadata": {
    "tags": []
   },
   "outputs": [],
   "source": [
    "myfig['friction'].graphviz_dot('friction')"
   ]
  },
  {
   "cell_type": "code",
   "execution_count": null,
   "metadata": {},
   "outputs": [],
   "source": [
    "!dot -Tpng -o dotfriction.png friction.dot\n",
    "from PIL import Image\n",
    "img = Image.open(\"dotfriction.png\")\n",
    "img"
   ]
  },
  {
   "cell_type": "code",
   "execution_count": null,
   "metadata": {},
   "outputs": [],
   "source": [
    "!dot -Tsvg -o dotfriction.svg friction.dot"
   ]
  },
  {
   "cell_type": "code",
   "execution_count": null,
   "metadata": {},
   "outputs": [],
   "source": [
    "display(SVG(\"dotfriction.svg\"))"
   ]
  },
  {
   "cell_type": "markdown",
   "metadata": {},
   "source": [
    "## Sketch serialization"
   ]
  },
  {
   "cell_type": "markdown",
   "metadata": {},
   "source": [
    "[home](#Content)"
   ]
  },
  {
   "cell_type": "markdown",
   "metadata": {},
   "source": [
    "### To and from string"
   ]
  },
  {
   "cell_type": "code",
   "execution_count": null,
   "metadata": {},
   "outputs": [],
   "source": [
    "sketchstring = sketch.sketch2String()"
   ]
  },
  {
   "cell_type": "code",
   "execution_count": null,
   "metadata": {},
   "outputs": [],
   "source": [
    "import sys"
   ]
  },
  {
   "cell_type": "code",
   "execution_count": null,
   "metadata": {},
   "outputs": [],
   "source": [
    "sys.stdout.write(sketchstring)"
   ]
  },
  {
   "cell_type": "code",
   "execution_count": null,
   "metadata": {},
   "outputs": [],
   "source": [
    "sketch.string2Sketch(sketchstring)"
   ]
  },
  {
   "cell_type": "markdown",
   "metadata": {},
   "source": [
    "### To and from File"
   ]
  },
  {
   "cell_type": "markdown",
   "metadata": {},
   "source": [
    "#### To File"
   ]
  },
  {
   "cell_type": "code",
   "execution_count": null,
   "metadata": {},
   "outputs": [],
   "source": [
    "sketch.sketch2File(\"dryfriction.yml\")"
   ]
  },
  {
   "cell_type": "markdown",
   "metadata": {},
   "source": [
    "#### From File"
   ]
  },
  {
   "cell_type": "code",
   "execution_count": null,
   "metadata": {},
   "outputs": [],
   "source": [
    "sketch.file2Sketch(\"dryfriction.yml\")"
   ]
  },
  {
   "cell_type": "code",
   "execution_count": null,
   "metadata": {},
   "outputs": [],
   "source": [
    "sketch.file2Sketch(\"springmass.yml\")"
   ]
  },
  {
   "cell_type": "code",
   "execution_count": null,
   "metadata": {},
   "outputs": [],
   "source": [
    "sketch.container['springmass'].draw()"
   ]
  },
  {
   "cell_type": "code",
   "execution_count": null,
   "metadata": {},
   "outputs": [],
   "source": [
    "display(SVG(Sketch.matplotlib2SVG()))"
   ]
  },
  {
   "cell_type": "markdown",
   "metadata": {},
   "source": [
    "### From URL"
   ]
  },
  {
   "cell_type": "code",
   "execution_count": null,
   "metadata": {},
   "outputs": [],
   "source": [
    "sketch.url2Sketch(\"https://raw.githubusercontent.com/gbrault/jupytersketches/master/dryfriction.yml\")"
   ]
  },
  {
   "cell_type": "code",
   "execution_count": null,
   "metadata": {},
   "outputs": [],
   "source": [
    "d = sketch.container['friction'].draw()"
   ]
  },
  {
   "cell_type": "code",
   "execution_count": null,
   "metadata": {},
   "outputs": [],
   "source": [
    "display(SVG(Sketch.matplotlib2SVG()))"
   ]
  },
  {
   "cell_type": "code",
   "execution_count": null,
   "metadata": {},
   "outputs": [],
   "source": []
  },
  {
   "cell_type": "code",
   "execution_count": 62,
   "metadata": {},
   "outputs": [
    {
     "name": "stderr",
     "output_type": "stream",
     "text": [
      "c:\\users\\gilbe\\documents\\github\\venv\\lib\\site-packages\\pysketcher\\MatplotlibDraw.py:148: RuntimeWarning: More than 20 figures have been opened. Figures created through the pyplot interface (`matplotlib.pyplot.figure`) are retained until explicitly closed and may consume too much memory. (To control this warning, see the rcParam `figure.max_open_warning`).\n",
      "  self.fig = self.mpl.figure()\n"
     ]
    },
    {
     "data": {
      "text/plain": [
       "True"
      ]
     },
     "execution_count": 62,
     "metadata": {},
     "output_type": "execute_result"
    }
   ],
   "source": [
    "sketch.file2Sketch(\"jet_pump.yml\")"
   ]
  },
  {
   "cell_type": "code",
   "execution_count": 63,
   "metadata": {},
   "outputs": [],
   "source": [
    "d = sketch.container['jet_pump'].draw()"
   ]
  },
  {
   "cell_type": "code",
   "execution_count": 64,
   "metadata": {},
   "outputs": [
    {
     "data": {
      "image/svg+xml": [
       "<svg xmlns=\"http://www.w3.org/2000/svg\" xmlns:xlink=\"http://www.w3.org/1999/xlink\" height=\"345.6pt\" version=\"1.1\" viewBox=\"0 0 460.8 345.6\" width=\"460.8pt\">\n",
       " <metadata>\n",
       "  <rdf:RDF xmlns:cc=\"http://creativecommons.org/ns#\" xmlns:dc=\"http://purl.org/dc/elements/1.1/\" xmlns:rdf=\"http://www.w3.org/1999/02/22-rdf-syntax-ns#\">\n",
       "   <cc:Work>\n",
       "    <dc:type rdf:resource=\"http://purl.org/dc/dcmitype/StillImage\"/>\n",
       "    <dc:date>2020-08-10T09:15:22.277009</dc:date>\n",
       "    <dc:format>image/svg+xml</dc:format>\n",
       "    <dc:creator>\n",
       "     <cc:Agent>\n",
       "      <dc:title>Matplotlib v3.3.0, https://matplotlib.org/</dc:title>\n",
       "     </cc:Agent>\n",
       "    </dc:creator>\n",
       "   </cc:Work>\n",
       "  </rdf:RDF>\n",
       " </metadata>\n",
       " <defs>\n",
       "  <style type=\"text/css\">*{stroke-linecap:butt;stroke-linejoin:round;}</style>\n",
       " </defs>\n",
       " <g id=\"figure_1\">\n",
       "  <g id=\"patch_1\">\n",
       "   <path d=\"M 0 345.6  L 460.8 345.6  L 460.8 0  L 0 0  z \" style=\"fill:#ffffff;\"/>\n",
       "  </g>\n",
       "  <g id=\"axes_1\">\n",
       "   <g id=\"patch_2\">\n",
       "    <path clip-path=\"url(#p9714850f54)\" d=\"M 77.44 214.208  L 77.44 199.328  L 107.2 199.328  L 166.72 179.488  L 166.72 184.716299  L 114.959839 201.969686  L 114.959839 253.888  L 110.991839 253.888  L 110.991839 214.208  z \" style=\"fill:url(#hd98014152b);stroke:#0000ff;stroke-linejoin:miter;stroke-width:2;\"/>\n",
       "   </g>\n",
       "   <g id=\"patch_3\">\n",
       "    <path clip-path=\"url(#p9714850f54)\" d=\"M 154.639839 253.888  L 154.639839 209.248  L 212.352 187.754667  L 311.552 187.754667  L 390.912 199.328  L 390.912 214.208  L 158.607839 214.208  L 158.607839 253.888  z \" style=\"fill:url(#hd98014152b);stroke:#0000ff;stroke-linejoin:miter;stroke-width:2;\"/>\n",
       "   </g>\n",
       "   <g id=\"patch_4\">\n",
       "    <path clip-path=\"url(#p9714850f54)\" d=\"M 77.44 134.848  L 390.912 134.848  L 390.912 149.728  L 311.552 161.301333  L 212.352 161.301333  L 154.639839 139.808  L 114.959839 139.808  L 115.669844 147.322982  L 167.430005 164.576369  L 167.430005 169.804668  L 107.2 149.728  L 77.44 149.728  z \" style=\"fill:url(#hd98014152b);stroke:#0000ff;stroke-linejoin:miter;stroke-width:2;\"/>\n",
       "   </g>\n",
       "   <g id=\"patch_5\">\n",
       "    <path clip-path=\"url(#p9714850f54)\" d=\"M 390.912 124.928  L 384.216 127.16  L 384.216 124.93792  L 77.44 124.93792  L 77.44 124.91808  L 384.216 124.91808  L 384.216 122.696  z \" style=\"stroke:#000000;stroke-linejoin:miter;\"/>\n",
       "   </g>\n",
       "   <g id=\"patch_6\">\n",
       "    <path clip-path=\"url(#p9714850f54)\" d=\"M 77.44 124.928  L 84.136 122.696  L 84.136 124.91808  L 390.912 124.91808  L 390.912 124.93792  L 84.136 124.93792  L 84.136 127.16  z \" style=\"stroke:#000000;stroke-linejoin:miter;\"/>\n",
       "   </g>\n",
       "   <g id=\"patch_7\">\n",
       "    <path clip-path=\"url(#p9714850f54)\" d=\"M 87.36 199.328  L 85.128 192.632  L 87.35008 192.632  L 87.35008 149.728  L 87.36992 149.728  L 87.36992 192.632  L 89.592 192.632  z \" style=\"stroke:#000000;stroke-linejoin:miter;\"/>\n",
       "   </g>\n",
       "   <g id=\"patch_8\">\n",
       "    <path clip-path=\"url(#p9714850f54)\" d=\"M 87.36 149.728  L 89.592 156.424  L 87.36992 156.424  L 87.36992 199.328  L 87.35008 199.328  L 87.35008 156.424  L 85.128 156.424  z \" style=\"stroke:#000000;stroke-linejoin:miter;\"/>\n",
       "   </g>\n",
       "   <g id=\"patch_9\">\n",
       "    <path clip-path=\"url(#p9714850f54)\" d=\"M 400.832 199.328  L 398.6 192.632  L 400.82208 192.632  L 400.82208 149.728  L 400.84192 149.728  L 400.84192 192.632  L 403.064 192.632  z \" style=\"stroke:#000000;stroke-linejoin:miter;\"/>\n",
       "   </g>\n",
       "   <g id=\"patch_10\">\n",
       "    <path clip-path=\"url(#p9714850f54)\" d=\"M 400.832 149.728  L 403.064 156.424  L 400.84192 156.424  L 400.84192 199.328  L 400.82208 199.328  L 400.82208 156.424  L 398.6 156.424  z \" style=\"stroke:#000000;stroke-linejoin:miter;\"/>\n",
       "   </g>\n",
       "   <g id=\"patch_11\">\n",
       "    <path clip-path=\"url(#p9714850f54)\" d=\"M 212.352 187.754667  L 210.12 181.058667  L 212.34208 181.058667  L 212.34208 161.301333  L 212.36192 161.301333  L 212.36192 181.058667  L 214.584 181.058667  z \" style=\"stroke:#000000;stroke-linejoin:miter;\"/>\n",
       "   </g>\n",
       "   <g id=\"patch_12\">\n",
       "    <path clip-path=\"url(#p9714850f54)\" d=\"M 212.352 161.301333  L 214.584 167.997333  L 212.36192 167.997333  L 212.36192 187.754667  L 212.34208 187.754667  L 212.34208 167.997333  L 210.12 167.997333  z \" style=\"stroke:#000000;stroke-linejoin:miter;\"/>\n",
       "   </g>\n",
       "   <g id=\"patch_13\">\n",
       "    <path clip-path=\"url(#p9714850f54)\" d=\"M 67.52 214.208  L 65.288 207.512  L 67.51008 207.512  L 67.51008 134.848  L 67.52992 134.848  L 67.52992 207.512  L 69.752 207.512  z \" style=\"stroke:#000000;stroke-linejoin:miter;\"/>\n",
       "   </g>\n",
       "   <g id=\"patch_14\">\n",
       "    <path clip-path=\"url(#p9714850f54)\" d=\"M 67.52 134.848  L 69.752 141.544  L 67.52992 141.544  L 67.52992 214.208  L 67.51008 214.208  L 67.51008 141.544  L 65.288 141.544  z \" style=\"stroke:#000000;stroke-linejoin:miter;\"/>\n",
       "   </g>\n",
       "   <g id=\"patch_15\">\n",
       "    <path clip-path=\"url(#p9714850f54)\" d=\"M 176.64 179.488  L 174.903628 172.64671  L 177.119759 172.809202  L 177.340112 169.803943  L 177.359899 169.805394  L 177.139546 172.810653  L 179.355677 172.973145  z \" style=\"stroke:#000000;stroke-linejoin:miter;\"/>\n",
       "   </g>\n",
       "   <g id=\"patch_16\">\n",
       "    <path clip-path=\"url(#p9714850f54)\" d=\"M 177.350005 169.804668  L 179.086377 176.645959  L 176.870246 176.483467  L 176.649893 179.488725  L 176.630107 179.487275  L 176.850459 176.482016  L 174.634329 176.319524  z \" style=\"stroke:#000000;stroke-linejoin:miter;\"/>\n",
       "   </g>\n",
       "   <g id=\"patch_17\">\n",
       "    <path clip-path=\"url(#p9714850f54)\" d=\"M 154.639839 209.248  L 152.407839 202.552  L 154.629919 202.552  L 154.629919 139.808  L 154.649759 139.808  L 154.649759 202.552  L 156.871839 202.552  z \" style=\"stroke:#000000;stroke-linejoin:miter;\"/>\n",
       "   </g>\n",
       "   <g id=\"patch_18\">\n",
       "    <path clip-path=\"url(#p9714850f54)\" d=\"M 154.639839 139.808  L 156.871839 146.504  L 154.649759 146.504  L 154.649759 209.248  L 154.629919 209.248  L 154.629919 146.504  L 152.407839 146.504  z \" style=\"stroke:#000000;stroke-linejoin:miter;\"/>\n",
       "   </g>\n",
       "   <g id=\"line2d_1\">\n",
       "    <path clip-path=\"url(#p9714850f54)\" d=\"M 390.912 124.928  L 77.44 124.928  \" style=\"fill:none;stroke:#000000;stroke-linecap:square;\"/>\n",
       "   </g>\n",
       "   <g id=\"line2d_2\">\n",
       "    <path clip-path=\"url(#p9714850f54)\" d=\"M 87.36 199.328  L 87.36 149.728  \" style=\"fill:none;stroke:#000000;stroke-linecap:square;\"/>\n",
       "   </g>\n",
       "   <g id=\"line2d_3\">\n",
       "    <path clip-path=\"url(#p9714850f54)\" d=\"M 400.832 199.328  L 400.832 149.728  \" style=\"fill:none;stroke:#000000;stroke-linecap:square;\"/>\n",
       "   </g>\n",
       "   <g id=\"line2d_4\">\n",
       "    <path clip-path=\"url(#p9714850f54)\" d=\"M 212.352 187.754667  L 212.352 161.301333  \" style=\"fill:none;stroke:#000000;stroke-linecap:square;\"/>\n",
       "   </g>\n",
       "   <g id=\"line2d_5\">\n",
       "    <path clip-path=\"url(#p9714850f54)\" d=\"M 67.52 214.208  L 67.52 134.848  \" style=\"fill:none;stroke:#000000;stroke-linecap:square;\"/>\n",
       "   </g>\n",
       "   <g id=\"line2d_6\">\n",
       "    <path clip-path=\"url(#p9714850f54)\" d=\"M 176.64 179.488  L 177.350005 169.804668  \" style=\"fill:none;stroke:#000000;stroke-linecap:square;\"/>\n",
       "   </g>\n",
       "   <g id=\"line2d_7\">\n",
       "    <path clip-path=\"url(#p9714850f54)\" d=\"M 154.639839 209.248  L 154.639839 139.808  \" style=\"fill:none;stroke:#000000;stroke-linecap:square;\"/>\n",
       "   </g>\n",
       "   <g id=\"text_1\">\n",
       "    <!-- $L\\textsubscript{jp}$ -->\n",
       "    <g transform=\"translate(225.601389 118.976)scale(0.14 -0.14)\">\n",
       "     <defs>\n",
       "      <path d=\"M 36.703125 60.3125  C 37.59375 64.09375 37.90625 65.09375 46.703125 65.09375  C 49.40625 65.09375 50.09375 65.09375 50.09375 66.984375  C 50.09375 68 49 68 48.59375 68  C 46.59375 68 44.296875 67.796875 42.296875 67.796875  L 28.90625 67.796875  C 27 67.796875 24.796875 68 22.90625 68  C 22.09375 68 21 68 21 66.09375  C 21 65.09375 21.90625 65.09375 23.40625 65.09375  C 29.5 65.09375 29.5 64.296875 29.5 63.203125  C 29.5 63 29.5 62.40625 29.09375 60.90625  L 15.59375 7.375  C 14.703125 3.890625 14.5 2.890625 7.5 2.890625  C 5.59375 2.890625 4.59375 2.890625 4.59375 1.09375  C 4.59375 0 5.203125 0 7.203125 0  L 52 0  C 54.203125 0 54.296875 0.09375 55 1.890625  L 62.703125 23.09375  C 62.90625 23.59375 63.09375 24.1875 63.09375 24.484375  C 63.09375 25.078125 62.59375 25.484375 62.09375 25.484375  C 62 25.484375 61.5 25.484375 61.296875 25.078125  C 61.09375 24.984375 61.09375 24.78125 60.296875 22.890625  C 57.09375 14.140625 52.59375 2.890625 35.703125 2.890625  L 26.09375 2.890625  C 24.703125 2.890625 24.5 2.890625 23.90625 2.984375  C 22.796875 3.09375 22.703125 3.296875 22.703125 4.09375  C 22.703125 4.78125 22.90625 5.375 23.09375 6.28125  z \" id=\"CMMI12-76\"/>\n",
       "      <path d=\"M 17.40625 66  L 9 66  L 9 57.59375  L 17.40625 57.59375  z M -5.796875 -16.609375  C -2.609375 -18.609375 1.296875 -20 5.5 -20  C 11.796875 -20 17.40625 -14.609375 17.40625 -5.75  L 17.40625 43  L 10 43  L 10 -6.640625  C 10 -12.71875 5.40625 -13.609375 2.796875 -13.609375  C 0.59375 -13.609375 -2 -12.90625 -4.296875 -10.53125  z \" id=\"CMSS17-106\"/>\n",
       "      <path d=\"M 15.09375 4.296875  C 18.40625 1.09375 22.90625 -1 27.703125 -1  C 37 -1 45 8.640625 45 21.59375  C 45 33.546875 39 44 30.40625 44  C 25.40625 44 19.40625 42.1875 14.90625 38.59375  L 14.90625 43.1875  L 7.5 43.1875  L 7.5 -20  L 15.09375 -20  z M 15.09375 32.625  C 15.90625 33.84375 19.296875 37.6875 24.796875 37.6875  C 31.796875 37.6875 37.40625 30.40625 37.40625 21.59375  C 37.40625 11.578125 30.59375 5.09375 23.90625 5.09375  C 21.90625 5.09375 19.796875 5.59375 17.796875 7.3125  C 15.09375 9.75 15.09375 11.265625 15.09375 12.6875  z \" id=\"CMSS17-112\"/>\n",
       "     </defs>\n",
       "     <use transform=\"scale(0.996264)\" xlink:href=\"#CMMI12-76\"/>\n",
       "     <use transform=\"translate(66.370875 -14.943915)scale(0.697382)\" xlink:href=\"#CMSS17-106\"/>\n",
       "     <use transform=\"translate(83.718952 -14.943915)scale(0.697382)\" xlink:href=\"#CMSS17-112\"/>\n",
       "    </g>\n",
       "   </g>\n",
       "   <g id=\"text_2\">\n",
       "    <!-- $D\\textsubscript{in}$ -->\n",
       "    <g transform=\"translate(93.312 174.528)scale(0.14 -0.14)\">\n",
       "     <defs>\n",
       "      <path d=\"M 15.703125 7.375  C 14.796875 3.890625 14.59375 2.890625 7.59375 2.890625  C 5.703125 2.890625 4.703125 2.890625 4.703125 1.09375  C 4.703125 0 5.296875 0 7.296875 0  L 39 0  C 59.203125 0 78.90625 20.8125 78.90625 43  C 78.90625 57.328125 70.296875 68 56 68  L 23.90625 68  C 22 68 21.09375 68 21.09375 66.09375  C 21.09375 65.09375 22 65.09375 23.5 65.09375  C 29.59375 65.09375 29.59375 64.296875 29.59375 63.203125  C 29.59375 63 29.59375 62.40625 29.203125 60.90625  z M 36.796875 61.203125  C 37.703125 64.890625 38.09375 65.09375 42 65.09375  L 53 65.09375  C 62.40625 65.09375 71 60.015625 71 46.28125  C 71 41.3125 69 23.984375 59.296875 13.046875  C 56.5 9.765625 48.90625 2.890625 37.40625 2.890625  L 26 2.890625  C 24.59375 2.890625 24.40625 2.890625 23.796875 2.984375  C 22.703125 3.09375 22.59375 3.296875 22.59375 4.09375  C 22.59375 4.78125 22.796875 5.375 23 6.28125  z \" id=\"CMMI12-68\"/>\n",
       "      <path d=\"M 15.296875 66  L 6.90625 66  L 6.90625 57.59375  L 15.296875 57.59375  z M 14.796875 43  L 7.40625 43  L 7.40625 0  L 14.796875 0  z \" id=\"CMSS17-105\"/>\n",
       "      <path d=\"M 40.90625 29.34375  C 40.90625 35.671875 39.40625 44 28.09375 44  C 21.703125 44 17.5 40.6875 14.703125 37.28125  L 14.703125 43.484375  L 7.40625 43.484375  L 7.40625 0  L 15 0  L 15 24.3125  C 15 30.65625 17.40625 37.890625 24.203125 37.890625  C 33 37.890625 33.296875 31.953125 33.296875 28.53125  L 33.296875 0  L 40.90625 0  z \" id=\"CMSS17-110\"/>\n",
       "     </defs>\n",
       "     <use transform=\"scale(0.996264)\" xlink:href=\"#CMMI12-68\"/>\n",
       "     <use transform=\"translate(83.703948 -14.943915)scale(0.697382)\" xlink:href=\"#CMSS17-105\"/>\n",
       "     <use transform=\"translate(99.230379 -14.943915)scale(0.697382)\" xlink:href=\"#CMSS17-110\"/>\n",
       "    </g>\n",
       "   </g>\n",
       "   <g id=\"text_3\">\n",
       "    <!-- $D\\textsubscript{out}$ -->\n",
       "    <g transform=\"translate(406.784 174.528)scale(0.14 -0.14)\">\n",
       "     <defs>\n",
       "      <path d=\"M 44.203125 21.1875  C 44.203125 33.984375 34.703125 44 23.5 44  C 12 44 2.703125 33.6875 2.703125 21.1875  C 2.703125 8.5 12.296875 -1 23.40625 -1  C 34.796875 -1 44.203125 8.796875 44.203125 21.1875  z M 23.5 5.296875  C 16.40625 5.296875 10.296875 11.09375 10.296875 21.984375  C 10.296875 33.59375 17.40625 37.890625 23.40625 37.890625  C 29.90625 37.890625 36.59375 33.1875 36.59375 21.984375  C 36.59375 10.6875 30.09375 5.296875 23.5 5.296875  z \" id=\"CMSS17-111\"/>\n",
       "      <path d=\"M 40.90625 43  L 33.296875 43  L 33.296875 15.25  C 33.296875 7.8125 27.90625 4.796875 22.203125 4.796875  C 15.59375 4.796875 15 7 15 11.125  L 15 43  L 7.40625 43  L 7.40625 10.625  C 7.40625 2.796875 10.09375 -1 17 -1  C 20.40625 -1 28.09375 -0.203125 33.5 4.796875  L 33.5 -0.203125  L 40.90625 -0.203125  z \" id=\"CMSS17-117\"/>\n",
       "      <path d=\"M 16.703125 37.1875  L 29.703125 37.1875  L 29.703125 43  L 16.703125 43  L 16.703125 55  L 9.59375 55  L 9.59375 43  L 1.703125 43  L 1.703125 37.1875  L 9.40625 37.1875  L 9.40625 11.734375  C 9.40625 6 10.703125 -1 17.296875 -1  C 22.296875 -1 26.90625 0.390625 31.296875 2.6875  L 29.703125 8.609375  C 27.296875 6.5 24.40625 5.296875 21.296875 5.296875  C 16.90625 5.296875 16.703125 10.921875 16.703125 13.4375  z \" id=\"CMSS17-116\"/>\n",
       "     </defs>\n",
       "     <use transform=\"scale(0.996264)\" xlink:href=\"#CMMI12-68\"/>\n",
       "     <use transform=\"translate(83.703948 -14.943915)scale(0.697382)\" xlink:href=\"#CMSS17-111\"/>\n",
       "     <use transform=\"translate(116.494329 -14.943915)scale(0.697382)\" xlink:href=\"#CMSS17-117\"/>\n",
       "     <use transform=\"translate(150.237634 -14.943915)scale(0.697382)\" xlink:href=\"#CMSS17-116\"/>\n",
       "    </g>\n",
       "   </g>\n",
       "   <g id=\"text_4\">\n",
       "    <!-- $D\\textsubscript{t}$ -->\n",
       "    <g transform=\"translate(218.304 174.528)scale(0.14 -0.14)\">\n",
       "     <use transform=\"scale(0.996264)\" xlink:href=\"#CMMI12-68\"/>\n",
       "     <use transform=\"translate(83.703948 -14.943915)scale(0.697382)\" xlink:href=\"#CMSS17-116\"/>\n",
       "    </g>\n",
       "   </g>\n",
       "   <g id=\"text_5\">\n",
       "    <!-- $D$ -->\n",
       "    <g transform=\"translate(62.132808 174.528)scale(0.14 -0.14)\">\n",
       "     <use transform=\"scale(0.996264)\" xlink:href=\"#CMMI12-68\"/>\n",
       "    </g>\n",
       "   </g>\n",
       "   <g id=\"text_6\">\n",
       "    <!-- $D\\textsubscript{n}$ -->\n",
       "    <g transform=\"translate(182.931067 175.081581)scale(0.14 -0.14)\">\n",
       "     <use transform=\"scale(0.996264)\" xlink:href=\"#CMMI12-68\"/>\n",
       "     <use transform=\"translate(83.703948 -14.943915)scale(0.697382)\" xlink:href=\"#CMSS17-110\"/>\n",
       "    </g>\n",
       "   </g>\n",
       "   <g id=\"text_7\">\n",
       "    <!-- $D\\textsubscript{mix}$ -->\n",
       "    <g transform=\"translate(133.881867 174.528)scale(0.14 -0.14)\">\n",
       "     <defs>\n",
       "      <path d=\"M 67 29.34375  C 67 36.078125 65.296875 44 54.09375 44  C 46.59375 44 42.09375 39.296875 40.09375 36.375  C 38.296875 41.6875 34.09375 44 28.09375 44  C 21.296875 44 17 40.09375 14.703125 37.28125  L 14.703125 43.484375  L 7.40625 43.484375  L 7.40625 0  L 15 0  L 15 24.3125  C 15 30.25 17.203125 37.890625 24.296875 37.890625  C 33.40625 37.890625 33.40625 31.453125 33.40625 28.53125  L 33.40625 0  L 41 0  L 41 24.3125  C 41 30.25 43.203125 37.890625 50.296875 37.890625  C 59.40625 37.890625 59.40625 31.453125 59.40625 28.53125  L 59.40625 0  L 67 0  z \" id=\"CMSS17-109\"/>\n",
       "      <path d=\"M 24.796875 22.1875  L 41.5 43  L 32.796875 43  L 21.296875 27.890625  L 9.40625 43  L 0.5 43  L 17.796875 22.1875  L 0 0  L 8.796875 0  L 21.296875 17.59375  L 34.296875 0  L 43.09375 0  z \" id=\"CMSS17-120\"/>\n",
       "     </defs>\n",
       "     <use transform=\"scale(0.996264)\" xlink:href=\"#CMMI12-68\"/>\n",
       "     <use transform=\"translate(83.703948 -14.943915)scale(0.697382)\" xlink:href=\"#CMSS17-109\"/>\n",
       "     <use transform=\"translate(135.664187 -14.943915)scale(0.697382)\" xlink:href=\"#CMSS17-105\"/>\n",
       "     <use transform=\"translate(151.190619 -14.943915)scale(0.697382)\" xlink:href=\"#CMSS17-120\"/>\n",
       "    </g>\n",
       "   </g>\n",
       "  </g>\n",
       " </g>\n",
       " <defs>\n",
       "  <clipPath id=\"p9714850f54\">\n",
       "   <rect height=\"198.4\" width=\"357.12\" x=\"57.6\" y=\"75.328\"/>\n",
       "  </clipPath>\n",
       " </defs>\n",
       " <defs>\n",
       "  <pattern height=\"72\" id=\"hd98014152b\" patternUnits=\"userSpaceOnUse\" width=\"72\" x=\"0\" y=\"0\">\n",
       "   <rect fill=\"#ffffff\" height=\"73\" width=\"73\" x=\"0\" y=\"0\"/>\n",
       "   <path d=\"M -36 36  L 36 -36  M -24 48  L 48 -24  M -12 60  L 60 -12  M 0 72  L 72 0  M 12 84  L 84 12  M 24 96  L 96 24  M 36 108  L 108 36  \" style=\"fill:#0000ff;stroke:#0000ff;stroke-linecap:butt;stroke-linejoin:miter;stroke-width:1.0;\"/>\n",
       "  </pattern>\n",
       " </defs>\n",
       "</svg>"
      ],
      "text/plain": [
       "<IPython.core.display.SVG object>"
      ]
     },
     "metadata": {},
     "output_type": "display_data"
    }
   ],
   "source": [
    "display(SVG(Sketch.matplotlib2SVG()))"
   ]
  },
  {
   "cell_type": "code",
   "execution_count": 15,
   "metadata": {},
   "outputs": [
    {
     "data": {
      "text/plain": [
       "\"Point at (1,6.5)\""
      ]
     },
     "execution_count": 15,
     "metadata": {},
     "output_type": "execute_result"
    }
   ],
   "source": [
    "sketch.container['P21'] "
   ]
  },
  {
   "cell_type": "code",
   "execution_count": 16,
   "metadata": {},
   "outputs": [
    {
     "data": {
      "text/plain": [
       "\"Point at (14.8,6.5)\""
      ]
     },
     "execution_count": 16,
     "metadata": {},
     "output_type": "execute_result"
    }
   ],
   "source": [
    "sketch.container['P22'] "
   ]
  },
  {
   "cell_type": "code",
   "execution_count": 17,
   "metadata": {},
   "outputs": [
    {
     "data": {
      "text/plain": [
       "\"Point at (14.8,6)\""
      ]
     },
     "execution_count": 17,
     "metadata": {},
     "output_type": "execute_result"
    }
   ],
   "source": [
    "sketch.container['P23'] "
   ]
  },
  {
   "cell_type": "code",
   "execution_count": 18,
   "metadata": {},
   "outputs": [
    {
     "data": {
      "text/plain": [
       "\"Point at (11.8,5.33333)\""
      ]
     },
     "execution_count": 18,
     "metadata": {},
     "output_type": "execute_result"
    }
   ],
   "source": [
    "sketch.container['P24'] "
   ]
  },
  {
   "cell_type": "code",
   "execution_count": null,
   "metadata": {},
   "outputs": [],
   "source": [
    "sketch.container['P25'] "
   ]
  },
  {
   "cell_type": "code",
   "execution_count": null,
   "metadata": {},
   "outputs": [],
   "source": [
    "sketch.container['P26'] "
   ]
  },
  {
   "cell_type": "code",
   "execution_count": null,
   "metadata": {},
   "outputs": [],
   "source": [
    "sketch.container['P27'] "
   ]
  },
  {
   "cell_type": "code",
   "execution_count": null,
   "metadata": {},
   "outputs": [],
   "source": [
    "sketch.container['part2'].x"
   ]
  },
  {
   "cell_type": "code",
   "execution_count": null,
   "metadata": {},
   "outputs": [],
   "source": [
    "sketch.container['part2'].y"
   ]
  },
  {
   "cell_type": "code",
   "execution_count": null,
   "metadata": {},
   "outputs": [],
   "source": []
  }
 ],
 "metadata": {
  "kernelspec": {
   "display_name": "Python 3",
   "language": "python",
   "name": "python3"
  },
  "language_info": {
   "codemirror_mode": {
    "name": "ipython",
    "version": 3
   },
   "file_extension": ".py",
   "mimetype": "text/x-python",
   "name": "python",
   "nbconvert_exporter": "python",
   "pygments_lexer": "ipython3",
   "version": "3.8.5"
  }
 },
 "nbformat": 4,
 "nbformat_minor": 4
}
