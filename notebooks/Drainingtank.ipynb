{
 "cells": [
  {
   "cell_type": "code",
   "execution_count": 1,
   "metadata": {},
   "outputs": [],
   "source": [
    "%matplotlib widget"
   ]
  },
  {
   "cell_type": "code",
   "execution_count": 2,
   "metadata": {},
   "outputs": [],
   "source": [
    "from pysketcher import *"
   ]
  },
  {
   "cell_type": "code",
   "execution_count": 3,
   "metadata": {},
   "outputs": [],
   "source": [
    "from IPython.display import HTML, SVG, display, clear_output"
   ]
  },
  {
   "cell_type": "code",
   "execution_count": 4,
   "metadata": {},
   "outputs": [],
   "source": [
    "myfig={}\n",
    "sketch = Sketch(myfig)"
   ]
  },
  {
   "cell_type": "code",
   "execution_count": 5,
   "metadata": {},
   "outputs": [
    {
     "data": {
      "text/plain": [
       "True"
      ]
     },
     "execution_count": 5,
     "metadata": {},
     "output_type": "execute_result"
    }
   ],
   "source": [
    "sketch.file2Sketch(\"drainingtank.yml\")"
   ]
  },
  {
   "cell_type": "code",
   "execution_count": 6,
   "metadata": {},
   "outputs": [
    {
     "data": {
      "text/plain": [
       "{\n",
       "'frame': {\n",
       "    'shell': {\n",
       "        'rectangle': \"5 (x,y) coords linecolor='k' linewidth=2\",},\n",
       "    'tube': {\n",
       "        'rectangle': \"5 (x,y) coords linecolor='k' linewidth=2\",},},\n",
       "'contenu': {\n",
       "    'interieur': {\n",
       "        'rectangle': \"5 (x,y) coords linecolor='b' linewidth=1 fillcolor='b' fillpattern=''\",},\n",
       "    'vidange': {\n",
       "        'rectangle': \"5 (x,y) coords linecolor='b' linewidth=2 fillcolor='b' fillpattern=''\",},},\n",
       "'dim': {\n",
       "    'hauteur': {\n",
       "        'arrow': {\n",
       "            'arrow': {\n",
       "                'line': \"2 (x,y) coords linecolor='k' linewidth=1 arrow='<->'\",},},\n",
       "        'text': \"Text at (-0.776,0)\",},\n",
       "    'hc': {\n",
       "        'arrow': {\n",
       "            'arrow': {\n",
       "                'line': \"2 (x,y) coords linecolor='k' linewidth=1 arrow='<->'\",},},\n",
       "        'text': \"Text at (-1.21,-0.5)\",},\n",
       "    'largeur': {\n",
       "        'arrow': {\n",
       "            'arrow': {\n",
       "                'line': \"2 (x,y) coords linecolor='k' linewidth=1 arrow='<->'\",},},\n",
       "        'text': \"Text at (0,1.27)\",},},\n",
       "'jet': \"20 (x,y) coords linecolor='blue' linewidth=2\",}"
      ]
     },
     "execution_count": 6,
     "metadata": {},
     "output_type": "execute_result"
    }
   ],
   "source": [
    "sketch.container['tank'].draw()"
   ]
  },
  {
   "cell_type": "code",
   "execution_count": 7,
   "metadata": {},
   "outputs": [
    {
     "data": {
      "image/svg+xml": [
       "<svg xmlns=\"http://www.w3.org/2000/svg\" xmlns:xlink=\"http://www.w3.org/1999/xlink\" height=\"345.6pt\" version=\"1.1\" viewBox=\"0 0 460.8 345.6\" width=\"460.8pt\">\n",
       " <metadata>\n",
       "  <rdf:RDF xmlns:cc=\"http://creativecommons.org/ns#\" xmlns:dc=\"http://purl.org/dc/elements/1.1/\" xmlns:rdf=\"http://www.w3.org/1999/02/22-rdf-syntax-ns#\">\n",
       "   <cc:Work>\n",
       "    <dc:type rdf:resource=\"http://purl.org/dc/dcmitype/StillImage\"/>\n",
       "    <dc:date>2020-09-14T16:23:37.005883</dc:date>\n",
       "    <dc:format>image/svg+xml</dc:format>\n",
       "    <dc:creator>\n",
       "     <cc:Agent>\n",
       "      <dc:title>Matplotlib v3.3.1, https://matplotlib.org/</dc:title>\n",
       "     </cc:Agent>\n",
       "    </dc:creator>\n",
       "   </cc:Work>\n",
       "  </rdf:RDF>\n",
       " </metadata>\n",
       " <defs>\n",
       "  <style type=\"text/css\">*{stroke-linecap:butt;stroke-linejoin:round;}</style>\n",
       " </defs>\n",
       " <g id=\"figure_1\">\n",
       "  <g id=\"patch_1\">\n",
       "   <path d=\"M 0 345.6  L 460.8 345.6  L 460.8 0  L 0 0  z \" style=\"fill:#ffffff;\"/>\n",
       "  </g>\n",
       "  <g id=\"axes_1\">\n",
       "   <g id=\"patch_2\">\n",
       "    <path clip-path=\"url(#pc3b1cf2cd4)\" d=\"M 143.68608 241.056  L 208.88352 241.056  L 208.88352 174.528  L 143.68608 174.528  z \" style=\"fill:#0000ff;stroke:#0000ff;stroke-linejoin:miter;\"/>\n",
       "   </g>\n",
       "   <g id=\"patch_3\">\n",
       "    <path clip-path=\"url(#pc3b1cf2cd4)\" d=\"M 209.5488 233.73792  L 222.8544 233.73792  L 222.8544 231.74208  L 209.5488 231.74208  z \" style=\"fill:#0000ff;stroke:#0000ff;stroke-linejoin:miter;stroke-width:2;\"/>\n",
       "   </g>\n",
       "   <g id=\"patch_4\">\n",
       "    <path clip-path=\"url(#pc3b1cf2cd4)\" d=\"M 133.0416 241.056  L 131.29524 235.81692  L 133.008336 235.81692  L 133.008336 108  L 133.074864 108  L 133.074864 235.81692  L 134.78796 235.81692  z \" style=\"stroke:#000000;stroke-linejoin:miter;\"/>\n",
       "   </g>\n",
       "   <g id=\"patch_5\">\n",
       "    <path clip-path=\"url(#pc3b1cf2cd4)\" d=\"M 133.0416 108  L 134.78796 113.23908  L 133.074864 113.23908  L 133.074864 241.056  L 133.008336 241.056  L 133.008336 113.23908  L 131.29524 113.23908  z \" style=\"stroke:#000000;stroke-linejoin:miter;\"/>\n",
       "   </g>\n",
       "   <g id=\"patch_6\">\n",
       "    <path clip-path=\"url(#pc3b1cf2cd4)\" d=\"M 109.7568 241.056  L 108.01044 235.81692  L 109.723536 235.81692  L 109.723536 174.528  L 109.790064 174.528  L 109.790064 235.81692  L 111.50316 235.81692  z \" style=\"stroke:#000000;stroke-linejoin:miter;\"/>\n",
       "   </g>\n",
       "   <g id=\"patch_7\">\n",
       "    <path clip-path=\"url(#pc3b1cf2cd4)\" d=\"M 109.7568 174.528  L 111.50316 179.76708  L 109.790064 179.76708  L 109.790064 241.056  L 109.723536 241.056  L 109.723536 179.76708  L 108.01044 179.76708  z \" style=\"stroke:#000000;stroke-linejoin:miter;\"/>\n",
       "   </g>\n",
       "   <g id=\"patch_8\">\n",
       "    <path clip-path=\"url(#pc3b1cf2cd4)\" d=\"M 209.5488 94.6944  L 204.30972 96.44076  L 204.30972 94.727664  L 143.0208 94.727664  L 143.0208 94.661136  L 204.30972 94.661136  L 204.30972 92.94804  z \" style=\"stroke:#000000;stroke-linejoin:miter;\"/>\n",
       "   </g>\n",
       "   <g id=\"patch_9\">\n",
       "    <path clip-path=\"url(#pc3b1cf2cd4)\" d=\"M 143.0208 94.6944  L 148.25988 92.94804  L 148.25988 94.661136  L 209.5488 94.661136  L 209.5488 94.727664  L 148.25988 94.727664  L 148.25988 96.44076  z \" style=\"stroke:#000000;stroke-linejoin:miter;\"/>\n",
       "   </g>\n",
       "   <g id=\"line2d_1\">\n",
       "    <path clip-path=\"url(#pc3b1cf2cd4)\" d=\"M 143.0208 241.056  L 209.5488 241.056  L 209.5488 108  L 143.0208 108  L 143.0208 241.056  \" style=\"fill:none;stroke:#000000;stroke-linecap:square;stroke-width:2;\"/>\n",
       "   </g>\n",
       "   <g id=\"line2d_2\">\n",
       "    <path clip-path=\"url(#pc3b1cf2cd4)\" d=\"M 209.5488 234.4032  L 222.8544 234.4032  L 222.8544 231.0768  L 209.5488 231.0768  L 209.5488 234.4032  \" style=\"fill:none;stroke:#000000;stroke-linecap:square;stroke-width:2;\"/>\n",
       "   </g>\n",
       "   <g id=\"line2d_3\">\n",
       "    <path clip-path=\"url(#pc3b1cf2cd4)\" d=\"M 133.0416 241.056  L 133.0416 108  \" style=\"fill:none;stroke:#000000;stroke-linecap:square;\"/>\n",
       "   </g>\n",
       "   <g id=\"line2d_4\">\n",
       "    <path clip-path=\"url(#pc3b1cf2cd4)\" d=\"M 109.7568 241.056  L 109.7568 174.528  \" style=\"fill:none;stroke:#000000;stroke-linecap:square;\"/>\n",
       "   </g>\n",
       "   <g id=\"line2d_5\">\n",
       "    <path clip-path=\"url(#pc3b1cf2cd4)\" d=\"M 209.5488 94.6944  L 143.0208 94.6944  \" style=\"fill:none;stroke:#000000;stroke-linecap:square;\"/>\n",
       "   </g>\n",
       "   <g id=\"line2d_6\">\n",
       "    <path clip-path=\"url(#pc3b1cf2cd4)\" d=\"M 222.8544 232.74  L 229.857347 232.944765  L 236.860295 233.559058  L 243.863242 234.582881  L 250.866189 236.016233  L 257.869137 237.859114  L 264.872084 240.111524  L 271.875032 242.773463  L 278.877979 245.844931  L 285.880926 249.325928  L 292.883874 253.216454  L 299.886821 257.51651  L 306.889768 262.226094  L 313.892716 267.345208  L 320.895663 272.87385  L 327.898611 278.812022  L 334.901558 285.159723  L 341.904505 291.916953  L 348.907453 299.083712  L 355.9104 306.66  \" style=\"fill:none;stroke:#0000ff;stroke-linecap:square;stroke-width:2;\"/>\n",
       "   </g>\n",
       "   <g id=\"text_1\">\n",
       "    <!-- $H$ -->\n",
       "    <g transform=\"translate(113.343595 174.528)scale(0.14 -0.14)\">\n",
       "     <defs>\n",
       "      <path d=\"M 74.796875 60.734375  C 75.703125 64.109375 75.90625 65.109375 83 65.109375  C 84.796875 65.109375 85.796875 65.109375 85.796875 66.90625  C 85.796875 68 84.90625 68 84.296875 68  C 82.5 68 80.40625 68 78.5 68  L 66.703125 68  C 64.796875 68 62.703125 68 60.796875 68  C 60.09375 68 58.90625 68 58.90625 66.109375  C 58.90625 65.109375 59.59375 65.109375 61.5 65.109375  C 67.5 65.109375 67.5 64.3125 67.5 63.21875  C 67.5 63.03125 67.5 62.421875 67.09375 60.9375  L 61 36.890625  L 30.796875 36.890625  L 36.796875 60.734375  C 37.703125 64.109375 37.90625 65.109375 45 65.109375  C 46.796875 65.109375 47.796875 65.109375 47.796875 66.90625  C 47.796875 68 46.90625 68 46.296875 68  C 44.5 68 42.40625 68 40.5 68  L 28.703125 68  C 26.796875 68 24.703125 68 22.796875 68  C 22.09375 68 20.90625 68 20.90625 66.109375  C 20.90625 65.109375 21.59375 65.109375 23.5 65.109375  C 29.5 65.109375 29.5 64.3125 29.5 63.21875  C 29.5 63.03125 29.5 62.421875 29.09375 60.921875  L 15.59375 7.375  C 14.703125 3.890625 14.5 2.890625 7.59375 2.890625  C 5.296875 2.890625 4.59375 2.890625 4.59375 1  C 4.59375 0 5.703125 0 6 0  C 7.796875 0 9.90625 0 11.796875 0  L 23.59375 0  C 25.5 0 27.59375 0 29.5 0  C 30.296875 0 31.40625 0 31.40625 1.890625  C 31.40625 2.890625 30.5 2.890625 29 2.890625  C 22.90625 2.890625 22.90625 3.6875 22.90625 4.6875  C 22.90625 4.796875 22.90625 5.484375 23.09375 6.28125  L 30 34  L 60.296875 34  C 58.59375 27.390625 53.5 6.5 53.296875 5.875  C 52.203125 2.890625 50.59375 2.890625 44.703125 2.890625  C 43.5 2.890625 42.59375 2.890625 42.59375 1  C 42.59375 0 43.703125 0 44 0  C 45.796875 0 47.90625 0 49.796875 0  L 61.59375 0  C 63.5 0 65.59375 0 67.5 0  C 68.296875 0 69.40625 0 69.40625 1.890625  C 69.40625 2.890625 68.5 2.890625 67 2.890625  C 60.90625 2.890625 60.90625 3.6875 60.90625 4.6875  C 60.90625 4.796875 60.90625 5.484375 61.09375 6.28125  z \" id=\"CMMI12-72\"/>\n",
       "     </defs>\n",
       "     <use transform=\"scale(0.996264)\" xlink:href=\"#CMMI12-72\"/>\n",
       "    </g>\n",
       "   </g>\n",
       "   <g id=\"text_2\">\n",
       "    <!-- $h$ -->\n",
       "    <g transform=\"translate(87.924273 207.792)scale(0.14 -0.14)\">\n",
       "     <defs>\n",
       "      <path d=\"M 28.09375 66.515625  C 28.203125 66.921875 28.40625 67.515625 28.40625 68  C 28.40625 69 27.40625 69 27.203125 69  C 27.09375 69 22.203125 68.5625 21.703125 68.4375  C 20 68.328125 18.5 68.09375 16.703125 68.09375  C 14.203125 67.890625 13.5 67.796875 13.5 66  C 13.5 65 14.296875 65 15.703125 65  C 20.59375 65 20.703125 64.109375 20.703125 63.125  C 20.703125 62.53125 20.5 61.734375 20.40625 61.4375  L 5.90625 3.875  C 5.5 2.375 5.5 2.1875 5.5 1.578125  C 5.5 -0.59375 7.203125 -1 8.203125 -1  C 9.90625 -1 11.203125 0.296875 11.703125 1.390625  L 16.203125 19.453125  C 16.703125 21.65625 17.296875 23.75 17.796875 25.9375  C 18.90625 30.140625 18.90625 30.234375 20.796875 33.125  C 22.703125 36.015625 27.203125 42.015625 34.90625 42.015625  C 38.90625 42.015625 40.296875 39.015625 40.296875 35.03125  C 40.296875 29.4375 36.40625 18.5625 34.203125 12.578125  C 33.296875 10.171875 32.796875 8.875 32.796875 7.078125  C 32.796875 2.59375 35.90625 -1 40.703125 -1  C 50 -1 53.5 13.671875 53.5 14.265625  C 53.5 14.765625 53.09375 15.171875 52.5 15.171875  C 51.59375 15.171875 51.5 14.875 51 13.171875  C 48.703125 5.1875 45 1 41 1  C 40 1 38.40625 1 38.40625 4.203125  C 38.40625 6.8125 39.59375 10 40 11.09375  C 41.796875 15.90625 46.296875 27.703125 46.296875 33.515625  C 46.296875 39.5 42.796875 44 35.203125 44  C 29.5 44 24.5 41.3125 20.40625 36.125  z \" id=\"CMMI12-104\"/>\n",
       "     </defs>\n",
       "     <use transform=\"scale(0.996264)\" xlink:href=\"#CMMI12-104\"/>\n",
       "    </g>\n",
       "   </g>\n",
       "   <g id=\"text_3\">\n",
       "    <!-- $l$ -->\n",
       "    <g transform=\"translate(176.2848 90.03744)scale(0.14 -0.14)\">\n",
       "     <defs>\n",
       "      <path d=\"M 25.40625 66.515625  C 25.5 66.90625 25.703125 67.5 25.703125 68  C 25.703125 69 24.703125 69 24.5 69  C 24.40625 69 20.796875 68.640625 19 68.390625  C 17.296875 68.390625 15.796875 68.09375 14 68.09375  C 11.59375 67.890625 10.90625 67.796875 10.90625 66  C 10.90625 65 11.90625 65 12.90625 65  C 18 65 18 64.09375 18 63.109375  C 18 62.71875 18 62.515625 17.5 60.734375  L 5.09375 11.421875  C 4.796875 10.328125 4.59375 9.53125 4.59375 7.953125  C 4.59375 2.984375 8.296875 -1 13.40625 -1  C 16.703125 -1 18.90625 1.1875 20.5 4.28125  C 22.203125 7.546875 23.59375 13.8125 23.59375 14.203125  C 23.59375 14.703125 23.203125 15.109375 22.59375 15.109375  C 21.703125 15.109375 21.59375 14.609375 21.203125 13.125  C 19.40625 6.265625 17.59375 1 13.59375 1  C 10.59375 1 10.59375 4.171875 10.59375 5.578125  C 10.59375 5.96875 10.59375 8.046875 11.296875 10.84375  z \" id=\"CMMI12-108\"/>\n",
       "     </defs>\n",
       "     <use transform=\"scale(0.996264)\" xlink:href=\"#CMMI12-108\"/>\n",
       "    </g>\n",
       "   </g>\n",
       "  </g>\n",
       " </g>\n",
       " <defs>\n",
       "  <clipPath id=\"pc3b1cf2cd4\">\n",
       "   <rect height=\"266.112\" width=\"279.4176\" x=\"96.4512\" y=\"41.472\"/>\n",
       "  </clipPath>\n",
       " </defs>\n",
       "</svg>"
      ],
      "text/plain": [
       "<IPython.core.display.SVG object>"
      ]
     },
     "metadata": {},
     "output_type": "display_data"
    }
   ],
   "source": [
    "display(SVG(Sketch.matplotlib2SVG()))"
   ]
  },
  {
   "cell_type": "code",
   "execution_count": 8,
   "metadata": {},
   "outputs": [
    {
     "data": {
      "text/plain": [
       "\"interieur = Rectangle( point(-(l/2)+e,-(H/2)), l-2*e, h)\\ninterieur.set_linecolor('blue')\\ninterieur.set_linewidth(1)\\ninterieur.set_filled_curves(color='blue')\\n\""
      ]
     },
     "execution_count": 8,
     "metadata": {},
     "output_type": "execute_result"
    }
   ],
   "source": [
    "sketch.container['formulas']['interieur']"
   ]
  },
  {
   "cell_type": "code",
   "execution_count": 9,
   "metadata": {},
   "outputs": [],
   "source": [
    "sketch.container['h'] =1.5"
   ]
  },
  {
   "cell_type": "code",
   "execution_count": 10,
   "metadata": {},
   "outputs": [],
   "source": [
    "exec(sketch.container['formulas']['interieur'],sketch.container)\n",
    "exec(sketch.container['formulas']['contenu'],sketch.container)\n",
    "exec(sketch.container['formulas']['tank'],sketch.container)"
   ]
  },
  {
   "cell_type": "code",
   "execution_count": 11,
   "metadata": {},
   "outputs": [],
   "source": [
    "drawing_tool.erase()"
   ]
  },
  {
   "cell_type": "code",
   "execution_count": 12,
   "metadata": {},
   "outputs": [
    {
     "data": {
      "text/plain": [
       "{\n",
       "'frame': {\n",
       "    'shell': {\n",
       "        'rectangle': \"5 (x,y) coords linecolor='k' linewidth=2\",},\n",
       "    'tube': {\n",
       "        'rectangle': \"5 (x,y) coords linecolor='k' linewidth=2\",},},\n",
       "'contenu': {\n",
       "    'interieur': {\n",
       "        'rectangle': \"5 (x,y) coords linecolor='b' linewidth=1 fillcolor='b' fillpattern=''\",},\n",
       "    'vidange': {\n",
       "        'rectangle': \"5 (x,y) coords linecolor='b' linewidth=2 fillcolor='b' fillpattern=''\",},},\n",
       "'dim': {\n",
       "    'hauteur': {\n",
       "        'arrow': {\n",
       "            'arrow': {\n",
       "                'line': \"2 (x,y) coords linecolor='k' linewidth=1 arrow='<->'\",},},\n",
       "        'text': \"Text at (-0.776,0)\",},\n",
       "    'hc': {\n",
       "        'arrow': {\n",
       "            'arrow': {\n",
       "                'line': \"2 (x,y) coords linecolor='k' linewidth=1 arrow='<->'\",},},\n",
       "        'text': \"Text at (-1.21,-0.5)\",},\n",
       "    'largeur': {\n",
       "        'arrow': {\n",
       "            'arrow': {\n",
       "                'line': \"2 (x,y) coords linecolor='k' linewidth=1 arrow='<->'\",},},\n",
       "        'text': \"Text at (0,1.27)\",},},\n",
       "'jet': \"20 (x,y) coords linecolor='blue' linewidth=2\",}"
      ]
     },
     "execution_count": 12,
     "metadata": {},
     "output_type": "execute_result"
    }
   ],
   "source": [
    "sketch.container['tank'].draw()"
   ]
  },
  {
   "cell_type": "code",
   "execution_count": 13,
   "metadata": {},
   "outputs": [
    {
     "data": {
      "image/svg+xml": [
       "<svg xmlns=\"http://www.w3.org/2000/svg\" xmlns:xlink=\"http://www.w3.org/1999/xlink\" height=\"345.6pt\" version=\"1.1\" viewBox=\"0 0 460.8 345.6\" width=\"460.8pt\">\n",
       " <metadata>\n",
       "  <rdf:RDF xmlns:cc=\"http://creativecommons.org/ns#\" xmlns:dc=\"http://purl.org/dc/elements/1.1/\" xmlns:rdf=\"http://www.w3.org/1999/02/22-rdf-syntax-ns#\">\n",
       "   <cc:Work>\n",
       "    <dc:type rdf:resource=\"http://purl.org/dc/dcmitype/StillImage\"/>\n",
       "    <dc:date>2020-09-14T16:23:39.431457</dc:date>\n",
       "    <dc:format>image/svg+xml</dc:format>\n",
       "    <dc:creator>\n",
       "     <cc:Agent>\n",
       "      <dc:title>Matplotlib v3.3.1, https://matplotlib.org/</dc:title>\n",
       "     </cc:Agent>\n",
       "    </dc:creator>\n",
       "   </cc:Work>\n",
       "  </rdf:RDF>\n",
       " </metadata>\n",
       " <defs>\n",
       "  <style type=\"text/css\">*{stroke-linecap:butt;stroke-linejoin:round;}</style>\n",
       " </defs>\n",
       " <g id=\"figure_1\">\n",
       "  <g id=\"patch_1\">\n",
       "   <path d=\"M 0 345.6  L 460.8 345.6  L 460.8 0  L 0 0  z \" style=\"fill:#ffffff;\"/>\n",
       "  </g>\n",
       "  <g id=\"axes_1\">\n",
       "   <g id=\"patch_2\">\n",
       "    <path clip-path=\"url(#p1adca23648)\" d=\"M 143.68608 241.056  L 208.88352 241.056  L 208.88352 141.264  L 143.68608 141.264  z \" style=\"fill:#0000ff;stroke:#0000ff;stroke-linejoin:miter;\"/>\n",
       "   </g>\n",
       "   <g id=\"patch_3\">\n",
       "    <path clip-path=\"url(#p1adca23648)\" d=\"M 209.5488 233.73792  L 222.8544 233.73792  L 222.8544 231.74208  L 209.5488 231.74208  z \" style=\"fill:#0000ff;stroke:#0000ff;stroke-linejoin:miter;stroke-width:2;\"/>\n",
       "   </g>\n",
       "   <g id=\"patch_4\">\n",
       "    <path clip-path=\"url(#p1adca23648)\" d=\"M 133.0416 241.056  L 131.29524 235.81692  L 133.008336 235.81692  L 133.008336 108  L 133.074864 108  L 133.074864 235.81692  L 134.78796 235.81692  z \" style=\"stroke:#000000;stroke-linejoin:miter;\"/>\n",
       "   </g>\n",
       "   <g id=\"patch_5\">\n",
       "    <path clip-path=\"url(#p1adca23648)\" d=\"M 133.0416 108  L 134.78796 113.23908  L 133.074864 113.23908  L 133.074864 241.056  L 133.008336 241.056  L 133.008336 113.23908  L 131.29524 113.23908  z \" style=\"stroke:#000000;stroke-linejoin:miter;\"/>\n",
       "   </g>\n",
       "   <g id=\"patch_6\">\n",
       "    <path clip-path=\"url(#p1adca23648)\" d=\"M 109.7568 241.056  L 108.01044 235.81692  L 109.723536 235.81692  L 109.723536 174.528  L 109.790064 174.528  L 109.790064 235.81692  L 111.50316 235.81692  z \" style=\"stroke:#000000;stroke-linejoin:miter;\"/>\n",
       "   </g>\n",
       "   <g id=\"patch_7\">\n",
       "    <path clip-path=\"url(#p1adca23648)\" d=\"M 109.7568 174.528  L 111.50316 179.76708  L 109.790064 179.76708  L 109.790064 241.056  L 109.723536 241.056  L 109.723536 179.76708  L 108.01044 179.76708  z \" style=\"stroke:#000000;stroke-linejoin:miter;\"/>\n",
       "   </g>\n",
       "   <g id=\"patch_8\">\n",
       "    <path clip-path=\"url(#p1adca23648)\" d=\"M 209.5488 94.6944  L 204.30972 96.44076  L 204.30972 94.727664  L 143.0208 94.727664  L 143.0208 94.661136  L 204.30972 94.661136  L 204.30972 92.94804  z \" style=\"stroke:#000000;stroke-linejoin:miter;\"/>\n",
       "   </g>\n",
       "   <g id=\"patch_9\">\n",
       "    <path clip-path=\"url(#p1adca23648)\" d=\"M 143.0208 94.6944  L 148.25988 92.94804  L 148.25988 94.661136  L 209.5488 94.661136  L 209.5488 94.727664  L 148.25988 94.727664  L 148.25988 96.44076  z \" style=\"stroke:#000000;stroke-linejoin:miter;\"/>\n",
       "   </g>\n",
       "   <g id=\"line2d_1\">\n",
       "    <path clip-path=\"url(#p1adca23648)\" d=\"M 143.0208 241.056  L 209.5488 241.056  L 209.5488 108  L 143.0208 108  L 143.0208 241.056  \" style=\"fill:none;stroke:#000000;stroke-linecap:square;stroke-width:2;\"/>\n",
       "   </g>\n",
       "   <g id=\"line2d_2\">\n",
       "    <path clip-path=\"url(#p1adca23648)\" d=\"M 209.5488 234.4032  L 222.8544 234.4032  L 222.8544 231.0768  L 209.5488 231.0768  L 209.5488 234.4032  \" style=\"fill:none;stroke:#000000;stroke-linecap:square;stroke-width:2;\"/>\n",
       "   </g>\n",
       "   <g id=\"line2d_3\">\n",
       "    <path clip-path=\"url(#p1adca23648)\" d=\"M 133.0416 241.056  L 133.0416 108  \" style=\"fill:none;stroke:#000000;stroke-linecap:square;\"/>\n",
       "   </g>\n",
       "   <g id=\"line2d_4\">\n",
       "    <path clip-path=\"url(#p1adca23648)\" d=\"M 109.7568 241.056  L 109.7568 174.528  \" style=\"fill:none;stroke:#000000;stroke-linecap:square;\"/>\n",
       "   </g>\n",
       "   <g id=\"line2d_5\">\n",
       "    <path clip-path=\"url(#p1adca23648)\" d=\"M 209.5488 94.6944  L 143.0208 94.6944  \" style=\"fill:none;stroke:#000000;stroke-linecap:square;\"/>\n",
       "   </g>\n",
       "   <g id=\"line2d_6\">\n",
       "    <path clip-path=\"url(#p1adca23648)\" d=\"M 222.8544 232.74  L 229.857347 232.944765  L 236.860295 233.559058  L 243.863242 234.582881  L 250.866189 236.016233  L 257.869137 237.859114  L 264.872084 240.111524  L 271.875032 242.773463  L 278.877979 245.844931  L 285.880926 249.325928  L 292.883874 253.216454  L 299.886821 257.51651  L 306.889768 262.226094  L 313.892716 267.345208  L 320.895663 272.87385  L 327.898611 278.812022  L 334.901558 285.159723  L 341.904505 291.916953  L 348.907453 299.083712  L 355.9104 306.66  \" style=\"fill:none;stroke:#0000ff;stroke-linecap:square;stroke-width:2;\"/>\n",
       "   </g>\n",
       "   <g id=\"text_1\">\n",
       "    <!-- $H$ -->\n",
       "    <g transform=\"translate(113.343595 174.528)scale(0.14 -0.14)\">\n",
       "     <defs>\n",
       "      <path d=\"M 74.796875 60.734375  C 75.703125 64.109375 75.90625 65.109375 83 65.109375  C 84.796875 65.109375 85.796875 65.109375 85.796875 66.90625  C 85.796875 68 84.90625 68 84.296875 68  C 82.5 68 80.40625 68 78.5 68  L 66.703125 68  C 64.796875 68 62.703125 68 60.796875 68  C 60.09375 68 58.90625 68 58.90625 66.109375  C 58.90625 65.109375 59.59375 65.109375 61.5 65.109375  C 67.5 65.109375 67.5 64.3125 67.5 63.21875  C 67.5 63.03125 67.5 62.421875 67.09375 60.9375  L 61 36.890625  L 30.796875 36.890625  L 36.796875 60.734375  C 37.703125 64.109375 37.90625 65.109375 45 65.109375  C 46.796875 65.109375 47.796875 65.109375 47.796875 66.90625  C 47.796875 68 46.90625 68 46.296875 68  C 44.5 68 42.40625 68 40.5 68  L 28.703125 68  C 26.796875 68 24.703125 68 22.796875 68  C 22.09375 68 20.90625 68 20.90625 66.109375  C 20.90625 65.109375 21.59375 65.109375 23.5 65.109375  C 29.5 65.109375 29.5 64.3125 29.5 63.21875  C 29.5 63.03125 29.5 62.421875 29.09375 60.921875  L 15.59375 7.375  C 14.703125 3.890625 14.5 2.890625 7.59375 2.890625  C 5.296875 2.890625 4.59375 2.890625 4.59375 1  C 4.59375 0 5.703125 0 6 0  C 7.796875 0 9.90625 0 11.796875 0  L 23.59375 0  C 25.5 0 27.59375 0 29.5 0  C 30.296875 0 31.40625 0 31.40625 1.890625  C 31.40625 2.890625 30.5 2.890625 29 2.890625  C 22.90625 2.890625 22.90625 3.6875 22.90625 4.6875  C 22.90625 4.796875 22.90625 5.484375 23.09375 6.28125  L 30 34  L 60.296875 34  C 58.59375 27.390625 53.5 6.5 53.296875 5.875  C 52.203125 2.890625 50.59375 2.890625 44.703125 2.890625  C 43.5 2.890625 42.59375 2.890625 42.59375 1  C 42.59375 0 43.703125 0 44 0  C 45.796875 0 47.90625 0 49.796875 0  L 61.59375 0  C 63.5 0 65.59375 0 67.5 0  C 68.296875 0 69.40625 0 69.40625 1.890625  C 69.40625 2.890625 68.5 2.890625 67 2.890625  C 60.90625 2.890625 60.90625 3.6875 60.90625 4.6875  C 60.90625 4.796875 60.90625 5.484375 61.09375 6.28125  z \" id=\"CMMI12-72\"/>\n",
       "     </defs>\n",
       "     <use transform=\"scale(0.996264)\" xlink:href=\"#CMMI12-72\"/>\n",
       "    </g>\n",
       "   </g>\n",
       "   <g id=\"text_2\">\n",
       "    <!-- $h$ -->\n",
       "    <g transform=\"translate(87.924273 207.792)scale(0.14 -0.14)\">\n",
       "     <defs>\n",
       "      <path d=\"M 28.09375 66.515625  C 28.203125 66.921875 28.40625 67.515625 28.40625 68  C 28.40625 69 27.40625 69 27.203125 69  C 27.09375 69 22.203125 68.5625 21.703125 68.4375  C 20 68.328125 18.5 68.09375 16.703125 68.09375  C 14.203125 67.890625 13.5 67.796875 13.5 66  C 13.5 65 14.296875 65 15.703125 65  C 20.59375 65 20.703125 64.109375 20.703125 63.125  C 20.703125 62.53125 20.5 61.734375 20.40625 61.4375  L 5.90625 3.875  C 5.5 2.375 5.5 2.1875 5.5 1.578125  C 5.5 -0.59375 7.203125 -1 8.203125 -1  C 9.90625 -1 11.203125 0.296875 11.703125 1.390625  L 16.203125 19.453125  C 16.703125 21.65625 17.296875 23.75 17.796875 25.9375  C 18.90625 30.140625 18.90625 30.234375 20.796875 33.125  C 22.703125 36.015625 27.203125 42.015625 34.90625 42.015625  C 38.90625 42.015625 40.296875 39.015625 40.296875 35.03125  C 40.296875 29.4375 36.40625 18.5625 34.203125 12.578125  C 33.296875 10.171875 32.796875 8.875 32.796875 7.078125  C 32.796875 2.59375 35.90625 -1 40.703125 -1  C 50 -1 53.5 13.671875 53.5 14.265625  C 53.5 14.765625 53.09375 15.171875 52.5 15.171875  C 51.59375 15.171875 51.5 14.875 51 13.171875  C 48.703125 5.1875 45 1 41 1  C 40 1 38.40625 1 38.40625 4.203125  C 38.40625 6.8125 39.59375 10 40 11.09375  C 41.796875 15.90625 46.296875 27.703125 46.296875 33.515625  C 46.296875 39.5 42.796875 44 35.203125 44  C 29.5 44 24.5 41.3125 20.40625 36.125  z \" id=\"CMMI12-104\"/>\n",
       "     </defs>\n",
       "     <use transform=\"scale(0.996264)\" xlink:href=\"#CMMI12-104\"/>\n",
       "    </g>\n",
       "   </g>\n",
       "   <g id=\"text_3\">\n",
       "    <!-- $l$ -->\n",
       "    <g transform=\"translate(176.2848 90.03744)scale(0.14 -0.14)\">\n",
       "     <defs>\n",
       "      <path d=\"M 25.40625 66.515625  C 25.5 66.90625 25.703125 67.5 25.703125 68  C 25.703125 69 24.703125 69 24.5 69  C 24.40625 69 20.796875 68.640625 19 68.390625  C 17.296875 68.390625 15.796875 68.09375 14 68.09375  C 11.59375 67.890625 10.90625 67.796875 10.90625 66  C 10.90625 65 11.90625 65 12.90625 65  C 18 65 18 64.09375 18 63.109375  C 18 62.71875 18 62.515625 17.5 60.734375  L 5.09375 11.421875  C 4.796875 10.328125 4.59375 9.53125 4.59375 7.953125  C 4.59375 2.984375 8.296875 -1 13.40625 -1  C 16.703125 -1 18.90625 1.1875 20.5 4.28125  C 22.203125 7.546875 23.59375 13.8125 23.59375 14.203125  C 23.59375 14.703125 23.203125 15.109375 22.59375 15.109375  C 21.703125 15.109375 21.59375 14.609375 21.203125 13.125  C 19.40625 6.265625 17.59375 1 13.59375 1  C 10.59375 1 10.59375 4.171875 10.59375 5.578125  C 10.59375 5.96875 10.59375 8.046875 11.296875 10.84375  z \" id=\"CMMI12-108\"/>\n",
       "     </defs>\n",
       "     <use transform=\"scale(0.996264)\" xlink:href=\"#CMMI12-108\"/>\n",
       "    </g>\n",
       "   </g>\n",
       "  </g>\n",
       " </g>\n",
       " <defs>\n",
       "  <clipPath id=\"p1adca23648\">\n",
       "   <rect height=\"266.112\" width=\"279.4176\" x=\"96.4512\" y=\"41.472\"/>\n",
       "  </clipPath>\n",
       " </defs>\n",
       "</svg>"
      ],
      "text/plain": [
       "<IPython.core.display.SVG object>"
      ]
     },
     "metadata": {},
     "output_type": "display_data"
    }
   ],
   "source": [
    "display(SVG(Sketch.matplotlib2SVG()))"
   ]
  },
  {
   "cell_type": "code",
   "execution_count": 14,
   "metadata": {},
   "outputs": [
    {
     "data": {
      "text/plain": [
       "b\"!!omap\\n- name: tank\\n- parts:\\n  - name: head\\n    shapes:\\n      libraries: ['from math import sqrt, tan, radians, degrees, sin, cos, atan2,\\n          pi', import numpy as np, from pysketcher import *]\\n  - name: constants\\n    shapes:           # MKS system in use\\n      H: 2.0          # Total Tank heigth\\n      l: 1.0          # Tank width\\n      ratio: 0.3      # ratio (elipsis small radius = 30% of big radius)\\n      d_l: 0.2        # draining tub length\\n      d_d: 0.05       # draining tube diameter\\n      d_o: 0.1        # tube offset from tank base\\n      e: 0.01         # for filling effect\\n      g: 9.81         # gravity constant \\n  - name: variables\\n    shapes:\\n      h: 1.0          # Current tank heigth\\n      V: sqrt(2*g*(h-d_o))\\n      X: np.linspace(0.0, 2.0, 20)\\n      Y: -g/2*(X/V)**2\\n  - name: frame\\n    shapes:\\n      setframe:\\n        action: drawing_tool.set_coordinate_system(xmin=-l*1.2, xmax=l*3, ymin=-H,\\n          ymax= H, axis=False)\\n  - name: scene\\n    shapes:\\n      shell:\\n        formula: Rectangle( point(-(l/2),-(H/2)), l, H)\\n        style:\\n          linecolor: black\\n          linewidth: 2\\n      tube:\\n        formula: Rectangle( point( +(l/2), -(H/2)+d_o), d_l, d_d )\\n        style:\\n          linecolor: black\\n          linewidth: 2\\n      interieur:\\n        formula: Rectangle( point(-(l/2)+e,-(H/2)), l-2*e, h)\\n        style:\\n          linecolor: blue\\n          linewidth: 1\\n          filled_curves:\\n            color: blue\\n      vidange:\\n        formula: Rectangle( point( +(l/2), -(H/2)+d_o+e), d_l, d_d-2*e )\\n        style:\\n          linecolor: blue\\n          linewidth: 2\\n          filled_curves:\\n            color: blue\\n      hauteur:\\n        formula: Distance_wText(Point(-(l/2)*1.3,-(H/2)),Point(-(l/2)*1.3,H/2),r'$H$',\\n          alignment = 'right', text_spacing=-0.03)\\n        style:\\n          linecolor: black\\n          linewidth: 1\\n      hc:\\n        formula: Distance_wText(Point(-(l/2)*2,-(H/2)),Point(-(l/2)*2,h-(H/2)),r'$h$',\\n          alignment = 'right', text_spacing=-0.05)\\n        style:\\n          linecolor: black\\n          linewidth: 1\\n      largeur:\\n        formula: Distance_wText(Point(-(l/2),+(H/2)*1.2),Point((l/2),(H/2)*1.2),r'$l$',\\n          alignment = 'left', text_spacing=1/60)\\n        style:\\n          linecolor: black\\n          linewidth: 1\\n      jet:\\n        formula: Curve(X+(l/2+d_l),Y-(H/2)+d_o+d_d/2)\\n        style:\\n          linecolor: blue\\n          linewidth: 2\\n      contenu: |\\n        Composition({ 'interieur': interieur, 'vidange': vidange})\\n      frame: |\\n        Composition({ 'shell':shell, 'tube': tube })\\n      dim: |\\n        Composition({ 'hauteur': hauteur, 'hc': hc, 'largeur': largeur})\\n      tank: |-\\n        Composition({ 'frame':frame, 'contenu': contenu, 'dim':dim, 'jet':jet })\\n\""
      ]
     },
     "execution_count": 14,
     "metadata": {},
     "output_type": "execute_result"
    }
   ],
   "source": [
    "sketch.sketch2String()"
   ]
  },
  {
   "cell_type": "code",
   "execution_count": 15,
   "metadata": {},
   "outputs": [],
   "source": [
    "from ipywidgets import interact"
   ]
  },
  {
   "cell_type": "code",
   "execution_count": 16,
   "metadata": {},
   "outputs": [
    {
     "data": {
      "application/vnd.jupyter.widget-view+json": {
       "model_id": "52ea2e5a7bb846a58412931cd91f152a",
       "version_major": 2,
       "version_minor": 0
      },
      "text/plain": [
       "interactive(children=(FloatSlider(value=0.91, description='h', max=2.0, min=0.01), Output()), _dom_classes=('w…"
      ]
     },
     "metadata": {},
     "output_type": "display_data"
    }
   ],
   "source": [
    "@interact(h=(0.01,2.0,0.1))\n",
    "def tank(h):\n",
    "    sketch.container['h'] = h\n",
    "    sketch.refresh('interieur')\n",
    "    sketch.refresh('contenu')\n",
    "    sketch.refresh('hc')\n",
    "    sketch.refresh('V')\n",
    "    sketch.refresh('Y')\n",
    "    sketch.refresh('jet')\n",
    "    sketch.refresh('dim')\n",
    "    sketch.refresh('tank')\n",
    "    drawing_tool.erase()\n",
    "    sketch.container['tank'].draw()\n",
    "    display(SVG(Sketch.matplotlib2SVG()))"
   ]
  },
  {
   "cell_type": "code",
   "execution_count": null,
   "metadata": {},
   "outputs": [],
   "source": [
    "import numpy as np"
   ]
  },
  {
   "cell_type": "code",
   "execution_count": null,
   "metadata": {},
   "outputs": [],
   "source": [
    "V = 2"
   ]
  },
  {
   "cell_type": "code",
   "execution_count": null,
   "metadata": {},
   "outputs": [],
   "source": [
    "g=9.81"
   ]
  },
  {
   "cell_type": "code",
   "execution_count": null,
   "metadata": {},
   "outputs": [],
   "source": [
    "X = np.linspace(0.0, 1.0, 10)"
   ]
  },
  {
   "cell_type": "code",
   "execution_count": null,
   "metadata": {},
   "outputs": [],
   "source": [
    "Y = -g*(X /V)**2"
   ]
  },
  {
   "cell_type": "code",
   "execution_count": null,
   "metadata": {},
   "outputs": [],
   "source": [
    "Y"
   ]
  },
  {
   "cell_type": "code",
   "execution_count": null,
   "metadata": {},
   "outputs": [],
   "source": [
    "X + 0.1"
   ]
  }
 ],
 "metadata": {
  "kernelspec": {
   "display_name": "Python 3",
   "language": "python",
   "name": "python3"
  },
  "language_info": {
   "codemirror_mode": {
    "name": "ipython",
    "version": 3
   },
   "file_extension": ".py",
   "mimetype": "text/x-python",
   "name": "python",
   "nbconvert_exporter": "python",
   "pygments_lexer": "ipython3",
   "version": "3.8.2"
  }
 },
 "nbformat": 4,
 "nbformat_minor": 4
}
