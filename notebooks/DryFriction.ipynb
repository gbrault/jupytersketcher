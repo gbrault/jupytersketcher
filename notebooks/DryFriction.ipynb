{
 "cells": [
  {
   "cell_type": "markdown",
   "metadata": {},
   "source": [
    "# Dry Friction mockup"
   ]
  },
  {
   "cell_type": "markdown",
   "metadata": {},
   "source": [
    "## Content"
   ]
  },
  {
   "cell_type": "markdown",
   "metadata": {},
   "source": [
    "- [Libraries](#Libraries)\n",
    "- [Sketch container](#Sketch-container)\n",
    "- [Sketch Parts yaml definition](#Sketch-Parts-yaml-definition)\n",
    "- [Read yaml sketch definition, draw it](#Read-yaml-sketch-definition,-draw-it)\n",
    "- [Simulate sketch rotation](#Simulate-sketch-rotation)\n",
    "- [Sketch composition](#Sketch-composition)\n",
    "- [Sketch serialization](#Sketch-serialization)"
   ]
  },
  {
   "cell_type": "markdown",
   "metadata": {},
   "source": [
    "## Libraries"
   ]
  },
  {
   "cell_type": "markdown",
   "metadata": {},
   "source": [
    "[home](#Content)"
   ]
  },
  {
   "cell_type": "code",
   "execution_count": 1,
   "metadata": {},
   "outputs": [],
   "source": [
    "%matplotlib widget"
   ]
  },
  {
   "cell_type": "markdown",
   "metadata": {},
   "source": [
    "import matplotlib as mpl\n",
    "mpl.rc('text', usetex = True)\n",
    "mpl.rc('font', family = 'serif')"
   ]
  },
  {
   "cell_type": "code",
   "execution_count": 2,
   "metadata": {},
   "outputs": [],
   "source": [
    "import time"
   ]
  },
  {
   "cell_type": "code",
   "execution_count": 3,
   "metadata": {},
   "outputs": [],
   "source": [
    "from pysketcher import *"
   ]
  },
  {
   "cell_type": "code",
   "execution_count": 4,
   "metadata": {},
   "outputs": [],
   "source": [
    "from ipywidgets import FloatSlider, AppLayout, Label, HBox, Button, Output"
   ]
  },
  {
   "cell_type": "code",
   "execution_count": 5,
   "metadata": {},
   "outputs": [],
   "source": [
    "from IPython.display import HTML, SVG, display, clear_output"
   ]
  },
  {
   "cell_type": "code",
   "execution_count": 6,
   "metadata": {},
   "outputs": [],
   "source": [
    "from math import tan, radians, sin, cos"
   ]
  },
  {
   "cell_type": "markdown",
   "metadata": {},
   "source": [
    "## Sketch container"
   ]
  },
  {
   "cell_type": "markdown",
   "metadata": {},
   "source": [
    "[home](#Table-of-Content)"
   ]
  },
  {
   "cell_type": "code",
   "execution_count": 7,
   "metadata": {},
   "outputs": [],
   "source": [
    "myfig={}\n",
    "sketch = Sketch(myfig)"
   ]
  },
  {
   "cell_type": "markdown",
   "metadata": {},
   "source": [
    "## Sketch Parts yaml definition"
   ]
  },
  {
   "cell_type": "markdown",
   "metadata": {},
   "source": [
    "[home](#Content)"
   ]
  },
  {
   "cell_type": "code",
   "execution_count": 8,
   "metadata": {},
   "outputs": [],
   "source": [
    "libraries = \"\"\"\\\n",
    "name: head\n",
    "shapes:\n",
    "    libraries: [\"from math import tan, radians, sin, cos\",\"from pysketcher import *\"]\n",
    "\"\"\""
   ]
  },
  {
   "cell_type": "code",
   "execution_count": 9,
   "metadata": {},
   "outputs": [],
   "source": [
    "constants = \"\"\"\\\n",
    "name: constants\n",
    "shapes:\n",
    "    fontsize: 18         # size of the characters\n",
    "    g: 9.81              # constant gravity\n",
    "    theta: 30.0          # inclined plane angle\n",
    "    L: 10.0              # sketch sizing parameter\n",
    "    a: 1.0               #\n",
    "    xmin: 0.0            # sketech min Abscissa\n",
    "    ymin: -3.0           # sketech min Ordinate     \n",
    "    rl: 2.0              # rectangle width\n",
    "    rL: 1.0              # rectangle length\n",
    "\"\"\""
   ]
  },
  {
   "cell_type": "code",
   "execution_count": 10,
   "metadata": {},
   "outputs": [],
   "source": [
    "frame = \"\"\"\\\n",
    "name: frame\n",
    "shapes:\n",
    "    setframe:            # sketch setup\n",
    "        action: \"drawing_tool.set_coordinate_system(xmin=xmin-L/5, xmax=xmin+1.5*L,ymin=ymin, ymax=ymin+1.5*L,instruction_file='tmp_mpl_friction.py')\"\n",
    "    setblackline:        # default frame values and actions\n",
    "        action: \"drawing_tool.set_linecolor('black')\"\n",
    "    B: point(a+L,0)                      # wall right end\n",
    "    A: point(a,tan(radians(theta))*L)    # wall left end\n",
    "    normal_vec: point(sin(radians(theta)),cos(radians(theta)))     # Vector normal to wall\n",
    "    tangent_vec: point(cos(radians(theta)),-sin(radians(theta)))   # Vector tangent to wall\n",
    "    help_line: Line(A,B)                 # wall line\n",
    "    x: a + 3*L/10.                       # contact point Abscissa\n",
    "    y: help_line(x=x)                    # contact point Ordinate\n",
    "    contact: point(x, y)                 # contact point: middle of the rectangle bottom edge\n",
    "    c: contact + rL/2*normal_vec\n",
    "\"\"\""
   ]
  },
  {
   "cell_type": "code",
   "execution_count": 11,
   "metadata": {},
   "outputs": [],
   "source": [
    "body = \"\"\"\\\n",
    "name: body\n",
    "shapes:\n",
    "    rectangle: \n",
    "        formula: Rectangle(contact, rl, rL)\n",
    "        style:\n",
    "            linecolor: blue\n",
    "            filled_curves: blue\n",
    "        transform: [\"rotate(-theta, contact)\",\n",
    "                    \"translate(-rl/2*tangent_vec)\"]\n",
    "    N: \n",
    "        formula: Force(contact - rl*normal_vec, contact, r'$N$', text_pos='start')\n",
    "        style:\n",
    "            linecolor: black\n",
    "    wheel: \n",
    "        formula: \"Composition({'outer': rectangle})\"   \n",
    "        style:\n",
    "            shadow: 1\n",
    "    mc:\n",
    "        formula: Text(r'$c$', c)\n",
    "    body: \n",
    "        formula: \"Composition({'wheel': wheel, 'N': N, 'mc': mc})\"\n",
    "        style:\n",
    "            linecolor: black\n",
    "\"\"\""
   ]
  },
  {
   "cell_type": "code",
   "execution_count": 12,
   "metadata": {},
   "outputs": [],
   "source": [
    "plan = \"\"\"\\\n",
    "name: plan\n",
    "shapes:\n",
    "    mB:\n",
    "        formula: Text(r'$B$',B)\n",
    "    mA:\n",
    "        formula: Text(r'$A$', A)\n",
    "    wall: \n",
    "        formula: Wall(x=[A[0], B[0]], y=[A[1], B[1]], thickness=-0.25,transparent=False)\n",
    "        style:\n",
    "            linecolor: black    \n",
    "    x_const: \n",
    "        formula: Line(contact, contact + point(0,4))\n",
    "        style:\n",
    "            linestyle: dotted\n",
    "        transform: rotate(-theta, contact)\n",
    "    x_axis: \n",
    "        formula: \"Axis(start=contact+ 2*rl*normal_vec, length=2*rl,label='$x$', rotation_angle=-theta)\"\n",
    "    plan: \n",
    "        formula: \"Composition({'body': body, 'inclined wall': wall, 'x start': x_const, 'x axis': x_axis, 'mA': mA, 'mB': mB})\"\n",
    "\"\"\""
   ]
  },
  {
   "cell_type": "code",
   "execution_count": 13,
   "metadata": {},
   "outputs": [],
   "source": [
    "friction = \"\"\"\\\n",
    "name: friction\n",
    "shapes:\n",
    "    mg: \n",
    "        formula: Gravity(c, rl, text='$Mg$')\n",
    "        style:\n",
    "            linecolor: black\n",
    "    angle: \n",
    "        formula: \"Arc_wText(r'$<bslash>theta$', center=B, radius=3, start_angle=180-theta, arc_angle=theta, fontsize=fontsize)\"\n",
    "        style:\n",
    "            linecolor: black\n",
    "            linewidth: 1\n",
    "    ground: \n",
    "         formula: Line((B[0]-L/10., 0), (B[0]-L/2.,0))\n",
    "         stlye:\n",
    "             linecolor: black\n",
    "             linestyle: dashed\n",
    "             linewidth: 1\n",
    "    friction: \n",
    "            formula: \"Composition({'plan': plan, 'ground': ground, 'mg': mg, 'angle': angle})\"\n",
    "\"\"\""
   ]
  },
  {
   "cell_type": "markdown",
   "metadata": {},
   "source": [
    "## Read yaml sketch definition, draw it"
   ]
  },
  {
   "cell_type": "markdown",
   "metadata": {},
   "source": [
    "[home](#Content)"
   ]
  },
  {
   "cell_type": "code",
   "execution_count": 14,
   "metadata": {},
   "outputs": [
    {
     "name": "stdout",
     "output_type": "stream",
     "text": [
      "success\n"
     ]
    }
   ],
   "source": [
    "if sketch.append(libraries):\n",
    "    if sketch.append(constants):\n",
    "        if sketch.append(frame):\n",
    "            if sketch.append(body):\n",
    "                if sketch.append(plan):\n",
    "                    if sketch.append(friction):\n",
    "                        print(\"success\")"
   ]
  },
  {
   "cell_type": "code",
   "execution_count": 31,
   "metadata": {},
   "outputs": [],
   "source": [
    "d = myfig['friction'].draw()"
   ]
  },
  {
   "cell_type": "code",
   "execution_count": 32,
   "metadata": {},
   "outputs": [],
   "source": [
    "drawing_tool.display()"
   ]
  },
  {
   "cell_type": "code",
   "execution_count": 33,
   "metadata": {},
   "outputs": [],
   "source": [
    "def doright(change):\n",
    "    rotate(-5)\n",
    "def doleft(change):\n",
    "    rotate(5)\n",
    "def rotate(theta):\n",
    "    angle = myfig['theta']\n",
    "    angle -= theta\n",
    "    myfig['theta'] = angle\n",
    "    drawing_tool.erase()\n",
    "    x = myfig['plan']['body']['mc'].x\n",
    "    y = myfig['plan']['body']['mc'].y\n",
    "    myfig['plan'].rotate(theta,myfig['B'])\n",
    "    xf = myfig['plan']['body']['mc'].x\n",
    "    yf = myfig['plan']['body']['mc'].y\n",
    "    trans = point(xf-x,yf-y)\n",
    "    myfig['angle'].changeAngle(180-angle, angle)\n",
    "    myfig['mg'].translate(trans)\n",
    "    myfig['friction'].draw()"
   ]
  },
  {
   "cell_type": "code",
   "execution_count": 34,
   "metadata": {},
   "outputs": [],
   "source": [
    "left = Button(\n",
    "    description = '',\n",
    "    icon = 'rotate-left',\n",
    ")\n",
    "left.on_click(doleft)\n",
    "right = Button(\n",
    "    description = '',\n",
    "    icon = 'rotate-right',\n",
    ")\n",
    "right.on_click(doright)\n",
    "output = Output()"
   ]
  },
  {
   "cell_type": "code",
   "execution_count": 35,
   "metadata": {},
   "outputs": [],
   "source": [
    "applayout = AppLayout(\n",
    "    center=output,\n",
    "    footer=HBox([left,right]),\n",
    "    pane_heights=[0, 6, 1]\n",
    ")\n",
    "#drawing_tool.mpl.ion()"
   ]
  },
  {
   "cell_type": "code",
   "execution_count": 36,
   "metadata": {},
   "outputs": [
    {
     "data": {
      "application/vnd.jupyter.widget-view+json": {
       "model_id": "0e8043cce2174319a620f71c111dfc1a",
       "version_major": 2,
       "version_minor": 0
      },
      "text/plain": [
       "AppLayout(children=(HBox(children=(Button(icon='rotate-left', style=ButtonStyle()), Button(icon='rotate-right'…"
      ]
     },
     "metadata": {},
     "output_type": "display_data"
    }
   ],
   "source": [
    "applayout"
   ]
  },
  {
   "cell_type": "code",
   "execution_count": 37,
   "metadata": {},
   "outputs": [],
   "source": [
    "with output:\n",
    "    clear_output()\n",
    "    display(drawing_tool.mpl.gcf().canvas)"
   ]
  },
  {
   "cell_type": "markdown",
   "metadata": {},
   "source": [
    "### Turn it interactiv"
   ]
  },
  {
   "cell_type": "code",
   "execution_count": 39,
   "metadata": {},
   "outputs": [],
   "source": [
    "drawing_tool.mpl.ion()"
   ]
  },
  {
   "cell_type": "markdown",
   "metadata": {},
   "source": [
    "Use left and right rotation button to rotate the sketch"
   ]
  },
  {
   "cell_type": "markdown",
   "metadata": {},
   "source": [
    "## Simulate sketch rotation"
   ]
  },
  {
   "cell_type": "markdown",
   "metadata": {},
   "source": [
    "[home](#Content)"
   ]
  },
  {
   "cell_type": "markdown",
   "metadata": {},
   "source": [
    "### Using SVG"
   ]
  },
  {
   "cell_type": "code",
   "execution_count": 38,
   "metadata": {
    "tags": []
   },
   "outputs": [
    {
     "data": {
      "image/svg+xml": [
       "<svg xmlns=\"http://www.w3.org/2000/svg\" xmlns:xlink=\"http://www.w3.org/1999/xlink\" height=\"345.6pt\" version=\"1.1\" viewBox=\"0 0 460.8 345.6\" width=\"460.8pt\">\n",
       " <metadata>\n",
       "  <rdf:RDF xmlns:cc=\"http://creativecommons.org/ns#\" xmlns:dc=\"http://purl.org/dc/elements/1.1/\" xmlns:rdf=\"http://www.w3.org/1999/02/22-rdf-syntax-ns#\">\n",
       "   <cc:Work>\n",
       "    <dc:type rdf:resource=\"http://purl.org/dc/dcmitype/StillImage\"/>\n",
       "    <dc:date>2020-08-07T11:22:39.676334</dc:date>\n",
       "    <dc:format>image/svg+xml</dc:format>\n",
       "    <dc:creator>\n",
       "     <cc:Agent>\n",
       "      <dc:title>Matplotlib v3.3.0, https://matplotlib.org/</dc:title>\n",
       "     </cc:Agent>\n",
       "    </dc:creator>\n",
       "   </cc:Work>\n",
       "  </rdf:RDF>\n",
       " </metadata>\n",
       " <defs>\n",
       "  <style type=\"text/css\">*{stroke-linecap:butt;stroke-linejoin:round;}</style>\n",
       " </defs>\n",
       " <g id=\"figure_1\">\n",
       "  <g id=\"patch_1\">\n",
       "   <path d=\"M 0 345.6  L 460.8 345.6  L 460.8 0  L 0 0  z \" style=\"fill:#ffffff;\"/>\n",
       "  </g>\n",
       "  <g id=\"axes_1\">\n",
       "   <g id=\"line2d_1\">\n",
       "    <path clip-path=\"url(#p8e25fa3a5e)\" d=\"M 291.012284 98.671669  L 297.173599 133.614224  L 314.644876 130.533566  L 308.483561 95.591011  L 291.012284 98.671669  \" style=\"fill:none;stroke:#808080;stroke-linecap:square;stroke-width:2;\"/>\n",
       "   </g>\n",
       "   <g id=\"patch_2\">\n",
       "    <path clip-path=\"url(#p8e25fa3a5e)\" d=\"M 288.012284 95.671669  L 294.173599 130.614224  L 311.644876 127.533566  L 305.483561 92.591011  z \" style=\"fill:#0000ff;stroke:#000000;stroke-linejoin:miter;stroke-width:2;\"/>\n",
       "   </g>\n",
       "   <g id=\"patch_3\">\n",
       "    <path clip-path=\"url(#p8e25fa3a5e)\" d=\"M 291.092941 113.142946  L 285.851291 115.981229  L 285.525512 114.133641  L 256.151927 119.312997  L 256.148846 119.295526  L 285.522431 114.11617  L 285.196652 112.268583  z \" style=\"stroke:#000000;stroke-linejoin:miter;stroke-width:2;\"/>\n",
       "   </g>\n",
       "   <g id=\"patch_4\">\n",
       "    <path clip-path=\"url(#p8e25fa3a5e)\" d=\"M 280.42123 52.620666  L 315.9936 254.3616  L 312.59604 257.212492  L 277.02367 55.471558  z \" style=\"fill:url(#h44da2f16fc);stroke:#000000;stroke-linejoin:miter;stroke-width:2;\"/>\n",
       "   </g>\n",
       "   <g id=\"patch_5\">\n",
       "    <path clip-path=\"url(#p8e25fa3a5e)\" d=\"M 299.82858 147.084217  L 297.94362 141.429337  L 299.819709 141.429337  L 299.819709 111.602617  L 299.83745 111.602617  L 299.83745 141.429337  L 301.71354 141.429337  z \" style=\"stroke:#000000;stroke-linejoin:miter;stroke-width:2;\"/>\n",
       "   </g>\n",
       "   <g id=\"line2d_2\">\n",
       "    <path clip-path=\"url(#p8e25fa3a5e)\" d=\"M 256.150386 119.304261  L 291.092941 113.142946  \" style=\"fill:none;stroke:#000000;stroke-linecap:square;stroke-width:2;\"/>\n",
       "   </g>\n",
       "   <g id=\"line2d_3\">\n",
       "    <path clip-path=\"url(#p8e25fa3a5e)\" d=\"M 291.092941 113.142946  L 360.978051 100.820316  \" style=\"fill:none;stroke:#000000;stroke-dasharray:2,3.3;stroke-dashoffset:0;stroke-width:2;\"/>\n",
       "   </g>\n",
       "   <g id=\"line2d_4\">\n",
       "    <path clip-path=\"url(#p8e25fa3a5e)\" d=\"M 360.978051 100.820316  L 373.300681 170.705425  \" style=\"fill:none;stroke:#000000;stroke-linecap:square;stroke-width:2;\"/>\n",
       "   </g>\n",
       "   <g id=\"line2d_5\">\n",
       "    <path clip-path=\"url(#p8e25fa3a5e)\" d=\"M 375.363703 165.03732  L 373.300681 170.705425  \" style=\"fill:none;stroke:#000000;stroke-linecap:square;stroke-width:2;\"/>\n",
       "   </g>\n",
       "   <g id=\"line2d_6\">\n",
       "    <path clip-path=\"url(#p8e25fa3a5e)\" d=\"M 369.423468 166.084743  L 373.300681 170.705425  \" style=\"fill:none;stroke:#000000;stroke-linecap:square;stroke-width:2;\"/>\n",
       "   </g>\n",
       "   <g id=\"line2d_7\">\n",
       "    <path clip-path=\"url(#p8e25fa3a5e)\" d=\"M 298.2528 254.3616  L 227.2896 254.3616  \" style=\"fill:none;stroke:#000000;stroke-linecap:square;stroke-width:2;\"/>\n",
       "   </g>\n",
       "   <g id=\"line2d_8\">\n",
       "    <path clip-path=\"url(#p8e25fa3a5e)\" d=\"M 299.82858 111.602617  L 299.82858 147.084217  \" style=\"fill:none;stroke:#000000;stroke-linecap:square;stroke-width:2;\"/>\n",
       "   </g>\n",
       "   <g id=\"line2d_9\">\n",
       "    <path clip-path=\"url(#p8e25fa3a5e)\" d=\"M 306.751627 201.947768  L 303.518903 202.621811  L 300.334204 203.495038  L 297.209788 204.564087  L 294.157686 205.824844  L 291.189645 207.272454  L 288.317094 208.901344  L 285.551089 210.705244  L 282.90228 212.67721  L 280.380863 214.809649  L 277.996546 217.094352  L 275.758507 219.522524  L 273.675363 222.084818  L 271.755132 224.771368  L 270.005208 227.571833  L 268.432326 230.475431  L 267.042543 233.470984  L 265.841207 236.54696  L 264.832946 239.691518  L 264.021638 242.892552  L 263.410409 246.137739  L 263.001611 249.414585  L 262.796818 252.710476  L 262.7712 254.3616  L 262.7712 254.3616  \" style=\"fill:none;stroke:#000000;stroke-linecap:square;\"/>\n",
       "   </g>\n",
       "   <g id=\"text_1\">\n",
       "    <!-- $N$ -->\n",
       "    <g transform=\"translate(242.266996 120.788111)scale(0.14 -0.14)\">\n",
       "     <defs>\n",
       "      <path d=\"M 74 57.53125  C 75.09375 61.8125 76.703125 64.796875 84.296875 65.09375  C 84.59375 65.09375 85.796875 65.1875 85.796875 66.890625  C 85.796875 68 84.90625 68 84.5 68  C 82.5 68 77.40625 67.796875 75.40625 67.796875  L 70.59375 67.796875  C 69.203125 67.796875 67.40625 68 66 68  C 65.40625 68 64.203125 68 64.203125 66.09375  C 64.203125 65.09375 65 65.09375 65.703125 65.09375  C 71.703125 64.890625 72.09375 62.609375 72.09375 60.8125  C 72.09375 59.921875 72 59.625 71.703125 58.21875  L 60.40625 13.34375  L 39 66.296875  C 38.296875 67.890625 38.203125 68 36 68  L 23.796875 68  C 21.796875 68 20.90625 68 20.90625 66.09375  C 20.90625 65.09375 21.59375 65.09375 23.5 65.09375  C 24 65.09375 29.90625 65.09375 29.90625 64.203125  C 29.90625 64 29.703125 63.203125 29.59375 62.90625  L 16.296875 10.15625  C 15.09375 5.28125 12.703125 3.1875 6.09375 2.890625  C 5.59375 2.890625 4.59375 2.796875 4.59375 1  C 4.59375 0 5.59375 0 5.90625 0  C 7.90625 0 13 0.1875 15 0.1875  L 19.796875 0.1875  C 21.203125 0.1875 22.90625 0 24.296875 0  C 25 0 26.09375 0 26.09375 1.890625  C 26.09375 2.796875 25.09375 2.890625 24.703125 2.890625  C 21.40625 2.984375 18.203125 3.59375 18.203125 7.171875  C 18.203125 7.96875 18.40625 8.859375 18.59375 9.65625  L 32.09375 62.90625  C 32.703125 61.90625 32.703125 61.703125 33.09375 60.8125  L 56.90625 1.796875  C 57.40625 0.59375 57.59375 0 58.5 0  C 59.5 0 59.59375 0.296875 60 2  z \" id=\"CMMI12-78\"/>\n",
       "     </defs>\n",
       "     <use transform=\"scale(0.996264)\" xlink:href=\"#CMMI12-78\"/>\n",
       "    </g>\n",
       "   </g>\n",
       "   <g id=\"text_2\">\n",
       "    <!-- $c$ -->\n",
       "    <g transform=\"translate(296.889756 111.602617)scale(0.14 -0.14)\">\n",
       "     <defs>\n",
       "      <path d=\"M 39.09375 38  C 37.203125 38 36.296875 38 34.90625 36.796875  C 34.296875 36.296875 33.203125 34.796875 33.203125 33.1875  C 33.203125 31.1875 34.703125 29.984375 36.59375 29.984375  C 39 29.984375 41.703125 31.984375 41.703125 35.984375  C 41.703125 40.484375 37.09375 44 30.203125 44  C 17.09375 44 4 30.1875 4 15.796875  C 4 6.96875 9.40625 -1 19.59375 -1  C 33.203125 -1 41.796875 9.71875 41.796875 11.03125  C 41.796875 11.640625 41.203125 12.140625 40.796875 12.140625  C 40.5 12.140625 40.40625 12.046875 39.5 11.125  C 33.09375 2.515625 23.59375 1 19.796875 1  C 12.90625 1 10.703125 7.078125 10.703125 12.140625  C 10.703125 15.6875 12.40625 25.53125 16 32.390625  C 18.59375 37.09375 24 41.984375 30.296875 41.984375  C 31.59375 41.984375 37.09375 41.8125 39.09375 38  z \" id=\"CMMI12-99\"/>\n",
       "     </defs>\n",
       "     <use transform=\"scale(0.996264)\" xlink:href=\"#CMMI12-99\"/>\n",
       "    </g>\n",
       "   </g>\n",
       "   <g id=\"text_3\">\n",
       "    <!-- $x$ -->\n",
       "    <g transform=\"translate(370.584101 177.305686)scale(0.14 -0.14)\">\n",
       "     <defs>\n",
       "      <path d=\"M 47.40625 41  C 44.203125 40.390625 43 37.984375 43 36.09375  C 43 33.6875 44.90625 32.890625 46.296875 32.890625  C 49.296875 32.890625 51.40625 35.484375 51.40625 38.1875  C 51.40625 42.09375 46.59375 44 42.40625 44  C 36.296875 44 32.90625 38.296875 32 36.390625  C 29.703125 43.59375 23.5 44 21.703125 44  C 11.5 44 6.09375 31.140625 6.09375 28.890625  C 6.09375 28.484375 6.5 27.96875 7.203125 27.96875  C 8 27.96875 8.203125 28.578125 8.40625 28.984375  C 11.796875 40.1875 18.5 41.984375 21.40625 41.984375  C 25.90625 41.984375 26.796875 38.09375 26.796875 35.6875  C 26.796875 33.484375 26.203125 31.140625 25 26.21875  L 21.59375 12.15625  C 20.09375 6.09375 17.203125 1 11.90625 1  C 11.40625 1 8.90625 1 6.796875 1.96875  C 10.40625 2.59375 11.203125 5.59375 11.203125 6.796875  C 11.203125 8.796875 9.703125 10 7.796875 10  C 5.40625 10 2.796875 7.890625 2.796875 4.6875  C 2.796875 0.890625 7.5 -1 11.796875 -1  C 16.59375 -1 20 2.390625 22.09375 6.484375  C 23.703125 1 28.703125 -1 32.40625 -1  C 42.59375 -1 48 11.734375 48 14  C 48 14.515625 47.59375 14.921875 47 14.921875  C 46.09375 14.921875 46 14.40625 45.703125 13.59375  C 43 4.6875 37.203125 1 32.703125 1  C 29.203125 1 27.296875 3.1875 27.296875 7.296875  C 27.296875 9.484375 27.703125 11.125 29.296875 17.90625  L 32.796875 31.859375  C 34.296875 37.890625 37.703125 41.984375 42.296875 41.984375  C 42.5 41.984375 45.296875 41.984375 47.40625 41  z \" id=\"CMMI12-120\"/>\n",
       "     </defs>\n",
       "     <use transform=\"scale(0.996264)\" xlink:href=\"#CMMI12-120\"/>\n",
       "    </g>\n",
       "   </g>\n",
       "   <g id=\"text_4\">\n",
       "    <!-- $A$ -->\n",
       "    <g transform=\"translate(275.302281 52.620666)scale(0.14 -0.14)\">\n",
       "     <defs>\n",
       "      <path d=\"M 17 11.25  C 13.5 5.234375 10.09375 3.203125 5.296875 2.890625  C 4.203125 2.796875 3.40625 2.796875 3.40625 1  C 3.40625 0.390625 3.90625 0 4.59375 0  C 6.40625 0 10.90625 0.1875 12.703125 0.1875  C 15.59375 0.1875 18.796875 0 21.59375 0  C 22.203125 0 23.40625 0 23.40625 1.890625  C 23.40625 2.796875 22.59375 2.890625 22 2.890625  C 19.703125 3.09375 17.796875 3.90625 17.796875 6.359375  C 17.796875 7.78125 18.40625 8.90625 19.703125 11.15625  L 27.296875 24  L 52.796875 24  C 52.90625 23.078125 52.90625 22.265625 53 21.34375  C 53.296875 18.6875 54.5 8.09375 54.5 6.15625  C 54.5 3.09375 49.40625 2.890625 47.796875 2.890625  C 46.703125 2.890625 45.59375 2.890625 45.59375 1.09375  C 45.59375 0 46.5 0 47.09375 0  C 48.796875 0 50.796875 0.1875 52.5 0.1875  L 58.203125 0.1875  C 64.296875 0.1875 68.703125 0 68.796875 0  C 69.5 0 70.59375 0 70.59375 1.890625  C 70.59375 2.890625 69.703125 2.890625 68.203125 2.890625  C 62.703125 2.890625 62.59375 3.8125 62.296875 6.875  L 56.203125 68.796875  C 56 70.796875 55.59375 71 54.5 71  C 53.5 71 52.90625 70.796875 52 69.296875  z M 29 26.890625  L 49.09375 59.859375  L 52.5 26.890625  z \" id=\"CMMI12-65\"/>\n",
       "     </defs>\n",
       "     <use transform=\"scale(0.996264)\" xlink:href=\"#CMMI12-65\"/>\n",
       "    </g>\n",
       "   </g>\n",
       "   <g id=\"text_5\">\n",
       "    <!-- $B$ -->\n",
       "    <g transform=\"translate(310.806045 254.3616)scale(0.14 -0.14)\">\n",
       "     <defs>\n",
       "      <path d=\"M 36.59375 61.171875  C 37.5 64.890625 37.90625 65.09375 41.796875 65.09375  L 54.796875 65.09375  C 66.09375 65.09375 66.09375 55.421875 66.09375 54.515625  C 66.09375 46.359375 58 36 44.796875 36  L 30.40625 36  z M 53.5 35.1875  C 64.40625 37.203125 74.296875 44.859375 74.296875 54.109375  C 74.296875 61.96875 67.40625 68 56.09375 68  L 24 68  C 22.09375 68 21.203125 68 21.203125 66.09375  C 21.203125 65.09375 22.09375 65.09375 23.59375 65.09375  C 29.703125 65.09375 29.703125 64.28125 29.703125 63.171875  C 29.703125 62.984375 29.703125 62.375 29.296875 60.859375  L 15.796875 7.328125  C 14.90625 3.875 14.703125 2.890625 7.703125 2.890625  C 5.796875 2.890625 4.796875 2.890625 4.796875 1.09375  C 4.796875 0 5.40625 0 7.40625 0  L 41.703125 0  C 57 0 68.796875 11.453125 68.796875 21.390625  C 68.796875 29.46875 61.59375 34.390625 53.5 35.1875  z M 39.296875 2.890625  L 25.796875 2.890625  C 24.40625 2.890625 24.203125 2.890625 23.59375 2.984375  C 22.5 3.09375 22.40625 3.28125 22.40625 4.078125  C 22.40625 4.765625 22.59375 5.359375 22.796875 6.234375  L 29.796875 34  L 48.59375 34  C 60.40625 34 60.40625 23.171875 60.40625 22.375  C 60.40625 12.9375 51.703125 2.890625 39.296875 2.890625  z \" id=\"CMMI12-66\"/>\n",
       "     </defs>\n",
       "     <use transform=\"scale(0.996264)\" xlink:href=\"#CMMI12-66\"/>\n",
       "    </g>\n",
       "   </g>\n",
       "   <g id=\"text_6\">\n",
       "    <!-- $Mg$ -->\n",
       "    <g transform=\"translate(289.224219 155.629369)scale(0.14 -0.14)\">\n",
       "     <defs>\n",
       "      <path d=\"M 90.796875 60.71875  C 91.703125 64.09375 91.90625 65.09375 99 65.09375  C 100.90625 65.09375 101.796875 65.09375 101.796875 66.984375  C 101.796875 68 101.09375 68 99.203125 68  L 87.203125 68  C 84.703125 68 84.59375 67.890625 83.5 66.296875  L 47 8.859375  L 39.5 65.796875  C 39.203125 68 39.09375 68 36.5 68  L 24.09375 68  C 22.203125 68 21.296875 68 21.296875 66.09375  C 21.296875 65.09375 22.203125 65.09375 23.703125 65.09375  C 29.796875 65.09375 29.796875 64.296875 29.796875 63.203125  C 29.796875 63 29.796875 62.40625 29.40625 60.90625  L 16.59375 10.15625  C 15.40625 5.375 13.09375 3.1875 6.40625 2.890625  C 6.09375 2.890625 4.90625 2.796875 4.90625 1.09375  C 4.90625 0 5.796875 0 6.203125 0  C 8.203125 0 13.296875 0.1875 15.296875 0.1875  L 20.09375 0.1875  C 21.5 0.1875 23.203125 0 24.59375 0  C 25.296875 0 26.40625 0 26.40625 1.890625  C 26.40625 2.796875 25.40625 2.890625 25 2.890625  C 21.703125 2.984375 18.5 3.59375 18.5 7.171875  C 18.5 8.171875 18.5 8.265625 18.90625 9.65625  L 32.703125 64.5  L 32.796875 64.5  L 41.09375 2.6875  C 41.40625 0.296875 41.5 0 42.40625 0  C 43.5 0 44 0.796875 44.5 1.6875  L 84.703125 64.984375  L 84.796875 64.984375  L 70.296875 7.375  C 69.40625 3.890625 69.203125 2.890625 62.203125 2.890625  C 60.296875 2.890625 59.296875 2.890625 59.296875 1.09375  C 59.296875 0 60.203125 0 60.796875 0  C 62.5 0 64.5 0.1875 66.203125 0.1875  L 78 0.1875  C 79.703125 0.1875 81.796875 0 83.5 0  C 84.296875 0 85.40625 0 85.40625 1.890625  C 85.40625 2.890625 84.5 2.890625 83 2.890625  C 76.90625 2.890625 76.90625 3.6875 76.90625 4.6875  C 76.90625 4.78125 76.90625 5.484375 77.09375 6.28125  z \" id=\"CMMI12-77\"/>\n",
       "      <path d=\"M 33.796875 12.671875  C 33.40625 11.0625 33.203125 10.671875 31.90625 9.171875  C 27.796875 3.890625 23.59375 2 20.5 2  C 17.203125 2 14.09375 4.578125 14.09375 11.46875  C 14.09375 16.75 17.09375 27.921875 19.296875 32.421875  C 22.203125 38 26.703125 41.984375 30.90625 41.984375  C 37.5 41.984375 38.796875 33.8125 38.796875 33.21875  L 38.5 31.8125  z M 40 37.40625  C 38.703125 40.296875 35.90625 44 30.90625 44  C 20 44 7.59375 30.328125 7.59375 15.453125  C 7.59375 5.078125 13.90625 0 20.296875 0  C 25.59375 0 30.296875 4.1875 32.09375 6.1875  L 29.90625 -2.75  C 28.5 -8.125 27.90625 -10.578125 24.296875 -14  C 20.203125 -18 16.40625 -18 14.203125 -18  C 11.203125 -18 8.703125 -17.8125 6.203125 -17.03125  C 9.40625 -16.15625 10.203125 -13.40625 10.203125 -12.328125  C 10.203125 -10.765625 9 -9.203125 6.796875 -9.203125  C 4.40625 -9.203125 1.796875 -11.15625 1.796875 -14.390625  C 1.796875 -18.40625 5.90625 -20 14.40625 -20  C 27.296875 -20 34 -11.84375 35.296875 -6.5625  L 46.40625 37.90625  C 46.703125 39.09375 46.703125 39.296875 46.703125 39.5  C 46.703125 40.890625 45.59375 42 44.09375 42  C 41.703125 42 40.296875 40 40 37.3125  z \" id=\"CMMI12-103\"/>\n",
       "     </defs>\n",
       "     <use transform=\"scale(0.996264)\" xlink:href=\"#CMMI12-77\"/>\n",
       "     <use transform=\"translate(104.780079 0)scale(0.996264)\" xlink:href=\"#CMMI12-103\"/>\n",
       "    </g>\n",
       "   </g>\n",
       "   <g id=\"text_7\">\n",
       "    <!-- $\\theta$ -->\n",
       "    <g transform=\"translate(267.280931 216.91989)scale(0.18 -0.18)\">\n",
       "     <defs>\n",
       "      <path d=\"M 44.296875 50  C 44.296875 60.140625 41.09375 70 32.90625 70  C 18.90625 70 4 40.859375 4 18.984375  C 4 14.40625 5 -1 15.5 -1  C 29.09375 -1 44.296875 27.421875 44.296875 50  z M 14 36  C 15.5 41.859375 17.59375 50.203125 21.59375 57.265625  C 24.90625 63.21875 28.40625 67.984375 32.796875 67.984375  C 36.09375 67.984375 38.296875 65.203125 38.296875 55.671875  C 38.296875 52.09375 38 47.125 35.09375 36  z M 34.40625 33  C 31.90625 23.25 29.796875 17 26.203125 10.734375  C 23.296875 5.65625 19.796875 1 15.59375 1  C 12.5 1 10 3.375 10 13.21875  C 10 19.671875 11.59375 26.4375 13.203125 33  z \" id=\"CMMI12-18\"/>\n",
       "     </defs>\n",
       "     <use transform=\"scale(0.996264)\" xlink:href=\"#CMMI12-18\"/>\n",
       "    </g>\n",
       "   </g>\n",
       "  </g>\n",
       " </g>\n",
       " <defs>\n",
       "  <clipPath id=\"p8e25fa3a5e\">\n",
       "   <rect height=\"266.112\" width=\"301.5936\" x=\"85.3632\" y=\"41.472\"/>\n",
       "  </clipPath>\n",
       " </defs>\n",
       " <defs>\n",
       "  <pattern height=\"72\" id=\"h44da2f16fc\" patternUnits=\"userSpaceOnUse\" width=\"72\" x=\"0\" y=\"0\">\n",
       "   <rect fill=\"#ffffff\" height=\"73\" width=\"73\" x=\"0\" y=\"0\"/>\n",
       "   <path d=\"M -36 36  L 36 -36  M -24 48  L 48 -24  M -12 60  L 60 -12  M 0 72  L 72 0  M 12 84  L 84 12  M 24 96  L 96 24  M 36 108  L 108 36  \" style=\"fill:#000000;stroke:#000000;stroke-linecap:butt;stroke-linejoin:miter;stroke-width:1.0;\"/>\n",
       "  </pattern>\n",
       " </defs>\n",
       "</svg>"
      ],
      "text/plain": [
       "<IPython.core.display.SVG object>"
      ]
     },
     "metadata": {},
     "output_type": "display_data"
    }
   ],
   "source": [
    "for i in range(0,10):\n",
    "    doright(None)\n",
    "    clear_output(wait=True)\n",
    "    display(SVG(Sketch.matplotlib2SVG()))\n",
    "    time.sleep(0.01)"
   ]
  },
  {
   "cell_type": "markdown",
   "metadata": {},
   "source": [
    "### Using PNG"
   ]
  },
  {
   "cell_type": "code",
   "execution_count": null,
   "metadata": {
    "tags": []
   },
   "outputs": [],
   "source": [
    "for i in range(0,10):\n",
    "    doright(None)\n",
    "    clear_output(wait=True)\n",
    "    display(Sketch.matplotlib2PNG()) \n",
    "    time.sleep(0.01)"
   ]
  },
  {
   "cell_type": "markdown",
   "metadata": {},
   "source": [
    "### take a canvas snapshot"
   ]
  },
  {
   "cell_type": "code",
   "execution_count": null,
   "metadata": {},
   "outputs": [],
   "source": [
    "drawing_tool.mpl.gcf().canvas.print_png(\"friction.png\")\n",
    "from PIL import Image\n",
    "img = Image.open(\"friction.png\")\n",
    "img"
   ]
  },
  {
   "cell_type": "markdown",
   "metadata": {},
   "source": [
    "## Sketch composition"
   ]
  },
  {
   "cell_type": "markdown",
   "metadata": {},
   "source": [
    "[home](#Content)"
   ]
  },
  {
   "cell_type": "code",
   "execution_count": null,
   "metadata": {
    "tags": []
   },
   "outputs": [],
   "source": [
    "myfig['friction'].graphviz_dot('friction')"
   ]
  },
  {
   "cell_type": "code",
   "execution_count": null,
   "metadata": {},
   "outputs": [],
   "source": [
    "!dot -Tpng -o dotfriction.png friction.dot\n",
    "from PIL import Image\n",
    "img = Image.open(\"dotfriction.png\")\n",
    "img"
   ]
  },
  {
   "cell_type": "code",
   "execution_count": null,
   "metadata": {},
   "outputs": [],
   "source": [
    "!dot -Tsvg -o dotfriction.svg friction.dot"
   ]
  },
  {
   "cell_type": "code",
   "execution_count": null,
   "metadata": {},
   "outputs": [],
   "source": [
    "display(SVG(\"dotfriction.svg\"))"
   ]
  },
  {
   "cell_type": "markdown",
   "metadata": {},
   "source": [
    "## Sketch serialization"
   ]
  },
  {
   "cell_type": "markdown",
   "metadata": {},
   "source": [
    "[home](#Content)"
   ]
  },
  {
   "cell_type": "code",
   "execution_count": 27,
   "metadata": {},
   "outputs": [],
   "source": [
    "sketchstring = sketch.getSketch()"
   ]
  },
  {
   "cell_type": "code",
   "execution_count": 28,
   "metadata": {},
   "outputs": [],
   "source": [
    "import sys"
   ]
  },
  {
   "cell_type": "code",
   "execution_count": 29,
   "metadata": {},
   "outputs": [
    {
     "name": "stdout",
     "output_type": "stream",
     "text": [
      "!!omap\n",
      "- name: unknown\n",
      "- parts:\n",
      "  - name: head\n",
      "    shapes:\n",
      "      libraries: ['from math import tan, radians, sin, cos', from pysketcher import\n",
      "          *]\n",
      "  - name: constants\n",
      "    shapes:\n",
      "      fontsize: 18       # size of the characters\n",
      "      g: 9.81            # constant gravity\n",
      "      theta: 30.0        # inclined plane angle\n",
      "      L: 10.0            # sketch sizing parameter\n",
      "      a: 1.0             #\n",
      "      xmin: 0.0          # sketech min Abscissa\n",
      "      ymin: -3.0         # sketech min Ordinate     \n",
      "      rl: 2.0            # rectangle width\n",
      "      rL: 1.0            # rectangle length\n",
      "  - name: frame\n",
      "    shapes:\n",
      "      setframe:          # sketch setup\n",
      "        action: drawing_tool.set_coordinate_system(xmin=xmin-L/5, xmax=xmin+1.5*L,ymin=ymin,\n",
      "          ymax=ymin+1.5*L,instruction_file='tmp_mpl_friction.py')\n",
      "      setblackline:      # default frame values and actions\n",
      "        action: drawing_tool.set_linecolor('black')\n",
      "      B: point(a+L,0)                    # wall right end\n",
      "      A: point(a,tan(radians(theta))*L)  # wall left end\n",
      "      normal_vec: point(sin(radians(theta)),cos(radians(theta)))   # Vector normal to wall\n",
      "      tangent_vec: point(cos(radians(theta)),-sin(radians(theta))) # Vector tangent to wall\n",
      "      help_line: Line(A,B)               # wall line\n",
      "      x: a + 3*L/10.                     # contact point Abscissa\n",
      "      y: help_line(x=x)                  # contact point Ordinate\n",
      "      contact: point(x, y)               # contact point: middle of the rectangle bottom edge\n",
      "      c: contact + rL/2*normal_vec\n",
      "  - name: body\n",
      "    shapes:\n",
      "      rectangle:\n",
      "        formula: Rectangle(contact, rl, rL)\n",
      "        style:\n",
      "          linecolor: blue\n",
      "          filled_curves: blue\n",
      "        transform: ['rotate(-theta, contact)', translate(-rl/2*tangent_vec)]\n",
      "      N:\n",
      "        formula: Force(contact - rl*normal_vec, contact, r'$N$', text_pos='start')\n",
      "        style:\n",
      "          linecolor: black\n",
      "      wheel:\n",
      "        formula: \"Composition({'outer': rectangle})\"\n",
      "        style:\n",
      "          shadow: 1\n",
      "      mc:\n",
      "        formula: Text(r'$c$', c)\n",
      "      body:\n",
      "        formula: \"Composition({'wheel': wheel, 'N': N, 'mc': mc})\"\n",
      "        style:\n",
      "          linecolor: black\n",
      "  - name: plan\n",
      "    shapes:\n",
      "      mB:\n",
      "        formula: Text(r'$B$',B)\n",
      "      mA:\n",
      "        formula: Text(r'$A$', A)\n",
      "      wall:\n",
      "        formula: Wall(x=[A[0], B[0]], y=[A[1], B[1]], thickness=-0.25,transparent=False)\n",
      "        style:\n",
      "          linecolor: black\n",
      "      x_const:\n",
      "        formula: Line(contact, contact + point(0,4))\n",
      "        style:\n",
      "          linestyle: dotted\n",
      "        transform: rotate(-theta, contact)\n",
      "      x_axis:\n",
      "        formula: Axis(start=contact+ 2*rl*normal_vec, length=2*rl,label='$x$', rotation_angle=-theta)\n",
      "      plan:\n",
      "        formula: \"Composition({'body': body, 'inclined wall': wall, 'x start': x_const,\\\n",
      "          \\ 'x axis': x_axis, 'mA': mA, 'mB': mB})\"\n",
      "  - name: friction\n",
      "    shapes:\n",
      "      mg:\n",
      "        formula: Gravity(c, rl, text='$Mg$')\n",
      "        style:\n",
      "          linecolor: black\n",
      "      angle:\n",
      "        formula: Arc_wText(r'$<bslash>theta$', center=B, radius=3, start_angle=180-theta,\n",
      "          arc_angle=theta, fontsize=fontsize)\n",
      "        style:\n",
      "          linecolor: black\n",
      "          linewidth: 1\n",
      "      ground:\n",
      "        formula: Line((B[0]-L/10., 0), (B[0]-L/2.,0))\n",
      "        stlye:\n",
      "          linecolor: black\n",
      "          linestyle: dashed\n",
      "          linewidth: 1\n",
      "      friction:\n",
      "        formula: \"Composition({'plan': plan, 'ground': ground, 'mg': mg, 'angle':\\\n",
      "          \\ angle})\"\n"
     ]
    }
   ],
   "source": [
    "sys.stdout.write(sketchstring)"
   ]
  },
  {
   "cell_type": "code",
   "execution_count": 30,
   "metadata": {},
   "outputs": [
    {
     "data": {
      "text/plain": [
       "True"
      ]
     },
     "execution_count": 30,
     "metadata": {},
     "output_type": "execute_result"
    }
   ],
   "source": [
    "sketch.loadSketch(sketchstring)"
   ]
  },
  {
   "cell_type": "code",
   "execution_count": null,
   "metadata": {},
   "outputs": [],
   "source": []
  }
 ],
 "metadata": {
  "kernelspec": {
   "display_name": "Python 3",
   "language": "python",
   "name": "python3"
  },
  "language_info": {
   "codemirror_mode": {
    "name": "ipython",
    "version": 3
   },
   "file_extension": ".py",
   "mimetype": "text/x-python",
   "name": "python",
   "nbconvert_exporter": "python",
   "pygments_lexer": "ipython3",
   "version": "3.8.5"
  }
 },
 "nbformat": 4,
 "nbformat_minor": 4
}
