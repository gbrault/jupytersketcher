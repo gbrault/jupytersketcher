{
 "cells": [
  {
   "cell_type": "markdown",
   "metadata": {},
   "source": [
    "# Dry Friction Test Case"
   ]
  },
  {
   "cell_type": "markdown",
   "metadata": {},
   "source": [
    "## Content"
   ]
  },
  {
   "cell_type": "markdown",
   "metadata": {},
   "source": [
    "- [Libraries](#Libraries)\n",
    "- [Sketch container](#Sketch-container)\n",
    "- [Sketch Parts yaml definition](#Sketch-Parts-yaml-definition)\n",
    "- [Read yaml sketch definition, draw it](#Read-yaml-sketch-definition,-draw-it)\n",
    "- [Simulate sketch rotation](#Simulate-sketch-rotation)\n",
    "- [Sketch composition](#Sketch-composition)\n",
    "- [Sketch serialization](#Sketch-serialization)"
   ]
  },
  {
   "cell_type": "markdown",
   "metadata": {},
   "source": [
    "## Libraries"
   ]
  },
  {
   "cell_type": "markdown",
   "metadata": {},
   "source": [
    "[home](#Content)"
   ]
  },
  {
   "cell_type": "code",
   "execution_count": 1,
   "metadata": {},
   "outputs": [],
   "source": [
    "%matplotlib widget"
   ]
  },
  {
   "cell_type": "markdown",
   "metadata": {},
   "source": [
    "import matplotlib as mpl\n",
    "mpl.rc('text', usetex = True)\n",
    "mpl.rc('font', family = 'serif')"
   ]
  },
  {
   "cell_type": "code",
   "execution_count": 2,
   "metadata": {},
   "outputs": [],
   "source": [
    "import time"
   ]
  },
  {
   "cell_type": "code",
   "execution_count": 3,
   "metadata": {},
   "outputs": [],
   "source": [
    "from pysketcher import *"
   ]
  },
  {
   "cell_type": "code",
   "execution_count": 4,
   "metadata": {},
   "outputs": [],
   "source": [
    "from ipywidgets import FloatSlider, AppLayout, Label, HBox, Button, Output"
   ]
  },
  {
   "cell_type": "code",
   "execution_count": 5,
   "metadata": {},
   "outputs": [],
   "source": [
    "from IPython.display import HTML, SVG, display, clear_output"
   ]
  },
  {
   "cell_type": "code",
   "execution_count": 6,
   "metadata": {},
   "outputs": [],
   "source": [
    "from math import tan, radians, sin, cos"
   ]
  },
  {
   "cell_type": "markdown",
   "metadata": {},
   "source": [
    "## Sketch container"
   ]
  },
  {
   "cell_type": "markdown",
   "metadata": {},
   "source": [
    "[home](#Table-of-Content)"
   ]
  },
  {
   "cell_type": "code",
   "execution_count": 7,
   "metadata": {},
   "outputs": [],
   "source": [
    "myfig={}\n",
    "sketch = Sketch(myfig)"
   ]
  },
  {
   "cell_type": "markdown",
   "metadata": {},
   "source": [
    "## Sketch Parts yaml definition"
   ]
  },
  {
   "cell_type": "markdown",
   "metadata": {},
   "source": [
    "[home](#Content)"
   ]
  },
  {
   "cell_type": "code",
   "execution_count": null,
   "metadata": {},
   "outputs": [],
   "source": [
    "libraries = \"\"\"\\\n",
    "name: head\n",
    "shapes:\n",
    "    libraries: [\"from math import tan, radians, sin, cos\",\"from pysketcher import *\"]\n",
    "\"\"\""
   ]
  },
  {
   "cell_type": "code",
   "execution_count": null,
   "metadata": {},
   "outputs": [],
   "source": [
    "constants = \"\"\"\\\n",
    "name: constants\n",
    "shapes:\n",
    "    fontsize: 18         # size of the characters\n",
    "    g: 9.81              # constant gravity\n",
    "    theta: 30.0          # inclined plane angle\n",
    "    L: 10.0              # sketch sizing parameter\n",
    "    a: 1.0               #\n",
    "    xmin: 0.0            # sketech min Abscissa\n",
    "    ymin: -3.0           # sketech min Ordinate     \n",
    "    rl: 2.0              # rectangle width\n",
    "    rL: 1.0              # rectangle length\n",
    "\"\"\""
   ]
  },
  {
   "cell_type": "code",
   "execution_count": null,
   "metadata": {},
   "outputs": [],
   "source": [
    "frame = \"\"\"\\\n",
    "name: frame\n",
    "shapes:\n",
    "    setframe:            # sketch setup\n",
    "        action: \"drawing_tool.set_coordinate_system(xmin=xmin-L/5, xmax=xmin+1.5*L,ymin=ymin, ymax=ymin+1.5*L,instruction_file='tmp_mpl_friction.py')\"\n",
    "    setblackline:        # default frame values and actions\n",
    "        action: \"drawing_tool.set_linecolor('black')\"\n",
    "    B: point(a+L,0)                      # wall right end\n",
    "    A: point(a,tan(radians(theta))*L)    # wall left end\n",
    "    normal_vec: point(sin(radians(theta)),cos(radians(theta)))     # Vector normal to wall\n",
    "    tangent_vec: point(cos(radians(theta)),-sin(radians(theta)))   # Vector tangent to wall\n",
    "    help_line: Line(A,B)                 # wall line\n",
    "    x: a + 3*L/10.                       # contact point Abscissa\n",
    "    y: help_line(x=x)                    # contact point Ordinate\n",
    "    contact: point(x, y)                 # contact point: middle of the rectangle bottom edge\n",
    "    c: contact + rL/2*normal_vec\n",
    "\"\"\""
   ]
  },
  {
   "cell_type": "code",
   "execution_count": null,
   "metadata": {},
   "outputs": [],
   "source": [
    "body = \"\"\"\\\n",
    "name: body\n",
    "shapes:\n",
    "    rectangle: \n",
    "        formula: Rectangle(contact, rl, rL)\n",
    "        style:\n",
    "            linecolor: blue\n",
    "            filled_curves: blue\n",
    "        transform: [\"rotate(-theta, contact)\",\n",
    "                    \"translate(-rl/2*tangent_vec)\"]\n",
    "    N: \n",
    "        formula: Force(contact - rl*normal_vec, contact, r'$N$', text_pos='start')\n",
    "        style:\n",
    "            linecolor: black\n",
    "    wheel: \n",
    "        formula: \"Composition({'outer': rectangle})\"   \n",
    "        style:\n",
    "            shadow: 1\n",
    "    mc:\n",
    "        formula: Text(r'$c$', c)\n",
    "    body: \n",
    "        formula: \"Composition({'wheel': wheel, 'N': N, 'mc': mc})\"\n",
    "        style:\n",
    "            linecolor: black\n",
    "\"\"\""
   ]
  },
  {
   "cell_type": "code",
   "execution_count": null,
   "metadata": {},
   "outputs": [],
   "source": [
    "plan = \"\"\"\\\n",
    "name: plan\n",
    "shapes:\n",
    "    mB:\n",
    "        formula: Text(r'$B$',B)\n",
    "    mA:\n",
    "        formula: Text(r'$A$', A)\n",
    "    wall: \n",
    "        formula: Wall(x=[A[0], B[0]], y=[A[1], B[1]], thickness=-0.25,transparent=False)\n",
    "        style:\n",
    "            linecolor: black    \n",
    "    x_const: \n",
    "        formula: Line(contact, contact + point(0,4))\n",
    "        style:\n",
    "            linestyle: dotted\n",
    "        transform: rotate(-theta, contact)\n",
    "    x_axis: \n",
    "        formula: \"Axis(start=contact+ 2*rl*normal_vec, length=2*rl,label='$x$', rotation_angle=-theta)\"\n",
    "    plan: \n",
    "        formula: \"Composition({'body': body, 'inclined wall': wall, 'x start': x_const, 'x axis': x_axis, 'mA': mA, 'mB': mB})\"\n",
    "\"\"\""
   ]
  },
  {
   "cell_type": "code",
   "execution_count": null,
   "metadata": {},
   "outputs": [],
   "source": [
    "friction = \"\"\"\\\n",
    "name: friction\n",
    "shapes:\n",
    "    mg: \n",
    "        formula: Gravity(c, rl, text='$Mg$')\n",
    "        style:\n",
    "            linecolor: black\n",
    "    angle: \n",
    "        formula: \"Arc_wText(r'$<bslash>theta$', center=B, radius=3, start_angle=180-theta, arc_angle=theta, fontsize=fontsize)\"\n",
    "        style:\n",
    "            linecolor: black\n",
    "            linewidth: 1\n",
    "    ground: \n",
    "         formula: Line((B[0]-L/10., 0), (B[0]-L/2.,0))\n",
    "         stlye:\n",
    "             linecolor: black\n",
    "             linestyle: dashed\n",
    "             linewidth: 1\n",
    "    friction: \n",
    "            formula: \"Composition({'plan': plan, 'ground': ground, 'mg': mg, 'angle': angle})\"\n",
    "\"\"\""
   ]
  },
  {
   "cell_type": "markdown",
   "metadata": {},
   "source": [
    "## Read yaml sketch definition, draw it"
   ]
  },
  {
   "cell_type": "markdown",
   "metadata": {},
   "source": [
    "[home](#Content)"
   ]
  },
  {
   "cell_type": "code",
   "execution_count": null,
   "metadata": {},
   "outputs": [],
   "source": [
    "if sketch.append(libraries):\n",
    "    if sketch.append(constants):\n",
    "        if sketch.append(frame):\n",
    "            if sketch.append(body):\n",
    "                if sketch.append(plan):\n",
    "                    if sketch.append(friction):\n",
    "                        print(\"success\")"
   ]
  },
  {
   "cell_type": "code",
   "execution_count": null,
   "metadata": {},
   "outputs": [],
   "source": [
    "d = myfig['friction'].draw()"
   ]
  },
  {
   "cell_type": "code",
   "execution_count": null,
   "metadata": {},
   "outputs": [],
   "source": [
    "drawing_tool.display()"
   ]
  },
  {
   "cell_type": "code",
   "execution_count": null,
   "metadata": {},
   "outputs": [],
   "source": [
    "def doright(change):\n",
    "    rotate(-5)\n",
    "def doleft(change):\n",
    "    rotate(5)\n",
    "def rotate(theta):\n",
    "    angle = myfig['theta']\n",
    "    angle -= theta\n",
    "    myfig['theta'] = angle\n",
    "    drawing_tool.erase()\n",
    "    x = myfig['plan']['body']['mc'].x\n",
    "    y = myfig['plan']['body']['mc'].y\n",
    "    myfig['plan'].rotate(theta,myfig['B'])\n",
    "    xf = myfig['plan']['body']['mc'].x\n",
    "    yf = myfig['plan']['body']['mc'].y\n",
    "    trans = point(xf-x,yf-y)\n",
    "    myfig['angle'].changeAngle(180-angle, angle)\n",
    "    myfig['mg'].translate(trans)\n",
    "    myfig['friction'].draw()"
   ]
  },
  {
   "cell_type": "code",
   "execution_count": null,
   "metadata": {},
   "outputs": [],
   "source": [
    "left = Button(\n",
    "    description = '',\n",
    "    icon = 'rotate-left',\n",
    ")\n",
    "left.on_click(doleft)\n",
    "right = Button(\n",
    "    description = '',\n",
    "    icon = 'rotate-right',\n",
    ")\n",
    "right.on_click(doright)\n",
    "output = Output()"
   ]
  },
  {
   "cell_type": "code",
   "execution_count": null,
   "metadata": {},
   "outputs": [],
   "source": [
    "applayout = AppLayout(\n",
    "    center=output,\n",
    "    footer=HBox([left,right]),\n",
    "    pane_heights=[0, 6, 1]\n",
    ")\n",
    "#drawing_tool.mpl.ion()"
   ]
  },
  {
   "cell_type": "code",
   "execution_count": null,
   "metadata": {},
   "outputs": [],
   "source": [
    "applayout"
   ]
  },
  {
   "cell_type": "code",
   "execution_count": null,
   "metadata": {},
   "outputs": [],
   "source": [
    "with output:\n",
    "    clear_output()\n",
    "    display(drawing_tool.mpl.gcf().canvas)"
   ]
  },
  {
   "cell_type": "markdown",
   "metadata": {},
   "source": [
    "### Turn it interactiv"
   ]
  },
  {
   "cell_type": "code",
   "execution_count": null,
   "metadata": {},
   "outputs": [],
   "source": [
    "drawing_tool.mpl.ion()"
   ]
  },
  {
   "cell_type": "markdown",
   "metadata": {},
   "source": [
    "Use left and right rotation button to rotate the sketch"
   ]
  },
  {
   "cell_type": "markdown",
   "metadata": {},
   "source": [
    "## Simulate sketch rotation"
   ]
  },
  {
   "cell_type": "markdown",
   "metadata": {},
   "source": [
    "[home](#Content)"
   ]
  },
  {
   "cell_type": "markdown",
   "metadata": {},
   "source": [
    "### Using SVG"
   ]
  },
  {
   "cell_type": "code",
   "execution_count": null,
   "metadata": {
    "tags": []
   },
   "outputs": [],
   "source": [
    "for i in range(0,10):\n",
    "    doright(None)\n",
    "    clear_output(wait=True)\n",
    "    display(SVG(Sketch.matplotlib2SVG()))\n",
    "    time.sleep(0.01)"
   ]
  },
  {
   "cell_type": "markdown",
   "metadata": {},
   "source": [
    "### Using PNG"
   ]
  },
  {
   "cell_type": "code",
   "execution_count": null,
   "metadata": {
    "tags": []
   },
   "outputs": [],
   "source": [
    "for i in range(0,10):\n",
    "    doright(None)\n",
    "    clear_output(wait=True)\n",
    "    display(Sketch.matplotlib2PNG()) \n",
    "    time.sleep(0.01)"
   ]
  },
  {
   "cell_type": "markdown",
   "metadata": {},
   "source": [
    "### take a canvas snapshot"
   ]
  },
  {
   "cell_type": "code",
   "execution_count": null,
   "metadata": {},
   "outputs": [],
   "source": [
    "drawing_tool.mpl.gcf().canvas.print_png(\"friction.png\")\n",
    "from PIL import Image\n",
    "img = Image.open(\"friction.png\")\n",
    "img"
   ]
  },
  {
   "cell_type": "markdown",
   "metadata": {},
   "source": [
    "## Sketch composition"
   ]
  },
  {
   "cell_type": "markdown",
   "metadata": {},
   "source": [
    "[home](#Content)"
   ]
  },
  {
   "cell_type": "code",
   "execution_count": null,
   "metadata": {
    "tags": []
   },
   "outputs": [],
   "source": [
    "myfig['friction'].graphviz_dot('friction')"
   ]
  },
  {
   "cell_type": "code",
   "execution_count": null,
   "metadata": {},
   "outputs": [],
   "source": [
    "!dot -Tpng -o dotfriction.png friction.dot\n",
    "from PIL import Image\n",
    "img = Image.open(\"dotfriction.png\")\n",
    "img"
   ]
  },
  {
   "cell_type": "code",
   "execution_count": null,
   "metadata": {},
   "outputs": [],
   "source": [
    "!dot -Tsvg -o dotfriction.svg friction.dot"
   ]
  },
  {
   "cell_type": "code",
   "execution_count": null,
   "metadata": {},
   "outputs": [],
   "source": [
    "display(SVG(\"dotfriction.svg\"))"
   ]
  },
  {
   "cell_type": "markdown",
   "metadata": {},
   "source": [
    "## Sketch serialization"
   ]
  },
  {
   "cell_type": "markdown",
   "metadata": {},
   "source": [
    "[home](#Content)"
   ]
  },
  {
   "cell_type": "markdown",
   "metadata": {},
   "source": [
    "### To and from string"
   ]
  },
  {
   "cell_type": "code",
   "execution_count": null,
   "metadata": {},
   "outputs": [],
   "source": [
    "sketchstring = sketch.sketch2String()"
   ]
  },
  {
   "cell_type": "code",
   "execution_count": null,
   "metadata": {},
   "outputs": [],
   "source": [
    "import sys"
   ]
  },
  {
   "cell_type": "code",
   "execution_count": null,
   "metadata": {},
   "outputs": [],
   "source": [
    "sys.stdout.write(sketchstring)"
   ]
  },
  {
   "cell_type": "code",
   "execution_count": null,
   "metadata": {},
   "outputs": [],
   "source": [
    "sketch.string2Sketch(sketchstring)"
   ]
  },
  {
   "cell_type": "markdown",
   "metadata": {},
   "source": [
    "### To and from File"
   ]
  },
  {
   "cell_type": "markdown",
   "metadata": {},
   "source": [
    "#### To File"
   ]
  },
  {
   "cell_type": "code",
   "execution_count": null,
   "metadata": {},
   "outputs": [],
   "source": [
    "sketch.sketch2File(\"dryfriction.yml\")"
   ]
  },
  {
   "cell_type": "markdown",
   "metadata": {},
   "source": [
    "#### From File"
   ]
  },
  {
   "cell_type": "code",
   "execution_count": null,
   "metadata": {},
   "outputs": [],
   "source": [
    "sketch.file2Sketch(\"dryfriction.yml\")"
   ]
  },
  {
   "cell_type": "code",
   "execution_count": 11,
   "metadata": {},
   "outputs": [
    {
     "data": {
      "text/plain": [
       "True"
      ]
     },
     "execution_count": 11,
     "metadata": {},
     "output_type": "execute_result"
    }
   ],
   "source": [
    "sketch.file2Sketch(\"springmass.yml\")"
   ]
  },
  {
   "cell_type": "code",
   "execution_count": 12,
   "metadata": {},
   "outputs": [
    {
     "data": {
      "text/plain": [
       "{\n",
       "'spring': {\n",
       "    'bar1': {\n",
       "        'line': \"2 (x,y) coords\",},\n",
       "    'spiral': \"45 (x,y) coords\",\n",
       "    'bar2': {\n",
       "        'line': \"2 (x,y) coords\",},},\n",
       "'mass': {\n",
       "    'rectangle': \"5 (x,y) coords linewidth=4\",},\n",
       "'left wall': {\n",
       "    'rectangle': \"5 (x,y) coords fillcolor='' fillpattern='/'\",},\n",
       "'ground': {\n",
       "    'wall': \"4 (x,y) coords fillcolor='white' fillpattern='/'\",},\n",
       "'wheel1': {\n",
       "    'arc': \"181 (x,y) coords\",},\n",
       "'wheel2': {\n",
       "    'arc': \"181 (x,y) coords\",},\n",
       "'text_m': \"Text at (4,6)\",\n",
       "'text_ku': \"Text at (-6,10)\",\n",
       "'x_axis': {\n",
       "    'arrow': {\n",
       "        'line': {\n",
       "            'line': \"2 (x,y) coords\",},\n",
       "        'head left': {\n",
       "            'line': \"2 (x,y) coords linestyle='solid'\",},\n",
       "        'head right': {\n",
       "            'line': \"2 (x,y) coords linestyle='solid'\",},},\n",
       "    'label': \"Text at (6.96,11.85)\",},\n",
       "'x_axis_start': {\n",
       "    'line': \"2 (x,y) coords linewidth=4\",},}"
      ]
     },
     "execution_count": 12,
     "metadata": {},
     "output_type": "execute_result"
    }
   ],
   "source": [
    "sketch.container['springmass'].draw()"
   ]
  },
  {
   "cell_type": "code",
   "execution_count": 13,
   "metadata": {},
   "outputs": [
    {
     "data": {
      "image/svg+xml": [
       "<svg xmlns=\"http://www.w3.org/2000/svg\" xmlns:xlink=\"http://www.w3.org/1999/xlink\" height=\"345.6pt\" version=\"1.1\" viewBox=\"0 0 460.8 345.6\" width=\"460.8pt\">\n",
       " <metadata>\n",
       "  <rdf:RDF xmlns:cc=\"http://creativecommons.org/ns#\" xmlns:dc=\"http://purl.org/dc/elements/1.1/\" xmlns:rdf=\"http://www.w3.org/1999/02/22-rdf-syntax-ns#\">\n",
       "   <cc:Work>\n",
       "    <dc:type rdf:resource=\"http://purl.org/dc/dcmitype/StillImage\"/>\n",
       "    <dc:date>2020-08-08T16:54:05.630067</dc:date>\n",
       "    <dc:format>image/svg+xml</dc:format>\n",
       "    <dc:creator>\n",
       "     <cc:Agent>\n",
       "      <dc:title>Matplotlib v3.3.0, https://matplotlib.org/</dc:title>\n",
       "     </cc:Agent>\n",
       "    </dc:creator>\n",
       "   </cc:Work>\n",
       "  </rdf:RDF>\n",
       " </metadata>\n",
       " <defs>\n",
       "  <style type=\"text/css\">*{stroke-linecap:butt;stroke-linejoin:round;}</style>\n",
       " </defs>\n",
       " <g id=\"figure_1\">\n",
       "  <g id=\"patch_1\">\n",
       "   <path d=\"M 0 345.6  L 460.8 345.6  L 460.8 0  L 0 0  z \" style=\"fill:#ffffff;\"/>\n",
       "  </g>\n",
       "  <g id=\"axes_1\">\n",
       "   <g id=\"patch_2\">\n",
       "    <path clip-path=\"url(#pa2962d1bdf)\" d=\"M 57.6 271.248  L 60.576 271.248  L 60.576 92.688  L 57.6 92.688  z \" style=\"fill:url(#h74eb26d38e);stroke:#000000;stroke-linejoin:miter;stroke-width:2;\"/>\n",
       "   </g>\n",
       "   <g id=\"patch_3\">\n",
       "    <path clip-path=\"url(#pa2962d1bdf)\" d=\"M 146.88 271.248  L 414.72 271.248  L 414.72 274.224  L 146.88 274.224  z \" style=\"fill:url(#h74eb26d38e);stroke:#000000;stroke-linejoin:miter;stroke-width:2;\"/>\n",
       "   </g>\n",
       "   <g id=\"line2d_1\">\n",
       "    <path clip-path=\"url(#pa2962d1bdf)\" d=\"M 57.6 152.208  L 102.24 152.208  \" style=\"fill:none;stroke:#000000;stroke-linecap:square;stroke-width:2;\"/>\n",
       "   </g>\n",
       "   <g id=\"line2d_2\">\n",
       "    <path clip-path=\"url(#pa2962d1bdf)\" d=\"M 102.24 152.208  L 104.269091 170.064  L 106.298182 152.208  L 108.327273 134.352  L 110.356364 152.208  L 112.385455 170.064  L 114.414545 152.208  L 116.443636 134.352  L 118.472727 152.208  L 120.501818 170.064  L 122.530909 152.208  L 124.56 134.352  L 126.589091 152.208  L 128.618182 170.064  L 130.647273 152.208  L 132.676364 134.352  L 134.705455 152.208  L 136.734545 170.064  L 138.763636 152.208  L 140.792727 134.352  L 142.821818 152.208  L 144.850909 170.064  L 146.88 152.208  L 148.909091 134.352  L 150.938182 152.208  L 152.967273 170.064  L 154.996364 152.208  L 157.025455 134.352  L 159.054545 152.208  L 161.083636 170.064  L 163.112727 152.208  L 165.141818 134.352  L 167.170909 152.208  L 169.2 170.064  L 171.229091 152.208  L 173.258182 134.352  L 175.287273 152.208  L 177.316364 170.064  L 179.345455 152.208  L 181.374545 134.352  L 183.403636 152.208  L 185.432727 170.064  L 187.461818 152.208  L 189.490909 134.352  L 191.52 152.208  \" style=\"fill:none;stroke:#000000;stroke-linecap:square;stroke-width:2;\"/>\n",
       "   </g>\n",
       "   <g id=\"line2d_3\">\n",
       "    <path clip-path=\"url(#pa2962d1bdf)\" d=\"M 191.52 152.208  L 236.16 152.208  \" style=\"fill:none;stroke:#000000;stroke-linecap:square;stroke-width:2;\"/>\n",
       "   </g>\n",
       "   <g id=\"line2d_4\">\n",
       "    <path clip-path=\"url(#pa2962d1bdf)\" d=\"M 236.16 241.488  L 355.2 241.488  L 355.2 122.448  L 236.16 122.448  L 236.16 241.488  \" style=\"fill:none;stroke:#000000;stroke-linecap:square;stroke-width:4;\"/>\n",
       "   </g>\n",
       "   <g id=\"line2d_5\">\n",
       "    <path clip-path=\"url(#pa2962d1bdf)\" d=\"M 280.8 256.368  L 280.655189 254.297104  L 280.223574 252.266516  L 279.513556 250.315759  L 278.538956 248.482801  L 277.318741 246.80332  L 275.876663 245.310005  L 274.24079 244.031921  L 272.442963 242.993945  L 270.518173 242.216279  L 268.503885 241.714061  L 266.439305 241.497064  L 264.364616 241.569514  L 262.320202 241.93  L 260.345854 242.571504  L 258.48 243.481542  L 256.758957 244.6424  L 255.216224 246.031483  L 253.881827 247.621755  L 252.78174 249.382263  L 251.937374 251.27874  L 251.365164 253.274274  L 251.076247 255.330024  L 251.076247 257.405976  L 251.365164 259.461726  L 251.937374 261.45726  L 252.78174 263.353737  L 253.881827 265.114245  L 255.216224 266.704517  L 256.758957 268.0936  L 258.48 269.254458  L 260.345854 270.164496  L 262.320202 270.806  L 264.364616 271.166486  L 266.439305 271.238936  L 268.503885 271.021939  L 270.518173 270.519721  L 272.442963 269.742055  L 274.24079 268.704079  L 275.876663 267.425995  L 277.318741 265.93268  L 278.538956 264.253199  L 279.513556 262.420241  L 280.223574 260.469484  L 280.655189 258.438896  L 280.8 256.368  L 280.8 256.368  \" style=\"fill:none;stroke:#000000;stroke-linecap:square;stroke-width:2;\"/>\n",
       "   </g>\n",
       "   <g id=\"line2d_6\">\n",
       "    <path clip-path=\"url(#pa2962d1bdf)\" d=\"M 340.32 256.368  L 340.175189 254.297104  L 339.743574 252.266516  L 339.033556 250.315759  L 338.058956 248.482801  L 336.838741 246.80332  L 335.396663 245.310005  L 333.76079 244.031921  L 331.962963 242.993945  L 330.038173 242.216279  L 328.023885 241.714061  L 325.959305 241.497064  L 323.884616 241.569514  L 321.840202 241.93  L 319.865854 242.571504  L 318 243.481542  L 316.278957 244.6424  L 314.736224 246.031483  L 313.401827 247.621755  L 312.30174 249.382263  L 311.457374 251.27874  L 310.885164 253.274274  L 310.596247 255.330024  L 310.596247 257.405976  L 310.885164 259.461726  L 311.457374 261.45726  L 312.30174 263.353737  L 313.401827 265.114245  L 314.736224 266.704517  L 316.278957 268.0936  L 318 269.254458  L 319.865854 270.164496  L 321.840202 270.806  L 323.884616 271.166486  L 325.959305 271.238936  L 328.023885 271.021939  L 330.038173 270.519721  L 331.962963 269.742055  L 333.76079 268.704079  L 335.396663 267.425995  L 336.838741 265.93268  L 338.058956 264.253199  L 339.033556 262.420241  L 339.743574 260.469484  L 340.175189 258.438896  L 340.32 256.368  L 340.32 256.368  \" style=\"fill:none;stroke:#000000;stroke-linecap:square;stroke-width:2;\"/>\n",
       "   </g>\n",
       "   <g id=\"line2d_7\">\n",
       "    <path clip-path=\"url(#pa2962d1bdf)\" d=\"M 295.68 92.688  L 325.44 92.688  \" style=\"fill:none;stroke:#000000;stroke-linecap:square;stroke-width:2;\"/>\n",
       "   </g>\n",
       "   <g id=\"line2d_8\">\n",
       "    <path clip-path=\"url(#pa2962d1bdf)\" d=\"M 319.2545 89.1168  L 325.44 92.688  \" style=\"fill:none;stroke:#000000;stroke-linecap:square;stroke-width:2;\"/>\n",
       "   </g>\n",
       "   <g id=\"line2d_9\">\n",
       "    <path clip-path=\"url(#pa2962d1bdf)\" d=\"M 319.2545 96.2592  L 325.44 92.688  \" style=\"fill:none;stroke:#000000;stroke-linecap:square;stroke-width:2;\"/>\n",
       "   </g>\n",
       "   <g id=\"line2d_10\">\n",
       "    <path clip-path=\"url(#pa2962d1bdf)\" d=\"M 295.68 100.128  L 295.68 85.248  \" style=\"fill:none;stroke:#000000;stroke-linecap:square;stroke-width:4;\"/>\n",
       "   </g>\n",
       "   <g id=\"text_1\">\n",
       "    <!-- $m$ -->\n",
       "    <g transform=\"translate(288.000554 181.968)scale(0.18 -0.18)\">\n",
       "     <defs>\n",
       "      <path d=\"M 20.59375 29.21875  C 20.796875 29.828125 23.296875 34.8125 27 38  C 29.59375 40.390625 33 41.984375 36.90625 41.984375  C 40.90625 41.984375 42.296875 39 42.296875 35.015625  C 42.296875 34.40625 42.296875 32.421875 41.09375 27.734375  L 38.59375 17.453125  C 37.796875 14.453125 35.90625 7.078125 35.703125 5.984375  C 35.296875 4.484375 34.703125 1.890625 34.703125 1.484375  C 34.703125 0.09375 35.796875 -1 37.296875 -1  C 40.296875 -1 40.796875 1.296875 41.703125 4.890625  L 47.703125 28.71875  C 47.90625 29.53125 53.09375 41.984375 64.09375 41.984375  C 68.09375 41.984375 69.5 39 69.5 35.015625  C 69.5 29.421875 65.59375 18.546875 63.40625 12.5625  C 62.5 10.171875 62 8.875 62 7.078125  C 62 2.59375 65.09375 -1 69.90625 -1  C 79.203125 -1 82.703125 13.65625 82.703125 14.265625  C 82.703125 14.765625 82.296875 15.15625 81.703125 15.15625  C 80.796875 15.15625 80.703125 14.859375 80.203125 13.15625  C 77.90625 5.1875 74.203125 1 70.203125 1  C 69.203125 1 67.59375 1.09375 67.59375 4.28125  C 67.59375 6.875 68.796875 10.078125 69.203125 11.171875  C 71 15.953125 75.5 27.734375 75.5 33.515625  C 75.5 39.5 72 44 64.40625 44  C 57.703125 44 52.296875 40.203125 48.296875 34.3125  C 48 39.703125 44.703125 44 37.203125 44  C 28.296875 44 23.59375 37.703125 21.796875 35.203125  C 21.5 40.890625 17.40625 44 13 44  C 10.09375 44 7.796875 42.59375 5.90625 38.796875  C 4.09375 35.203125 2.703125 29.125 2.703125 28.71875  C 2.703125 28.328125 3.09375 27.828125 3.796875 27.828125  C 4.59375 27.828125 4.703125 27.921875 5.296875 30.21875  C 6.796875 36.109375 8.703125 41.984375 12.703125 41.984375  C 15 41.984375 15.796875 40.390625 15.796875 37.40625  C 15.796875 35.203125 14.796875 31.3125 14.09375 28.234375  L 11.296875 17.453125  C 10.90625 15.5625 9.796875 11.0625 9.296875 9.265625  C 8.59375 6.671875 7.5 1.984375 7.5 1.484375  C 7.5 0.09375 8.59375 -1 10.09375 -1  C 11.296875 -1 12.703125 -0.40625 13.5 1.09375  C 13.703125 1.59375 14.59375 5.078125 15.09375 7.078125  L 17.296875 16.0625  z \" id=\"CMMI12-109\"/>\n",
       "     </defs>\n",
       "     <use transform=\"scale(0.996264)\" xlink:href=\"#CMMI12-109\"/>\n",
       "    </g>\n",
       "   </g>\n",
       "   <g id=\"text_2\">\n",
       "    <!-- $ku$ -->\n",
       "    <g transform=\"translate(137.01605 122.448)scale(0.18 -0.18)\">\n",
       "     <defs>\n",
       "      <path d=\"M 28.09375 66.484375  C 28.203125 66.890625 28.40625 67.484375 28.40625 67.984375  C 28.40625 69 27.40625 69 27.203125 69  C 27.09375 69 23.5 68.6875 21.703125 68.484375  C 20 68.390625 18.5 68.1875 16.703125 68.09375  C 14.296875 67.890625 13.59375 67.796875 13.59375 65.984375  C 13.59375 64.984375 14.59375 64.984375 15.59375 64.984375  C 20.703125 64.984375 20.703125 64.109375 20.703125 63.125  C 20.703125 62.71875 20.703125 62.53125 20.203125 60.75  L 5.90625 3.90625  C 5.5 2.390625 5.5 2.203125 5.5 1.59375  C 5.5 -0.609375 7.203125 -1 8.203125 -1  C 11 -1 11.59375 1.1875 12.40625 4.296875  L 17.09375 23.0625  C 24.296875 22.265625 28.59375 19.25 28.59375 14.4375  C 28.59375 13.828125 28.59375 13.4375 28.296875 11.921875  C 27.90625 10.421875 27.90625 9.21875 27.90625 8.71875  C 27.90625 2.890625 31.703125 -1 36.796875 -1  C 41.40625 -1 43.796875 3.203125 44.59375 4.609375  C 46.703125 8.3125 48 13.9375 48 14.328125  C 48 14.828125 47.59375 15.234375 47 15.234375  C 46.09375 15.234375 46 14.828125 45.59375 13.234375  C 44.203125 8.015625 42.09375 1 37 1  C 35 1 33.703125 2 33.703125 5.8125  C 33.703125 7.71875 34.09375 9.921875 34.5 11.421875  C 34.90625 13.234375 34.90625 13.328125 34.90625 14.53125  C 34.90625 20.453125 29.59375 23.765625 20.40625 24.96875  C 24 27.171875 27.59375 31.078125 29 32.59375  C 34.703125 38.984375 38.59375 41.984375 43.203125 41.984375  C 45.5 41.984375 46.09375 41.484375 46.796875 41  C 43.09375 40.59375 41.703125 37.984375 41.703125 35.984375  C 41.703125 33.59375 43.59375 32.796875 45 32.796875  C 47.703125 32.796875 50.09375 35.09375 50.09375 38.296875  C 50.09375 41.15625 47.796875 44 43.296875 44  C 37.796875 44 33.296875 40.296875 26.203125 32.296875  C 25.203125 31.078125 21.5 27.28125 17.796875 25.875  z \" id=\"CMMI12-107\"/>\n",
       "      <path d=\"M 34.09375 5.78125  C 35.40625 0.1875 40.203125 -1 42.59375 -1  C 45.796875 -1 48.203125 1.09375 49.796875 4.484375  C 51.5 8.078125 52.796875 13.953125 52.796875 14.265625  C 52.796875 14.75 52.40625 15.15625 51.796875 15.15625  C 50.90625 15.15625 50.796875 14.65625 50.40625 13.15625  C 48.59375 6.28125 46.796875 1 42.796875 1  C 39.796875 1 39.796875 4.28125 39.796875 5.578125  C 39.796875 7.875 40.09375 8.875 41.09375 13.0625  C 41.796875 15.75 42.5 18.453125 43.09375 21.234375  L 47.203125 37.5  C 47.90625 40 47.90625 40.1875 47.90625 40.484375  C 47.90625 41.984375 46.703125 43 45.203125 43  C 42.296875 43 41.59375 40.484375 41 38  C 40 34.109375 34.59375 12.65625 33.90625 9.171875  C 33.796875 9.171875 29.90625 1 22.59375 1  C 17.40625 1 16.40625 5.484375 16.40625 9.171875  C 16.40625 14.859375 19.203125 22.84375 21.796875 29.53125  C 23 32.71875 23.5 34.015625 23.5 36.015625  C 23.5 40.296875 20.40625 44 15.59375 44  C 6.40625 44 2.703125 29.53125 2.703125 28.71875  C 2.703125 28.328125 3.09375 27.828125 3.796875 27.828125  C 4.703125 27.828125 4.796875 28.234375 5.203125 29.625  C 7.59375 38.203125 11.5 41.984375 15.296875 41.984375  C 16.296875 41.984375 17.90625 41.890625 17.90625 38.703125  C 17.90625 36.109375 16.796875 33.21875 15.296875 29.421875  C 10.90625 17.546875 10.40625 13.765625 10.40625 10.765625  C 10.40625 0.59375 18.09375 -1 22.203125 -1  C 28.59375 -1 32.09375 3.390625 34.09375 5.78125  z \" id=\"CMMI12-117\"/>\n",
       "     </defs>\n",
       "     <use transform=\"scale(0.996264)\" xlink:href=\"#CMMI12-107\"/>\n",
       "     <use transform=\"translate(54.079201 0)scale(0.996264)\" xlink:href=\"#CMMI12-117\"/>\n",
       "    </g>\n",
       "   </g>\n",
       "   <g id=\"text_3\">\n",
       "    <!-- $u(t)$ -->\n",
       "    <g transform=\"translate(325.207075 94.92)scale(0.18 -0.18)\">\n",
       "     <defs>\n",
       "      <path d=\"M 30.59375 -24.40625  C 30.59375 -24.3125 30.59375 -24.109375 30.296875 -23.8125  C 25.703125 -19.109375 13.40625 -6.296875 13.40625 24.9375  C 13.40625 56.171875 25.5 68.875 30.40625 73.890625  C 30.40625 73.984375 30.59375 74.1875 30.59375 74.484375  C 30.59375 74.796875 30.296875 75 29.90625 75  C 28.796875 75 20.296875 67.578125 15.40625 56.5625  C 10.40625 45.453125 9 34.65625 9 25.046875  C 9 17.828125 9.703125 5.625 15.703125 -7.296875  C 20.5 -17.703125 28.703125 -25 29.90625 -25  C 30.40625 -25 30.59375 -24.8125 30.59375 -24.40625  z \" id=\"CMR17-40\"/>\n",
       "      <path d=\"M 20.09375 40.09375  L 29.296875 40.09375  C 31.203125 40.09375 32.203125 40.09375 32.203125 41.890625  C 32.203125 43 31.59375 43 29.59375 43  L 20.796875 43  L 24.5 57.25  C 24.90625 58.625 24.90625 58.8125 24.90625 59.5  C 24.90625 61.09375 23.59375 62 22.296875 62  C 21.5 62 19.203125 61.6875 18.40625 58.53125  L 14.5 43  L 5.09375 43  C 3.09375 43 2.203125 43 2.203125 41.09375  C 2.203125 40.09375 2.90625 40.09375 4.796875 40.09375  L 13.703125 40.09375  L 7.09375 13.765625  C 6.296875 10.265625 6 9.265625 6 7.96875  C 6 3.28125 9.296875 -1 14.90625 -1  C 25 -1 30.40625 13.5625 30.40625 14.265625  C 30.40625 14.859375 30 15.15625 29.40625 15.15625  C 29.203125 15.15625 28.796875 15.15625 28.59375 14.75  C 28.5 14.65625 28.40625 14.5625 27.703125 12.96875  C 25.59375 7.96875 21 1 15.203125 1  C 12.203125 1 12 3.484375 12 5.6875  C 12 5.78125 12 7.671875 12.296875 8.875  z \" id=\"CMMI12-116\"/>\n",
       "      <path d=\"M 26.296875 24.9375  C 26.296875 32.140625 25.59375 44.359375 19.59375 57.265625  C 14.796875 67.6875 6.59375 75 5.40625 75  C 5.09375 75 4.703125 74.890625 4.703125 74.390625  C 4.703125 74.1875 4.796875 74.09375 4.90625 73.890625  C 9.703125 68.875 21.90625 56.171875 21.90625 25.046875  C 21.90625 -6.1875 9.796875 -18.90625 4.90625 -23.90625  C 4.796875 -24.109375 4.703125 -24.203125 4.703125 -24.40625  C 4.703125 -24.90625 5.09375 -25 5.40625 -25  C 6.5 -25 15 -17.609375 19.90625 -6.59375  C 24.90625 4.515625 26.296875 15.328125 26.296875 24.9375  z \" id=\"CMR17-41\"/>\n",
       "     </defs>\n",
       "     <use transform=\"scale(0.996264)\" xlink:href=\"#CMMI12-117\"/>\n",
       "     <use transform=\"translate(55.52033 0)scale(0.996264)\" xlink:href=\"#CMR17-40\"/>\n",
       "     <use transform=\"translate(90.801097 0)scale(0.996264)\" xlink:href=\"#CMMI12-116\"/>\n",
       "     <use transform=\"translate(126.027428 0)scale(0.996264)\" xlink:href=\"#CMR17-41\"/>\n",
       "    </g>\n",
       "   </g>\n",
       "  </g>\n",
       " </g>\n",
       " <defs>\n",
       "  <clipPath id=\"pa2962d1bdf\">\n",
       "   <rect height=\"223.2\" width=\"357.12\" x=\"57.6\" y=\"62.928\"/>\n",
       "  </clipPath>\n",
       " </defs>\n",
       " <defs>\n",
       "  <pattern height=\"72\" id=\"h74eb26d38e\" patternUnits=\"userSpaceOnUse\" width=\"72\" x=\"0\" y=\"0\">\n",
       "   <rect fill=\"#ffffff\" height=\"73\" width=\"73\" x=\"0\" y=\"0\"/>\n",
       "   <path d=\"M -36 36  L 36 -36  M -24 48  L 48 -24  M -12 60  L 60 -12  M 0 72  L 72 0  M 12 84  L 84 12  M 24 96  L 96 24  M 36 108  L 108 36  \" style=\"fill:#000000;stroke:#000000;stroke-linecap:butt;stroke-linejoin:miter;stroke-width:1.0;\"/>\n",
       "  </pattern>\n",
       " </defs>\n",
       "</svg>"
      ],
      "text/plain": [
       "<IPython.core.display.SVG object>"
      ]
     },
     "metadata": {},
     "output_type": "display_data"
    }
   ],
   "source": [
    "display(SVG(Sketch.matplotlib2SVG()))"
   ]
  },
  {
   "cell_type": "markdown",
   "metadata": {},
   "source": [
    "### From URL"
   ]
  },
  {
   "cell_type": "code",
   "execution_count": null,
   "metadata": {},
   "outputs": [],
   "source": [
    "sketch.url2Sketch(\"https://raw.githubusercontent.com/gbrault/jupytersketches/master/dryfriction.yml\")"
   ]
  },
  {
   "cell_type": "code",
   "execution_count": null,
   "metadata": {},
   "outputs": [],
   "source": [
    "d = sketch.container['friction'].draw()"
   ]
  },
  {
   "cell_type": "code",
   "execution_count": null,
   "metadata": {},
   "outputs": [],
   "source": [
    "display(SVG(Sketch.matplotlib2SVG()))"
   ]
  },
  {
   "cell_type": "code",
   "execution_count": null,
   "metadata": {},
   "outputs": [],
   "source": []
  }
 ],
 "metadata": {
  "kernelspec": {
   "display_name": "Python 3",
   "language": "python",
   "name": "python3"
  },
  "language_info": {
   "codemirror_mode": {
    "name": "ipython",
    "version": 3
   },
   "file_extension": ".py",
   "mimetype": "text/x-python",
   "name": "python",
   "nbconvert_exporter": "python",
   "pygments_lexer": "ipython3",
   "version": "3.8.5"
  }
 },
 "nbformat": 4,
 "nbformat_minor": 4
}
