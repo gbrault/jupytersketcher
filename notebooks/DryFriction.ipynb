{
 "cells": [
  {
   "cell_type": "code",
   "execution_count": 1,
   "metadata": {},
   "outputs": [],
   "source": [
    "%matplotlib widget"
   ]
  },
  {
   "cell_type": "code",
   "execution_count": null,
   "metadata": {},
   "outputs": [],
   "source": [
    "import matplotlib as mpl\n",
    "mpl.rc('text', usetex = True)\n",
    "mpl.rc('font', family = 'serif')"
   ]
  },
  {
   "cell_type": "code",
   "execution_count": 2,
   "metadata": {},
   "outputs": [],
   "source": [
    "from pysketcher import *"
   ]
  },
  {
   "cell_type": "code",
   "execution_count": 3,
   "metadata": {},
   "outputs": [],
   "source": [
    "from ipywidgets import FloatSlider, AppLayout, Label, HBox, Button, Output"
   ]
  },
  {
   "cell_type": "code",
   "execution_count": 4,
   "metadata": {},
   "outputs": [],
   "source": [
    "from IPython.display import HTML, SVG, display, clear_output"
   ]
  },
  {
   "cell_type": "code",
   "execution_count": 5,
   "metadata": {},
   "outputs": [],
   "source": [
    "from math import tan, radians, sin, cos"
   ]
  },
  {
   "cell_type": "code",
   "execution_count": 6,
   "metadata": {},
   "outputs": [],
   "source": [
    "myfig={}"
   ]
  },
  {
   "cell_type": "code",
   "execution_count": 7,
   "metadata": {},
   "outputs": [],
   "source": [
    "gw = \"\"\"\\\n",
    "libraries: [\"from math import tan, radians, sin, cos\",\"from pysketcher import *\"]\n",
    "fontsize: 18\n",
    "g: 9.81              # constant gravity\n",
    "theta: 30.0          # inclined plane angle\n",
    "L: 10.0              # sketch sizing parameter\n",
    "a: 1.0               #\n",
    "xmin: 0.0            # sketech min Abscissa\n",
    "ymin: -3.0           # sketech min Ordinate     \n",
    "rl: 2.0              # rectangle width\n",
    "rL: 1.0              # rectangle length\n",
    "setframe:            # sketch setup\n",
    "    action: \"drawing_tool.set_coordinate_system(xmin=xmin, xmax=xmin+1.5*L,ymin=ymin, ymax=ymin+1.5*L,instruction_file='tmp_mpl_friction.py')\"\n",
    "setblackline:        # default frame values and actions\n",
    "    action: \"drawing_tool.set_linecolor('black')\"\n",
    "B: point(a+L,0)                      # wall right end\n",
    "A: point(a,tan(radians(theta))*L)    # wall left end\n",
    "normal_vec: point(sin(radians(theta)),cos(radians(theta)))     # Vector normal to wall\n",
    "tangent_vec: point(cos(radians(theta)),-sin(radians(theta)))   # Vector tangent to wall\n",
    "help_line: Line(A,B)                 # wall line\n",
    "x: a + 3*L/10.\n",
    "y: help_line(x=x)    \n",
    "contact: point(x, y)    \n",
    "c: contact + rL/2*normal_vec\n",
    "rectangle: \n",
    "    formula: Rectangle(contact, rl, rL)\n",
    "    style:\n",
    "        linecolor: blue\n",
    "        filled_curves: blue\n",
    "    transform: [\"rotate(-theta, contact)\",\"translate(-rl/2*tangent_vec)\"]\n",
    "N: \n",
    "    formula: Force(contact - rl*normal_vec, contact, r'$N$', text_pos='start')\n",
    "    style:\n",
    "        linecolor: black\n",
    "mg: \n",
    "    formula: Gravity(c, rl, text='$Mg$')\n",
    "    style:\n",
    "        linecolor: black\n",
    "wheel: \n",
    "    formula: \"Composition({'outer': rectangle})\"   \n",
    "    style:\n",
    "        shadow: 1\n",
    "body: \n",
    "    formula: \"Composition({'wheel': wheel, 'N': N, 'mg': mg})\"\n",
    "    style:\n",
    "        linecolor: black\n",
    "mB:\n",
    "    formula: Text(r'$B$',B)\n",
    "mA:\n",
    "    formula: Text(r'$A$', A)\n",
    "wall: \n",
    "    formula: Wall(x=[A[0], B[0]], y=[A[1], B[1]], thickness=-0.25,transparent=False)\n",
    "    style:\n",
    "        linecolor: black    \n",
    "angle: \n",
    "    formula: \"Arc_wText(r'$<bslash>theta$', center=B, radius=3, start_angle=180-theta, arc_angle=theta, fontsize=fontsize)\"\n",
    "    style:\n",
    "        linecolor: black\n",
    "        linewidth: 1\n",
    "ground: \n",
    "     formula: Line((B[0]-L/10., 0), (B[0]-L/2.,0))\n",
    "     stlye:\n",
    "         linecolor: black\n",
    "         linestyle: dashed\n",
    "         linewidth: 1\n",
    "x_const: \n",
    "    formula: Line(contact, contact + point(0,4))\n",
    "    style:\n",
    "        linestyle: dotted\n",
    "    transform: rotate(-theta, contact)\n",
    "x_axis: \n",
    "    formula: \"Axis(start=contact+ 2*rl*normal_vec, length=2*rl,label='$x$', rotation_angle=-theta)\"\n",
    "plan: \n",
    "    formula: \"Composition({'body': body, 'angle': angle, 'inclined wall': wall, 'x start': x_const, 'x axis': x_axis, 'mA': mA, 'mB': mB})\"\n",
    "friction: \n",
    "    formula: \"Composition({'plan': plan, 'ground': ground})\"\n",
    "\"\"\""
   ]
  },
  {
   "cell_type": "code",
   "execution_count": 8,
   "metadata": {},
   "outputs": [],
   "source": [
    "sketchParse(gw,myfig)"
   ]
  },
  {
   "cell_type": "code",
   "execution_count": 9,
   "metadata": {},
   "outputs": [],
   "source": [
    "d = myfig['friction'].draw()"
   ]
  },
  {
   "cell_type": "code",
   "execution_count": 10,
   "metadata": {},
   "outputs": [],
   "source": [
    "drawing_tool.display()"
   ]
  },
  {
   "cell_type": "code",
   "execution_count": 11,
   "metadata": {},
   "outputs": [],
   "source": [
    "angle = myfig['theta']\n",
    "def doright(change):\n",
    "    global angle\n",
    "    rotate(-5)\n",
    "    angle += 5\n",
    "def doleft(change):\n",
    "    global angle\n",
    "    rotate(5)\n",
    "    angle -= 5\n",
    "def rotate(theta):\n",
    "    global angle\n",
    "    drawing_tool.erase()\n",
    "    myfig['plan']['angle'].changeAngles(180-angle,angle)\n",
    "    myfig['plan'].rotate(theta,myfig['B'])\n",
    "    myfig['friction'].draw()"
   ]
  },
  {
   "cell_type": "code",
   "execution_count": 12,
   "metadata": {},
   "outputs": [],
   "source": [
    "left = Button(\n",
    "    description = '',\n",
    "    icon = 'rotate-left',\n",
    ")\n",
    "left.on_click(doleft)\n",
    "right = Button(\n",
    "    description = '',\n",
    "    icon = 'rotate-right',\n",
    ")\n",
    "right.on_click(doright)\n",
    "output = Output()"
   ]
  },
  {
   "cell_type": "code",
   "execution_count": 13,
   "metadata": {},
   "outputs": [],
   "source": [
    "applayout = AppLayout(\n",
    "    center=output,\n",
    "    footer=HBox([left,right]),\n",
    "    pane_heights=[0, 6, 1]\n",
    ")\n",
    "#drawing_tool.mpl.ion()"
   ]
  },
  {
   "cell_type": "code",
   "execution_count": 16,
   "metadata": {},
   "outputs": [
    {
     "data": {
      "application/vnd.jupyter.widget-view+json": {
       "model_id": "5252ca49b2834a9f8aaaa90463c502e3",
       "version_major": 2,
       "version_minor": 0
      },
      "text/plain": [
       "AppLayout(children=(HBox(children=(Button(icon='rotate-left', style=ButtonStyle()), Button(icon='rotate-right'…"
      ]
     },
     "metadata": {},
     "output_type": "display_data"
    }
   ],
   "source": [
    "applayout"
   ]
  },
  {
   "cell_type": "code",
   "execution_count": 17,
   "metadata": {},
   "outputs": [],
   "source": [
    "with output:\n",
    "    clear_output()\n",
    "    display(drawing_tool.mpl.gcf().canvas)"
   ]
  },
  {
   "cell_type": "code",
   "execution_count": 18,
   "metadata": {},
   "outputs": [],
   "source": [
    "drawing_tool.mpl.ion()"
   ]
  },
  {
   "cell_type": "code",
   "execution_count": 19,
   "metadata": {},
   "outputs": [],
   "source": [
    "import time"
   ]
  },
  {
   "cell_type": "code",
   "execution_count": 87,
   "metadata": {},
   "outputs": [],
   "source": [
    "for i in range(0,5):\n",
    "    doright(None)\n",
    "    with output:\n",
    "        clear_output(wait=True)\n",
    "        display(drawing_tool.mpl.gcf().canvas)\n",
    "    time.sleep(1)"
   ]
  },
  {
   "cell_type": "code",
   "execution_count": 22,
   "metadata": {},
   "outputs": [
    {
     "data": {
      "image/svg+xml": [
       "<svg height=\"345.6pt\" version=\"1.1\" viewBox=\"0 0 460.8 345.6\" width=\"460.8pt\" xmlns=\"http://www.w3.org/2000/svg\" xmlns:xlink=\"http://www.w3.org/1999/xlink\">\n",
       " <metadata>\n",
       "  <rdf:RDF xmlns:cc=\"http://creativecommons.org/ns#\" xmlns:dc=\"http://purl.org/dc/elements/1.1/\" xmlns:rdf=\"http://www.w3.org/1999/02/22-rdf-syntax-ns#\">\n",
       "   <cc:Work>\n",
       "    <dc:type rdf:resource=\"http://purl.org/dc/dcmitype/StillImage\"/>\n",
       "    <dc:date>2020-08-02T10:39:43.877615</dc:date>\n",
       "    <dc:format>image/svg+xml</dc:format>\n",
       "    <dc:creator>\n",
       "     <cc:Agent>\n",
       "      <dc:title>Matplotlib v3.3.0, https://matplotlib.org/</dc:title>\n",
       "     </cc:Agent>\n",
       "    </dc:creator>\n",
       "   </cc:Work>\n",
       "  </rdf:RDF>\n",
       " </metadata>\n",
       " <defs>\n",
       "  <style type=\"text/css\">*{stroke-linecap:butt;stroke-linejoin:round;}</style>\n",
       " </defs>\n",
       " <g id=\"figure_1\">\n",
       "  <g id=\"patch_1\">\n",
       "   <path d=\"M 0 345.6  L 460.8 345.6  L 460.8 0  L 0 0  z \" style=\"fill:#ffffff;\"/>\n",
       "  </g>\n",
       "  <g id=\"axes_1\">\n",
       "   <g id=\"line2d_1\">\n",
       "    <path clip-path=\"url(#pae97edcae7)\" d=\"M 197.675304 133.922746  L 220.482436 161.103229  L 234.072678 149.699663  L 211.265545 122.51918  L 197.675304 133.922746  \" style=\"fill:none;stroke:#808080;stroke-linecap:square;stroke-width:2;\"/>\n",
       "   </g>\n",
       "   <g id=\"patch_2\">\n",
       "    <path clip-path=\"url(#pae97edcae7)\" d=\"M 194.675304 130.922746  L 217.482436 158.103229  L 231.072678 146.699663  L 208.265545 119.51918  z \" style=\"fill:#0000ff;stroke:#000000;stroke-linejoin:miter;stroke-width:2;\"/>\n",
       "   </g>\n",
       "   <g id=\"patch_3\">\n",
       "    <path clip-path=\"url(#pae97edcae7)\" d=\"M 206.07887 144.512988  L 203.325699 148.994326  L 202.262316 147.727036  L 178.904089 167.326916  L 178.892686 167.313325  L 202.250913 147.713446  L 201.18753 146.446156  z \" style=\"stroke:#000000;stroke-linejoin:miter;stroke-width:2;\"/>\n",
       "   </g>\n",
       "   <g id=\"patch_4\">\n",
       "    <path clip-path=\"url(#pae97edcae7)\" d=\"M 200.738569 172.153002  L 200.882216 166.895464  L 202.436777 167.461278  L 212.865655 138.808171  L 212.882326 138.814238  L 202.453448 167.467346  L 204.008009 168.03316  z \" style=\"stroke:#000000;stroke-linejoin:miter;stroke-width:2;\"/>\n",
       "   </g>\n",
       "   <g id=\"patch_5\">\n",
       "    <path clip-path=\"url(#pae97edcae7)\" d=\"M 166.575757 97.435011  L 298.2528 254.3616  L 296.735872 258.529325  L 165.058829 101.602736  z \" style=\"fill:url(#h9106ce6f3e);stroke:#000000;stroke-linejoin:miter;stroke-width:2;\"/>\n",
       "   </g>\n",
       "   <g id=\"line2d_2\">\n",
       "    <path clip-path=\"url(#pae97edcae7)\" d=\"M 178.898387 167.320121  L 206.07887 144.512988  \" style=\"fill:none;stroke:#000000;stroke-linecap:square;stroke-width:2;\"/>\n",
       "   </g>\n",
       "   <g id=\"line2d_3\">\n",
       "    <path clip-path=\"url(#pae97edcae7)\" d=\"M 212.873991 138.811205  L 200.738569 172.153002  \" style=\"fill:none;stroke:#000000;stroke-linecap:square;stroke-width:2;\"/>\n",
       "   </g>\n",
       "   <g id=\"line2d_4\">\n",
       "    <path clip-path=\"url(#pae97edcae7)\" d=\"M 264.042101 213.590876  L 261.448816 215.915656  L 259.013131 218.405068  L 256.745476 221.048451  L 254.655562 223.834485  L 252.752338 226.751242  L 251.043955 229.786231  L 249.537726 232.926455  L 248.240103 236.158467  L 247.156643 239.468428  L 246.291983 242.842164  L 245.649828 246.265228  L 245.232927 249.722962  L 245.232927 249.722962  \" style=\"fill:none;stroke:#000000;stroke-linecap:square;\"/>\n",
       "   </g>\n",
       "   <g id=\"line2d_5\">\n",
       "    <path clip-path=\"url(#pae97edcae7)\" d=\"M 206.07887 144.512988  L 260.439835 98.898722  \" style=\"fill:none;stroke:#000000;stroke-dasharray:2,3.3;stroke-dashoffset:0;stroke-width:2;\"/>\n",
       "   </g>\n",
       "   <g id=\"line2d_6\">\n",
       "    <path clip-path=\"url(#pae97edcae7)\" d=\"M 260.439835 98.898722  L 306.054101 153.259687  \" style=\"fill:none;stroke:#000000;stroke-linecap:square;stroke-width:2;\"/>\n",
       "   </g>\n",
       "   <g id=\"line2d_7\">\n",
       "    <path clip-path=\"url(#pae97edcae7)\" d=\"M 305.129903 148.018304  L 306.054101 153.259687  \" style=\"fill:none;stroke:#000000;stroke-linecap:square;stroke-width:2;\"/>\n",
       "   </g>\n",
       "   <g id=\"line2d_8\">\n",
       "    <path clip-path=\"url(#pae97edcae7)\" d=\"M 301.052831 151.439374  L 306.054101 153.259687  \" style=\"fill:none;stroke:#000000;stroke-linecap:square;stroke-width:2;\"/>\n",
       "   </g>\n",
       "   <g id=\"line2d_9\">\n",
       "    <path clip-path=\"url(#pae97edcae7)\" d=\"M 280.512 254.3616  L 209.5488 254.3616  \" style=\"fill:none;stroke:#000000;stroke-linecap:square;stroke-width:2;\"/>\n",
       "   </g>\n",
       "   <g id=\"text_1\">\n",
       "    <!-- $N$ -->\n",
       "    <g transform=\"translate(167.654477 172.166636)scale(0.14 -0.14)\">\n",
       "     <defs>\n",
       "      <path d=\"M 74 57.78125  C 75.09375 62.09375 76.703125 65.09375 84.296875 65.09375  C 84.59375 65.09375 85.796875 65.09375 85.796875 66.859375  C 85.796875 68 84.90625 68 84.5 68  C 82.5 68 77.40625 68 75.40625 68  L 70.59375 68  C 69.203125 68 67.40625 68 66 68  C 65.40625 68 64.203125 68 64.203125 66.09375  C 64.203125 65.09375 65 65.09375 65.703125 65.09375  C 71.703125 65.09375 72.09375 62.796875 72.09375 60.984375  C 72.09375 60.09375 72 59.78125 71.703125 58.390625  L 60.40625 13.28125  L 39 66.390625  C 38.296875 68 38.203125 68 36 68  L 23.796875 68  C 21.796875 68 20.90625 68 20.90625 66.09375  C 20.90625 65.09375 21.59375 65.09375 23.5 65.09375  C 24 65.09375 29.90625 65.09375 29.90625 64.296875  C 29.90625 64.09375 29.703125 63.296875 29.59375 63  L 16.296875 9.921875  C 15.09375 5 12.703125 2.90625 6.09375 2.90625  C 5.59375 2.90625 4.59375 2.90625 4.59375 1.046875  C 4.59375 0 5.59375 0 5.90625 0  C 7.90625 0 13 0 15 0  L 19.796875 0  C 21.203125 0 22.90625 0 24.296875 0  C 25 0 26.09375 0 26.09375 1.90625  C 26.09375 2.8125 25.09375 2.90625 24.703125 2.90625  C 21.40625 2.90625 18.203125 3.5 18.203125 7.09375  C 18.203125 7.890625 18.40625 8.78125 18.59375 9.578125  L 32.09375 63  C 32.703125 62 32.703125 61.8125 33.09375 60.90625  L 56.90625 1.796875  C 57.40625 0.59375 57.59375 0 58.5 0  C 59.5 0 59.59375 0.296875 60 2  z \" id=\"CMMI12-78\"/>\n",
       "     </defs>\n",
       "     <use transform=\"scale(0.996264)\" xlink:href=\"#CMMI12-78\"/>\n",
       "    </g>\n",
       "   </g>\n",
       "   <g id=\"text_2\">\n",
       "    <!-- $Mg$ -->\n",
       "    <g transform=\"translate(187.555431 179.238134)scale(0.14 -0.14)\">\n",
       "     <defs>\n",
       "      <path d=\"M 90.796875 60.71875  C 91.703125 64.109375 91.90625 65.109375 99 65.109375  C 100.90625 65.109375 101.796875 65.109375 101.796875 67  C 101.796875 68 101.09375 68 99.203125 68  L 87.203125 68  C 84.703125 68 84.59375 67.90625 83.5 66.296875  L 47 8.78125  L 39.5 65.796875  C 39.203125 68 39.09375 68 36.5 68  L 24.09375 68  C 22.203125 68 21.296875 68 21.296875 66.109375  C 21.296875 65.109375 22.203125 65.109375 23.703125 65.109375  C 29.796875 65.109375 29.796875 64.3125 29.796875 63.21875  C 29.796875 63.03125 29.796875 62.421875 29.40625 60.921875  L 16.59375 9.90625  C 15.40625 5.109375 13.09375 2.90625 6.40625 2.90625  C 6.09375 2.90625 4.90625 2.90625 4.90625 1.140625  C 4.90625 0 5.796875 0 6.203125 0  C 8.203125 0 13.296875 0 15.296875 0  L 20.09375 0  C 21.5 0 23.203125 0 24.59375 0  C 25.296875 0 26.40625 0 26.40625 1.90625  C 26.40625 2.8125 25.40625 2.90625 25 2.90625  C 21.703125 2.90625 18.5 3.5 18.5 7.09375  C 18.5 8.09375 18.5 8.1875 18.90625 9.578125  L 32.703125 64.515625  L 32.796875 64.515625  L 41.09375 2.6875  C 41.40625 0.296875 41.5 0 42.40625 0  C 43.5 0 44 0.796875 44.5 1.703125  L 84.703125 65.015625  L 84.796875 65.015625  L 70.296875 7.390625  C 69.40625 3.90625 69.203125 2.90625 62.203125 2.90625  C 60.296875 2.90625 59.296875 2.90625 59.296875 1.09375  C 59.296875 0 60.203125 0 60.796875 0  C 62.5 0 64.5 0 66.203125 0  L 78 0  C 79.703125 0 81.796875 0 83.5 0  C 84.296875 0 85.40625 0 85.40625 1.90625  C 85.40625 2.90625 84.5 2.90625 83 2.90625  C 76.90625 2.90625 76.90625 3.65625 76.90625 4.59375  C 76.90625 4.703125 76.90625 5.390625 77.09375 6.1875  z \" id=\"CMMI12-77\"/>\n",
       "      <path d=\"M 33.796875 12.671875  C 33.40625 11.078125 33.203125 10.671875 31.90625 9.1875  C 27.796875 3.890625 23.59375 2 20.5 2  C 17.203125 2 14.09375 4.59375 14.09375 11.46875  C 14.09375 16.765625 17.09375 27.9375 19.296875 32.4375  C 22.203125 38.015625 26.703125 42.015625 30.90625 42.015625  C 37.5 42.015625 38.796875 33.828125 38.796875 33.234375  L 38.5 31.828125  z M 40 37.421875  C 38.703125 40.3125 35.90625 44 30.90625 44  C 20 44 7.59375 30.328125 7.59375 15.46875  C 7.59375 5.09375 13.90625 0 20.296875 0  C 25.59375 0 30.296875 4.1875 32.09375 6.1875  L 29.90625 -2.671875  C 28.5 -8.0625 27.90625 -10.53125 24.296875 -13.96875  C 20.203125 -18 16.40625 -18 14.203125 -18  C 11.203125 -18 8.703125 -17.796875 6.203125 -17.015625  C 9.40625 -16.140625 10.203125 -13.40625 10.203125 -12.328125  C 10.203125 -10.765625 9 -9.1875 6.796875 -9.1875  C 4.40625 -9.1875 1.796875 -11.15625 1.796875 -14.40625  C 1.796875 -18.4375 5.90625 -20 14.40625 -20  C 27.296875 -20 34 -11.765625 35.296875 -6.40625  L 46.40625 38.046875  C 46.703125 39.234375 46.703125 39.4375 46.703125 39.625  C 46.703125 41.015625 45.59375 42.109375 44.09375 42.109375  C 41.703125 42.109375 40.296875 40.109375 40 37.421875  z \" id=\"CMMI12-103\"/>\n",
       "     </defs>\n",
       "     <use transform=\"scale(0.996264)\" xlink:href=\"#CMMI12-77\"/>\n",
       "     <use transform=\"translate(104.780079 0)scale(0.996264)\" xlink:href=\"#CMMI12-103\"/>\n",
       "    </g>\n",
       "   </g>\n",
       "   <g id=\"text_3\">\n",
       "    <!-- $\\theta$ -->\n",
       "    <g transform=\"translate(243.018507 227.738283)scale(0.18 -0.18)\">\n",
       "     <defs>\n",
       "      <path d=\"M 44.296875 50  C 44.296875 60.15625 41.09375 70 32.90625 70  C 18.90625 70 4 40.859375 4 19  C 4 14.421875 5 -1 15.5 -1  C 29.09375 -1 44.296875 27.4375 44.296875 50  z M 14 36  C 15.5 41.859375 17.59375 50.21875 21.59375 57.265625  C 24.90625 63.234375 28.40625 68 32.796875 68  C 36.09375 68 38.296875 65.21875 38.296875 55.6875  C 38.296875 52.09375 38 47.140625 35.09375 36  z M 34.40625 33.015625  C 31.90625 23.28125 29.796875 17 26.203125 10.734375  C 23.296875 5.671875 19.796875 1 15.59375 1  C 12.5 1 10 3.390625 10 13.21875  C 10 19.6875 11.59375 26.453125 13.203125 33.015625  z \" id=\"CMMI12-18\"/>\n",
       "     </defs>\n",
       "     <use transform=\"scale(0.996264)\" xlink:href=\"#CMMI12-18\"/>\n",
       "    </g>\n",
       "   </g>\n",
       "   <g id=\"text_4\">\n",
       "    <!-- $x$ -->\n",
       "    <g transform=\"translate(305.974905 157.789767)scale(0.14 -0.14)\">\n",
       "     <defs>\n",
       "      <path d=\"M 47.40625 40.71875  C 44.203125 40.109375 43 37.71875 43 35.828125  C 43 33.421875 44.90625 32.625 46.296875 32.625  C 49.296875 32.625 51.40625 35.21875 51.40625 37.921875  C 51.40625 42.109375 46.59375 44 42.40625 44  C 36.296875 44 32.90625 38.015625 32 36.125  C 29.703125 44 23.5 44 21.703125 44  C 11.5 44 6.09375 30.9375 6.09375 28.734375  C 6.09375 28.34375 6.5 27.84375 7.203125 27.84375  C 8 27.84375 8.203125 28.4375 8.40625 28.84375  C 11.796875 39.921875 18.5 42.015625 21.40625 42.015625  C 25.90625 42.015625 26.796875 37.8125 26.796875 35.421875  C 26.796875 33.234375 26.203125 30.9375 25 26.140625  L 21.59375 12.46875  C 20.09375 6.484375 17.203125 1 11.90625 1  C 11.40625 1 8.90625 1 6.796875 2.296875  C 10.40625 3 11.203125 5.984375 11.203125 7.1875  C 11.203125 9.1875 9.703125 10.375 7.796875 10.375  C 5.40625 10.375 2.796875 8.28125 2.796875 5.09375  C 2.796875 0.890625 7.5 -1 11.796875 -1  C 16.59375 -1 20 2.796875 22.09375 6.890625  C 23.703125 1 28.703125 -1 32.40625 -1  C 42.59375 -1 48 12.078125 48 14.265625  C 48 14.765625 47.59375 15.171875 47 15.171875  C 46.09375 15.171875 46 14.671875 45.703125 13.875  C 43 5.09375 37.203125 1 32.703125 1  C 29.203125 1 27.296875 3.59375 27.296875 7.6875  C 27.296875 9.875 27.703125 11.46875 29.296875 18.0625  L 32.796875 31.625  C 34.296875 37.625 37.703125 42.015625 42.296875 42.015625  C 42.5 42.015625 45.296875 42.015625 47.40625 40.71875  z \" id=\"CMMI12-120\"/>\n",
       "     </defs>\n",
       "     <use transform=\"scale(0.996264)\" xlink:href=\"#CMMI12-120\"/>\n",
       "    </g>\n",
       "   </g>\n",
       "   <g id=\"text_5\">\n",
       "    <!-- $A$ -->\n",
       "    <g transform=\"translate(161.456808 97.435011)scale(0.14 -0.14)\">\n",
       "     <defs>\n",
       "      <path d=\"M 17 10.796875  C 13.5 4.90625 10.09375 2.90625 5.296875 2.90625  C 4.203125 2.8125 3.40625 2.8125 3.40625 0.90625  C 3.40625 0.375 3.90625 0 4.59375 0  C 6.40625 0 10.90625 0 12.703125 0  C 15.59375 0 18.796875 0 21.59375 0  C 22.203125 0 23.40625 0 23.40625 1.90625  C 23.40625 2.8125 22.59375 2.90625 22 2.90625  C 19.703125 2.90625 17.796875 3.6875 17.796875 6.0625  C 17.796875 7.4375 18.40625 8.53125 19.703125 10.703125  L 27.296875 23.109375  L 52.796875 23.109375  C 52.90625 22.234375 52.90625 21.453125 53 20.5625  C 53.296875 18 54.5 7.734375 54.5 5.875  C 54.5 2.90625 49.40625 2.90625 47.796875 2.90625  C 46.703125 2.90625 45.59375 2.90625 45.59375 1.09375  C 45.59375 0 46.5 0 47.09375 0  C 48.796875 0 50.796875 0 52.5 0  L 58.203125 0  C 64.296875 0 68.703125 0 68.796875 0  C 69.5 0 70.59375 0 70.59375 1.90625  C 70.59375 2.90625 69.703125 2.90625 68.203125 2.90625  C 62.703125 2.90625 62.59375 3.8125 62.296875 6.78125  L 56.203125 68.8125  C 56 70.796875 55.59375 71 54.5 71  C 53.5 71 52.90625 70.796875 52 69.296875  z M 29 26  L 49.09375 59.671875  L 52.5 26  z \" id=\"CMMI12-65\"/>\n",
       "     </defs>\n",
       "     <use transform=\"scale(0.996264)\" xlink:href=\"#CMMI12-65\"/>\n",
       "    </g>\n",
       "   </g>\n",
       "   <g id=\"text_6\">\n",
       "    <!-- $B$ -->\n",
       "    <g transform=\"translate(293.065245 254.3616)scale(0.14 -0.14)\">\n",
       "     <defs>\n",
       "      <path d=\"M 36.59375 61.265625  C 37.5 65 37.90625 65 41.796875 65  L 54.796875 65  C 66.09375 65 66.09375 55.375 66.09375 54.453125  C 66.09375 46.34375 58 36 44.796875 36  L 30.40625 36  z M 53.5 35.546875  C 64.40625 37.53125 74.296875 45.09375 74.296875 54.265625  C 74.296875 62.03125 67.40625 68 56.09375 68  L 24 68  C 22.09375 68 21.203125 68 21.203125 66.03125  C 21.203125 65 22.09375 65 23.59375 65  C 29.703125 65 29.703125 64.25 29.703125 63.1875  C 29.703125 63 29.703125 62.390625 29.296875 60.890625  L 15.796875 7.375  C 14.90625 3.890625 14.703125 2.890625 7.703125 2.890625  C 5.796875 2.890625 4.796875 2.890625 4.796875 1.09375  C 4.796875 0 5.40625 0 7.40625 0  L 41.703125 0  C 57 0 68.796875 11.546875 68.796875 21.609375  C 68.796875 29.78125 61.59375 34.75 53.5 35.546875  z M 39.296875 2.890625  L 25.796875 2.890625  C 24.40625 2.890625 24.203125 2.890625 23.59375 3  C 22.5 3.09375 22.40625 3.296875 22.40625 4.078125  C 22.40625 4.765625 22.59375 5.359375 22.796875 6.234375  L 29.796875 34  L 48.59375 34  C 60.40625 34 60.40625 23.171875 60.40625 22.390625  C 60.40625 12.9375 51.703125 2.890625 39.296875 2.890625  z \" id=\"CMMI12-66\"/>\n",
       "     </defs>\n",
       "     <use transform=\"scale(0.996264)\" xlink:href=\"#CMMI12-66\"/>\n",
       "    </g>\n",
       "   </g>\n",
       "  </g>\n",
       " </g>\n",
       " <defs>\n",
       "  <clipPath id=\"pae97edcae7\">\n",
       "   <rect height=\"266.112\" width=\"266.112\" x=\"103.104\" y=\"41.472\"/>\n",
       "  </clipPath>\n",
       " </defs>\n",
       " <defs>\n",
       "  <pattern height=\"72\" id=\"h9106ce6f3e\" patternUnits=\"userSpaceOnUse\" width=\"72\" x=\"0\" y=\"0\">\n",
       "   <rect fill=\"#ffffff\" height=\"73\" width=\"73\" x=\"0\" y=\"0\"/>\n",
       "   <path d=\"M -36 36  L 36 -36  M -24 48  L 48 -24  M -12 60  L 60 -12  M 0 72  L 72 0  M 12 84  L 84 12  M 24 96  L 96 24  M 36 108  L 108 36  \" style=\"fill:#000000;stroke:#000000;stroke-linecap:butt;stroke-linejoin:miter;stroke-width:1.0;\"/>\n",
       "  </pattern>\n",
       " </defs>\n",
       "</svg>"
      ],
      "text/plain": [
       "<IPython.core.display.SVG object>"
      ]
     },
     "metadata": {},
     "output_type": "display_data"
    }
   ],
   "source": [
    "for i in range(0,10):\n",
    "    doright(None)\n",
    "    clear_output(wait=True)\n",
    "    display(SVG(sketch2SVG()))\n",
    "    time.sleep(0.01)"
   ]
  },
  {
   "cell_type": "code",
   "execution_count": null,
   "metadata": {},
   "outputs": [],
   "source": [
    "drawing_tool.mpl"
   ]
  },
  {
   "cell_type": "code",
   "execution_count": null,
   "metadata": {},
   "outputs": [],
   "source": [
    "myfig['friction'].graphviz_dot('friction')"
   ]
  },
  {
   "cell_type": "code",
   "execution_count": null,
   "metadata": {},
   "outputs": [],
   "source": [
    "!dot -Tpng -o friction.png friction.dot"
   ]
  },
  {
   "cell_type": "markdown",
   "metadata": {},
   "source": [
    "![](friction.png)"
   ]
  },
  {
   "cell_type": "code",
   "execution_count": null,
   "metadata": {},
   "outputs": [],
   "source": [
    "drawing_tool.mpl.gcf().canvas.print_png(\"friction.png\")"
   ]
  },
  {
   "cell_type": "markdown",
   "metadata": {},
   "source": [
    "![](friction.png)"
   ]
  },
  {
   "cell_type": "code",
   "execution_count": null,
   "metadata": {},
   "outputs": [],
   "source": [
    "display(SVG(sketch2SVG()))"
   ]
  },
  {
   "cell_type": "code",
   "execution_count": null,
   "metadata": {},
   "outputs": [],
   "source": [
    "gcf = drawing_tool.mpl.gcf()"
   ]
  },
  {
   "cell_type": "code",
   "execution_count": null,
   "metadata": {},
   "outputs": [],
   "source": [
    "gcf.canvas"
   ]
  },
  {
   "cell_type": "code",
   "execution_count": null,
   "metadata": {},
   "outputs": [],
   "source": [
    "applayout.widgets['f066103c31184869818fd23961bacf85']."
   ]
  },
  {
   "cell_type": "code",
   "execution_count": 70,
   "metadata": {},
   "outputs": [],
   "source": [
    "from io import BytesIO\n",
    "from PIL import Image\n",
    "def sketch2PNG():\n",
    "    f = BytesIO()\n",
    "    drawing_tool.mpl.gcf().canvas.print_png(f)\n",
    "    img = Image.open(f)\n",
    "    return img"
   ]
  },
  {
   "cell_type": "code",
   "execution_count": 20,
   "metadata": {},
   "outputs": [
    {
     "data": {
      "image/png": "[encoded data removed]",
      "text/plain": [
       "<PIL.PngImagePlugin.PngImageFile image mode=RGBA size=640x480 at 0x7FB0ECA15410>"
      ]
     },
     "metadata": {},
     "output_type": "display_data"
    }
   ],
   "source": [
    "for i in range(0,10):\n",
    "    doright(None)\n",
    "    clear_output(wait=True)\n",
    "    display(sketch2PNG()) \n",
    "    time.sleep(0.01)"
   ]
  },
  {
   "cell_type": "code",
   "execution_count": null,
   "metadata": {},
   "outputs": [],
   "source": []
  }
 ],
 "metadata": {
  "kernelspec": {
   "display_name": "Python 3",
   "language": "python",
   "name": "python3"
  },
  "language_info": {
   "codemirror_mode": {
    "name": "ipython",
    "version": 3
   },
   "file_extension": ".py",
   "mimetype": "text/x-python",
   "name": "python",
   "nbconvert_exporter": "python",
   "pygments_lexer": "ipython3",
   "version": "3.7.8"
  }
 },
 "nbformat": 4,
 "nbformat_minor": 4
}
