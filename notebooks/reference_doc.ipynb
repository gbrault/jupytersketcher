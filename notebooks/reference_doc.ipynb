{
 "cells": [
  {
   "cell_type": "markdown",
   "metadata": {},
   "source": [
    "# Reference as the documentation"
   ]
  },
  {
   "cell_type": "markdown",
   "metadata": {},
   "source": [
    "## Table of Content"
   ]
  },
  {
   "cell_type": "markdown",
   "metadata": {},
   "source": [
    "* [Line](#Line)\n",
    "* [Rectangle](#Rectangle)\n",
    "* [Triangle](#Triangle)\n",
    "* [Circle](#Circle)\n",
    "* [Distance with text](#Distance-with-text)\n",
    "* [Text](#Text)\n",
    "* [Cross](#Cross)\n",
    "* [Axis](#Axis)\n",
    "* [Arc](#Arc)\n",
    "* [](#)\n",
    "* [](#)"
   ]
  },
  {
   "cell_type": "markdown",
   "metadata": {},
   "source": [
    "## Setup"
   ]
  },
  {
   "cell_type": "code",
   "execution_count": 1,
   "metadata": {},
   "outputs": [],
   "source": [
    " %matplotlib widget"
   ]
  },
  {
   "cell_type": "code",
   "execution_count": 2,
   "metadata": {},
   "outputs": [],
   "source": [
    "from pysketcher import *"
   ]
  },
  {
   "cell_type": "code",
   "execution_count": 3,
   "metadata": {},
   "outputs": [],
   "source": [
    "drawing_tool.set_coordinate_system(xmin=-10, xmax=10,ymin=-10, ymax=10,axis=True)"
   ]
  },
  {
   "cell_type": "code",
   "execution_count": 4,
   "metadata": {},
   "outputs": [],
   "source": [
    "from IPython.display import SVG, display"
   ]
  },
  {
   "cell_type": "markdown",
   "metadata": {},
   "source": [
    "## Extra steps for YAML"
   ]
  },
  {
   "cell_type": "code",
   "execution_count": 5,
   "metadata": {},
   "outputs": [],
   "source": [
    "head = \"\"\"\\\n",
    "libraries: [\"from math import tan, radians, sin, cos\",\"from pysketcher import *\"]\n",
    "\"\"\"\n",
    "myfig={}\n",
    "sketchParse(head,myfig)"
   ]
  },
  {
   "cell_type": "markdown",
   "metadata": {},
   "source": [
    "## Canvas"
   ]
  },
  {
   "cell_type": "code",
   "execution_count": 6,
   "metadata": {},
   "outputs": [
    {
     "data": {
      "application/vnd.jupyter.widget-view+json": {
       "model_id": "0e4243367bd8469184d74b855029b3ed",
       "version_major": 2,
       "version_minor": 0
      },
      "text/plain": [
       "Canvas(toolbar=Toolbar(toolitems=[('Home', 'Reset original view', 'home', 'home'), ('Back', 'Back to previous …"
      ]
     },
     "metadata": {},
     "output_type": "display_data"
    }
   ],
   "source": [
    "drawing_tool.mpl.gcf().canvas"
   ]
  },
  {
   "cell_type": "markdown",
   "metadata": {},
   "source": [
    "## Line"
   ]
  },
  {
   "cell_type": "markdown",
   "metadata": {},
   "source": [
    "[home](#Table-of-Content)"
   ]
  },
  {
   "cell_type": "markdown",
   "metadata": {},
   "source": [
    "### YAML"
   ]
  },
  {
   "cell_type": "code",
   "execution_count": null,
   "metadata": {},
   "outputs": [],
   "source": [
    "line=\"\"\"\n",
    "A: point(-5,-5)\n",
    "B: point(5,5)\n",
    "line: Line(A,B)\n",
    "\"\"\"\n",
    "drawing_tool.erase()\n",
    "sketchParse(line,myfig)\n",
    "# replace 'object' by the actual one\n",
    "d = myfig['line'].draw() \n",
    "drawing_tool.display()\n",
    "display(SVG(sketch2SVG()))"
   ]
  },
  {
   "cell_type": "markdown",
   "metadata": {},
   "source": [
    "### Python"
   ]
  },
  {
   "cell_type": "code",
   "execution_count": null,
   "metadata": {},
   "outputs": [],
   "source": [
    "drawing_tool.erase()\n",
    "A = point(-5,-5)\n",
    "B = point(5,5)\n",
    "line = Line(A,B)\n",
    "line.draw()\n",
    "drawing_tool.display()\n",
    "display(SVG(sketch2SVG()))"
   ]
  },
  {
   "cell_type": "markdown",
   "metadata": {},
   "source": [
    "## Rectangle"
   ]
  },
  {
   "cell_type": "markdown",
   "metadata": {},
   "source": [
    "[home](#Table-of-Content)"
   ]
  },
  {
   "cell_type": "markdown",
   "metadata": {},
   "source": [
    "### YAML"
   ]
  },
  {
   "cell_type": "code",
   "execution_count": null,
   "metadata": {},
   "outputs": [],
   "source": [
    "rectangle=\"\"\"\n",
    "L: 8\n",
    "h: 5\n",
    "p: point(-(L/2),-(h/2))\n",
    "rectangle: Rectangle(p,L,h)\n",
    "\"\"\"\n",
    "drawing_tool.erase()\n",
    "sketchParse(rectangle,myfig)\n",
    "# replace 'object' by the actual one\n",
    "d = myfig['rectangle'].draw() \n",
    "drawing_tool.display()\n",
    "display(SVG(sketch2SVG()))"
   ]
  },
  {
   "cell_type": "markdown",
   "metadata": {},
   "source": [
    "### Python"
   ]
  },
  {
   "cell_type": "code",
   "execution_count": null,
   "metadata": {},
   "outputs": [],
   "source": [
    "drawing_tool.erase()\n",
    "L = 8\n",
    "h = 5\n",
    "p = point(-(L/2),-(h/2))\n",
    "rectangle = Rectangle(p,L,h)\n",
    "rectangle.draw()\n",
    "drawing_tool.display()\n",
    "display(SVG(sketch2SVG()))"
   ]
  },
  {
   "cell_type": "markdown",
   "metadata": {},
   "source": [
    "## Triangle"
   ]
  },
  {
   "cell_type": "markdown",
   "metadata": {},
   "source": [
    "[home](#Table-of-Content)"
   ]
  },
  {
   "cell_type": "markdown",
   "metadata": {},
   "source": [
    "### YAML"
   ]
  },
  {
   "cell_type": "code",
   "execution_count": null,
   "metadata": {},
   "outputs": [],
   "source": [
    "triangle=\"\"\"\n",
    "L: 3.0\n",
    "W: 4.0\n",
    "triangle: Triangle(p1=(W/2,0), p2=(3*W/2,W/2), p3=(4*W/5.,L))\n",
    "\"\"\"\n",
    "drawing_tool.erase()\n",
    "sketchParse(tria\n",
    "            ngle,myfig)\n",
    "# replace 'object' by the actual one\n",
    "d = myfig['triangle'].draw() \n",
    "drawing_tool.display()\n",
    "display(SVG(sketch2SVG()))"
   ]
  },
  {
   "cell_type": "markdown",
   "metadata": {},
   "source": [
    "### Python"
   ]
  },
  {
   "cell_type": "code",
   "execution_count": null,
   "metadata": {},
   "outputs": [],
   "source": [
    "drawing_tool.erase()\n",
    "L = 3.0\n",
    "W = 4.0\n",
    "triangle = Triangle(p1=(W/2,0), p2=(3*W/2,W/2), p3=(4*W/5.,L))\n",
    "triangle.draw()\n",
    "drawing_tool.display()\n",
    "display(SVG(sketch2SVG()))"
   ]
  },
  {
   "cell_type": "markdown",
   "metadata": {},
   "source": [
    "## Circle"
   ]
  },
  {
   "cell_type": "markdown",
   "metadata": {},
   "source": [
    "[home](#Table-of-Content)"
   ]
  },
  {
   "cell_type": "markdown",
   "metadata": {},
   "source": [
    "### YAML"
   ]
  },
  {
   "cell_type": "code",
   "execution_count": null,
   "metadata": {},
   "outputs": [],
   "source": [
    "circle=\"\"\"\n",
    "circle: Circle(point(0,0),5)\n",
    "\"\"\"\n",
    "drawing_tool.erase()\n",
    "sketchParse(circle,myfig)\n",
    "# replace 'object' by the actual one\n",
    "d = myfig['circle'].draw() \n",
    "drawing_tool.display()\n",
    "display(SVG(sketch2SVG()))"
   ]
  },
  {
   "cell_type": "markdown",
   "metadata": {},
   "source": [
    "### Python"
   ]
  },
  {
   "cell_type": "code",
   "execution_count": null,
   "metadata": {},
   "outputs": [],
   "source": [
    "drawing_tool.erase()\n",
    "circle = Circle(point(0,0),5)\n",
    "circle.draw()\n",
    "drawing_tool.display()\n",
    "display(SVG(sketch2SVG()))"
   ]
  },
  {
   "cell_type": "markdown",
   "metadata": {},
   "source": [
    "## Distance with text"
   ]
  },
  {
   "cell_type": "markdown",
   "metadata": {},
   "source": [
    "[home](#Table-of-Content)"
   ]
  },
  {
   "cell_type": "markdown",
   "metadata": {},
   "source": [
    "### YAML"
   ]
  },
  {
   "cell_type": "code",
   "execution_count": null,
   "metadata": {},
   "outputs": [],
   "source": [
    "dwt=\"\"\"\n",
    "fontsize: 14\n",
    "t: r'$ 2\\pi R^2 $'  # sample text\n",
    "dwt: Distance_wText((-4,0), (8, 5), t, fontsize)\n",
    "\"\"\"\n",
    "drawing_tool.erase()\n",
    "sketchParse(dwt,myfig)\n",
    "# replace 'object' by the actual one\n",
    "d = myfig['dwt'].draw() \n",
    "drawing_tool.display()\n",
    "display(SVG(sketch2SVG()))"
   ]
  },
  {
   "cell_type": "markdown",
   "metadata": {},
   "source": [
    "### Python"
   ]
  },
  {
   "cell_type": "code",
   "execution_count": null,
   "metadata": {},
   "outputs": [],
   "source": [
    "drawing_tool.erase()\n",
    "fontsize=14\n",
    "t = r'$ 2\\pi R^2 $'  # sample text\n",
    "dwt = Distance_wText((-4,0), (8, 5), t, fontsize)\n",
    "dwt.draw()\n",
    "drawing_tool.display()\n",
    "display(SVG(sketch2SVG()))"
   ]
  },
  {
   "cell_type": "markdown",
   "metadata": {},
   "source": [
    "## Text"
   ]
  },
  {
   "cell_type": "markdown",
   "metadata": {},
   "source": [
    "[home](#Table-of-Content)"
   ]
  },
  {
   "cell_type": "markdown",
   "metadata": {},
   "source": [
    "### YAML"
   ]
  },
  {
   "cell_type": "code",
   "execution_count": null,
   "metadata": {},
   "outputs": [],
   "source": [
    "text=\"\"\"\n",
    "text: Text(r'$c$', point(0,0))\n",
    "\"\"\"\n",
    "drawing_tool.erase()\n",
    "sketchParse(text,myfig)\n",
    "# replace 'object' by the actual one\n",
    "d = myfig['text'].draw() \n",
    "drawing_tool.display()\n",
    "display(SVG(sketch2SVG()))"
   ]
  },
  {
   "cell_type": "markdown",
   "metadata": {},
   "source": [
    "### Python"
   ]
  },
  {
   "cell_type": "code",
   "execution_count": null,
   "metadata": {},
   "outputs": [],
   "source": [
    "drawing_tool.erase()\n",
    "text = Text(r'$c$', point(0,0))\n",
    "text.draw()\n",
    "drawing_tool.display()\n",
    "display(SVG(sketch2SVG()))"
   ]
  },
  {
   "cell_type": "markdown",
   "metadata": {},
   "source": [
    "## Cross"
   ]
  },
  {
   "cell_type": "markdown",
   "metadata": {},
   "source": [
    "[home](#Table-of-Content)"
   ]
  },
  {
   "cell_type": "markdown",
   "metadata": {},
   "source": [
    "### YAML"
   ]
  },
  {
   "cell_type": "code",
   "execution_count": null,
   "metadata": {},
   "outputs": [],
   "source": [
    "cross=\"\"\"\n",
    "c: point(0,0)\n",
    "l: 0.1\n",
    "line1: Line(c+point(-l,l),c+point(l,-l))\n",
    "line2: Line(c+point(l,l), c+point(-l,-l))\n",
    "cross: \n",
    "    formula: \"Composition({'line1': line1, 'line2': line2})\"\n",
    "    style:\n",
    "        linecolor: black\n",
    "        linewidth: 1\n",
    "\"\"\"\n",
    "drawing_tool.erase()\n",
    "sketchParse(cross,myfig)\n",
    "d = myfig['cross'].draw() \n",
    "drawing_tool.display()\n",
    "display(SVG(sketch2SVG()))"
   ]
  },
  {
   "cell_type": "code",
   "execution_count": null,
   "metadata": {},
   "outputs": [],
   "source": [
    "cross1=\"\"\"\n",
    "cross1: Cross(point(0,0))\n",
    "\"\"\"\n",
    "drawing_tool.erase()\n",
    "sketchParse(cross1,myfig)\n",
    "d = myfig['cross1'].draw() \n",
    "drawing_tool.display()\n",
    "display(SVG(sketch2SVG()))"
   ]
  },
  {
   "cell_type": "markdown",
   "metadata": {},
   "source": [
    "### Python"
   ]
  },
  {
   "cell_type": "code",
   "execution_count": null,
   "metadata": {},
   "outputs": [],
   "source": [
    "drawing_tool.erase()\n",
    "cross = Cross(point(1,0))\n",
    "cross.draw()\n",
    "drawing_tool.display()\n",
    "display(SVG(sketch2SVG()))"
   ]
  },
  {
   "cell_type": "markdown",
   "metadata": {},
   "source": [
    "## Axis"
   ]
  },
  {
   "cell_type": "markdown",
   "metadata": {},
   "source": [
    "[home](#Table-of-Content)"
   ]
  },
  {
   "cell_type": "markdown",
   "metadata": {},
   "source": [
    "### YAML"
   ]
  },
  {
   "cell_type": "code",
   "execution_count": null,
   "metadata": {},
   "outputs": [],
   "source": [
    "axis=\"\"\"\n",
    "axis: Axis((0,0), 5, 'x', rotation_angle=0)\n",
    "\"\"\"\n",
    "drawing_tool.erase()\n",
    "sketchParse(axis,myfig)\n",
    "# replace 'object' by the actual one\n",
    "d = myfig['axis'].draw() \n",
    "drawing_tool.display()\n",
    "display(SVG(sketch2SVG()))"
   ]
  },
  {
   "cell_type": "markdown",
   "metadata": {},
   "source": [
    "### Python"
   ]
  },
  {
   "cell_type": "code",
   "execution_count": null,
   "metadata": {},
   "outputs": [],
   "source": [
    "drawing_tool.erase()\n",
    "axis = Axis((0,0), 5, 'x', rotation_angle=0)\n",
    "axis.draw()\n",
    "drawing_tool.display()\n",
    "display(SVG(sketch2SVG()))"
   ]
  },
  {
   "cell_type": "markdown",
   "metadata": {},
   "source": [
    "## Arc"
   ]
  },
  {
   "cell_type": "markdown",
   "metadata": {},
   "source": [
    "[home](#Table-of-Content)"
   ]
  },
  {
   "cell_type": "markdown",
   "metadata": {},
   "source": [
    "### YAML"
   ]
  },
  {
   "cell_type": "code",
   "execution_count": 11,
   "metadata": {},
   "outputs": [
    {
     "data": {
      "image/svg+xml": [
       "<svg xmlns=\"http://www.w3.org/2000/svg\" xmlns:xlink=\"http://www.w3.org/1999/xlink\" height=\"345.6pt\" version=\"1.1\" viewBox=\"0 0 460.8 345.6\" width=\"460.8pt\">\n",
       " <metadata>\n",
       "  <rdf:RDF xmlns:cc=\"http://creativecommons.org/ns#\" xmlns:dc=\"http://purl.org/dc/elements/1.1/\" xmlns:rdf=\"http://www.w3.org/1999/02/22-rdf-syntax-ns#\">\n",
       "   <cc:Work>\n",
       "    <dc:type rdf:resource=\"http://purl.org/dc/dcmitype/StillImage\"/>\n",
       "    <dc:date>2020-08-04T15:22:44.463860</dc:date>\n",
       "    <dc:format>image/svg+xml</dc:format>\n",
       "    <dc:creator>\n",
       "     <cc:Agent>\n",
       "      <dc:title>Matplotlib v3.3.0, https://matplotlib.org/</dc:title>\n",
       "     </cc:Agent>\n",
       "    </dc:creator>\n",
       "   </cc:Work>\n",
       "  </rdf:RDF>\n",
       " </metadata>\n",
       " <defs>\n",
       "  <style type=\"text/css\">*{stroke-linecap:butt;stroke-linejoin:round;}</style>\n",
       " </defs>\n",
       " <g id=\"figure_1\">\n",
       "  <g id=\"patch_1\">\n",
       "   <path d=\"M 0 345.6  L 460.8 345.6  L 460.8 0  L 0 0  z \" style=\"fill:#ffffff;\"/>\n",
       "  </g>\n",
       "  <g id=\"axes_1\">\n",
       "   <g id=\"patch_2\">\n",
       "    <path d=\"M 103.104 307.584  L 369.216 307.584  L 369.216 41.472  L 103.104 41.472  z \" style=\"fill:#ffffff;\"/>\n",
       "   </g>\n",
       "   <g id=\"matplotlib.axis_1\">\n",
       "    <g id=\"xtick_1\">\n",
       "     <g id=\"line2d_1\">\n",
       "      <defs>\n",
       "       <path d=\"M 0 0  L 0 3.5  \" id=\"m1d8b3175d0\" style=\"stroke:#000000;stroke-width:0.8;\"/>\n",
       "      </defs>\n",
       "      <g>\n",
       "       <use style=\"stroke:#000000;stroke-width:0.8;\" x=\"103.104\" xlink:href=\"#m1d8b3175d0\" y=\"307.584\"/>\n",
       "      </g>\n",
       "     </g>\n",
       "     <g id=\"text_1\">\n",
       "      <!-- $\\mathdefault{−10.0}$ -->\n",
       "      <g transform=\"translate(90.373921 321.502498)scale(0.1 -0.1)\">\n",
       "       <defs>\n",
       "        <path d=\"M 65.90625 23  C 67.59375 23 69.40625 23 69.40625 25  C 69.40625 27 67.59375 27 65.90625 27  L 11.796875 27  C 10.09375 27 8.296875 27 8.296875 25  C 8.296875 23 10.09375 23 11.796875 23  z \" id=\"CMSY10-0\"/>\n",
       "        <path d=\"M 26.59375 63.796875  C 26.59375 65.890625 26.5 66 25.09375 66  C 21.203125 61.359375 15.296875 59.890625 9.703125 59.6875  C 9.40625 59.6875 8.90625 59.6875 8.796875 59.5  C 8.703125 59.296875 8.703125 59.09375 8.703125 57  C 11.796875 57 17 57.59375 21 59.984375  L 21 7.296875  C 21 3.796875 20.796875 2.59375 12.203125 2.59375  L 9.203125 2.59375  L 9.203125 0  C 14 0.09375 19 0.1875 23.796875 0.1875  C 28.59375 0.1875 33.59375 0.09375 38.40625 0  L 38.40625 2.59375  L 35.40625 2.59375  C 26.796875 2.59375 26.59375 3.6875 26.59375 7.296875  z \" id=\"CMR17-49\"/>\n",
       "        <path d=\"M 42 31.84375  C 42 37.96875 41.90625 48.421875 37.703125 56.453125  C 34 63.484375 28.09375 66 22.90625 66  C 18.09375 66 12 63.78125 8.203125 56.5625  C 4.203125 49.015625 3.796875 39.671875 3.796875 31.84375  C 3.796875 26.109375 3.90625 17.375 7 9.734375  C 11.296875 -0.609375 19 -2 22.90625 -2  C 27.5 -2 34.5 -0.109375 38.59375 9.4375  C 41.59375 16.375 42 24.5 42 31.84375  z M 22.90625 -0.40625  C 16.5 -0.40625 12.703125 5.125 11.296875 12.75  C 10.203125 18.6875 10.203125 27.328125 10.203125 32.953125  C 10.203125 40.6875 10.203125 47.109375 11.5 53.234375  C 13.40625 61.78125 19 64.390625 22.90625 64.390625  C 27 64.390625 32.296875 61.671875 34.203125 53.4375  C 35.5 47.71875 35.59375 40.984375 35.59375 32.953125  C 35.59375 26.421875 35.59375 18.375 34.40625 12.453125  C 32.296875 1.5 26.40625 -0.40625 22.90625 -0.40625  z \" id=\"CMR17-48\"/>\n",
       "        <path d=\"M 18.40625 4.796875  C 18.40625 7.6875 16 9.6875 13.59375 9.6875  C 10.703125 9.6875 8.703125 7.296875 8.703125 4.890625  C 8.703125 2 11.09375 0 13.5 0  C 16.40625 0 18.40625 2.390625 18.40625 4.796875  z \" id=\"CMMI12-58\"/>\n",
       "       </defs>\n",
       "       <use transform=\"scale(0.996264)\" xlink:href=\"#CMSY10-0\"/>\n",
       "       <use transform=\"translate(77.487468 0)scale(0.996264)\" xlink:href=\"#CMR17-49\"/>\n",
       "       <use transform=\"translate(123.177945 0)scale(0.996264)\" xlink:href=\"#CMR17-48\"/>\n",
       "       <use transform=\"translate(168.868422 0)scale(0.996264)\" xlink:href=\"#CMMI12-58\"/>\n",
       "       <use transform=\"translate(195.965599 0)scale(0.996264)\" xlink:href=\"#CMR17-48\"/>\n",
       "      </g>\n",
       "     </g>\n",
       "    </g>\n",
       "    <g id=\"xtick_2\">\n",
       "     <g id=\"line2d_2\">\n",
       "      <g>\n",
       "       <use style=\"stroke:#000000;stroke-width:0.8;\" x=\"136.368\" xlink:href=\"#m1d8b3175d0\" y=\"307.584\"/>\n",
       "      </g>\n",
       "     </g>\n",
       "     <g id=\"text_2\">\n",
       "      <!-- $\\mathdefault{−7.5}$ -->\n",
       "      <g transform=\"translate(126.128589 321.502498)scale(0.1 -0.1)\">\n",
       "       <defs>\n",
       "        <path d=\"M 45.09375 61.796875  L 45.09375 64  L 21.59375 64  C 9.90625 64 9.703125 65.09375 9.296875 67  L 7.5 67  L 4.59375 48.5  L 6.40625 48.5  C 6.703125 50.40625 7.40625 55.5 8.59375 57.390625  C 9.203125 58.1875 16.59375 58.1875 18.296875 58.1875  L 40.296875 58.1875  L 29.203125 41.71875  C 21.796875 30.640625 16.703125 15.671875 16.703125 2.59375  C 16.703125 1.390625 16.703125 -2 20.296875 -2  C 23.90625 -2 23.90625 1.390625 23.90625 2.6875  L 23.90625 7.28125  C 23.90625 23.65625 26.703125 34.4375 31.296875 41.3125  z \" id=\"CMR17-55\"/>\n",
       "        <path d=\"M 11.40625 58.59375  C 12.40625 58.1875 16.5 56.890625 20.703125 56.890625  C 30 56.890625 35.09375 61.890625 38 64.6875  C 38 65.484375 38 66 37.40625 66  C 37.296875 66 37.09375 66 36.296875 65.59375  C 32.796875 64.09375 28.703125 63 23.703125 63  C 20.703125 63 16.203125 63.359375 11.296875 65.484375  C 10.203125 66 10 66 9.90625 66  C 9.40625 66 9.296875 65.890625 9.296875 63.90625  L 9.296875 34.859375  C 9.296875 33.015625 9.296875 32.5 10.296875 32.5  C 10.796875 32.5 11 32.703125 11.5 33.421875  C 14.703125 38.046875 19.09375 40 24.09375 40  C 27.59375 40 35.09375 37.734375 35.09375 20.203125  C 35.09375 16.984375 35.09375 11.1875 32.09375 6.59375  C 29.59375 2.484375 25.703125 0.390625 21.40625 0.390625  C 14.796875 0.390625 8.09375 4.984375 6.296875 12.6875  C 6.703125 12.59375 7.5 12.390625 7.90625 12.390625  C 9.203125 12.390625 11.703125 13.09375 11.703125 16.1875  C 11.703125 18.890625 9.796875 20 7.90625 20  C 5.59375 20 4.09375 18.59375 4.09375 15.796875  C 4.09375 7.09375 11 -2 21.59375 -2  C 31.90625 -2 41.703125 6.890625 41.703125 19.796875  C 41.703125 32.09375 33.90625 41.59375 24.203125 41.59375  C 19.09375 41.59375 14.796875 39.6875 11.40625 36  z \" id=\"CMR17-53\"/>\n",
       "       </defs>\n",
       "       <use transform=\"scale(0.996264)\" xlink:href=\"#CMSY10-0\"/>\n",
       "       <use transform=\"translate(77.487468 0)scale(0.996264)\" xlink:href=\"#CMR17-55\"/>\n",
       "       <use transform=\"translate(123.177945 0)scale(0.996264)\" xlink:href=\"#CMMI12-58\"/>\n",
       "       <use transform=\"translate(150.275122 0)scale(0.996264)\" xlink:href=\"#CMR17-53\"/>\n",
       "      </g>\n",
       "     </g>\n",
       "    </g>\n",
       "    <g id=\"xtick_3\">\n",
       "     <g id=\"line2d_3\">\n",
       "      <g>\n",
       "       <use style=\"stroke:#000000;stroke-width:0.8;\" x=\"169.632\" xlink:href=\"#m1d8b3175d0\" y=\"307.584\"/>\n",
       "      </g>\n",
       "     </g>\n",
       "     <g id=\"text_3\">\n",
       "      <!-- $\\mathdefault{−5.0}$ -->\n",
       "      <g transform=\"translate(159.392589 321.502498)scale(0.1 -0.1)\">\n",
       "       <use transform=\"scale(0.996264)\" xlink:href=\"#CMSY10-0\"/>\n",
       "       <use transform=\"translate(77.487468 0)scale(0.996264)\" xlink:href=\"#CMR17-53\"/>\n",
       "       <use transform=\"translate(123.177945 0)scale(0.996264)\" xlink:href=\"#CMMI12-58\"/>\n",
       "       <use transform=\"translate(150.275122 0)scale(0.996264)\" xlink:href=\"#CMR17-48\"/>\n",
       "      </g>\n",
       "     </g>\n",
       "    </g>\n",
       "    <g id=\"xtick_4\">\n",
       "     <g id=\"line2d_4\">\n",
       "      <g>\n",
       "       <use style=\"stroke:#000000;stroke-width:0.8;\" x=\"202.896\" xlink:href=\"#m1d8b3175d0\" y=\"307.584\"/>\n",
       "      </g>\n",
       "     </g>\n",
       "     <g id=\"text_4\">\n",
       "      <!-- $\\mathdefault{−2.5}$ -->\n",
       "      <g transform=\"translate(192.656589 321.502498)scale(0.1 -0.1)\">\n",
       "       <defs>\n",
       "        <path d=\"M 41.703125 15.46875  L 39.90625 15.46875  C 38.90625 8.390625 38.09375 7.1875 37.703125 6.59375  C 37.203125 5.796875 30 5.796875 28.59375 5.796875  L 9.40625 5.796875  C 13 9.6875 20 16.765625 28.5 24.9375  C 34.59375 30.71875 41.703125 37.5 41.703125 47.390625  C 41.703125 59.1875 32.296875 66 21.796875 66  C 10.796875 66 4.09375 56.296875 4.09375 47.296875  C 4.09375 43.390625 7 42.890625 8.203125 42.890625  C 9.203125 42.890625 12.203125 43.484375 12.203125 46.984375  C 12.203125 50.09375 9.59375 51 8.203125 51  C 7.59375 51 7 50.890625 6.59375 50.6875  C 8.5 59.1875 14.296875 63.390625 20.40625 63.390625  C 29.09375 63.390625 34.796875 56.5 34.796875 47.390625  C 34.796875 38.703125 29.703125 31.21875 24 24.734375  L 4.09375 2.296875  L 4.09375 0  L 39.296875 0  z \" id=\"CMR17-50\"/>\n",
       "       </defs>\n",
       "       <use transform=\"scale(0.996264)\" xlink:href=\"#CMSY10-0\"/>\n",
       "       <use transform=\"translate(77.487468 0)scale(0.996264)\" xlink:href=\"#CMR17-50\"/>\n",
       "       <use transform=\"translate(123.177945 0)scale(0.996264)\" xlink:href=\"#CMMI12-58\"/>\n",
       "       <use transform=\"translate(150.275122 0)scale(0.996264)\" xlink:href=\"#CMR17-53\"/>\n",
       "      </g>\n",
       "     </g>\n",
       "    </g>\n",
       "    <g id=\"xtick_5\">\n",
       "     <g id=\"line2d_5\">\n",
       "      <g>\n",
       "       <use style=\"stroke:#000000;stroke-width:0.8;\" x=\"236.16\" xlink:href=\"#m1d8b3175d0\" y=\"307.584\"/>\n",
       "      </g>\n",
       "     </g>\n",
       "     <g id=\"text_5\">\n",
       "      <!-- $\\mathdefault{0.0}$ -->\n",
       "      <g transform=\"translate(229.794961 321.502498)scale(0.1 -0.1)\">\n",
       "       <use transform=\"scale(0.996264)\" xlink:href=\"#CMR17-48\"/>\n",
       "       <use transform=\"translate(45.690477 0)scale(0.996264)\" xlink:href=\"#CMMI12-58\"/>\n",
       "       <use transform=\"translate(72.787654 0)scale(0.996264)\" xlink:href=\"#CMR17-48\"/>\n",
       "      </g>\n",
       "     </g>\n",
       "    </g>\n",
       "    <g id=\"xtick_6\">\n",
       "     <g id=\"line2d_6\">\n",
       "      <g>\n",
       "       <use style=\"stroke:#000000;stroke-width:0.8;\" x=\"269.424\" xlink:href=\"#m1d8b3175d0\" y=\"307.584\"/>\n",
       "      </g>\n",
       "     </g>\n",
       "     <g id=\"text_6\">\n",
       "      <!-- $\\mathdefault{2.5}$ -->\n",
       "      <g transform=\"translate(263.058961 321.502498)scale(0.1 -0.1)\">\n",
       "       <use transform=\"scale(0.996264)\" xlink:href=\"#CMR17-50\"/>\n",
       "       <use transform=\"translate(45.690477 0)scale(0.996264)\" xlink:href=\"#CMMI12-58\"/>\n",
       "       <use transform=\"translate(72.787654 0)scale(0.996264)\" xlink:href=\"#CMR17-53\"/>\n",
       "      </g>\n",
       "     </g>\n",
       "    </g>\n",
       "    <g id=\"xtick_7\">\n",
       "     <g id=\"line2d_7\">\n",
       "      <g>\n",
       "       <use style=\"stroke:#000000;stroke-width:0.8;\" x=\"302.688\" xlink:href=\"#m1d8b3175d0\" y=\"307.584\"/>\n",
       "      </g>\n",
       "     </g>\n",
       "     <g id=\"text_7\">\n",
       "      <!-- $\\mathdefault{5.0}$ -->\n",
       "      <g transform=\"translate(296.322961 321.502498)scale(0.1 -0.1)\">\n",
       "       <use transform=\"scale(0.996264)\" xlink:href=\"#CMR17-53\"/>\n",
       "       <use transform=\"translate(45.690477 0)scale(0.996264)\" xlink:href=\"#CMMI12-58\"/>\n",
       "       <use transform=\"translate(72.787654 0)scale(0.996264)\" xlink:href=\"#CMR17-48\"/>\n",
       "      </g>\n",
       "     </g>\n",
       "    </g>\n",
       "    <g id=\"xtick_8\">\n",
       "     <g id=\"line2d_8\">\n",
       "      <g>\n",
       "       <use style=\"stroke:#000000;stroke-width:0.8;\" x=\"335.952\" xlink:href=\"#m1d8b3175d0\" y=\"307.584\"/>\n",
       "      </g>\n",
       "     </g>\n",
       "     <g id=\"text_8\">\n",
       "      <!-- $\\mathdefault{7.5}$ -->\n",
       "      <g transform=\"translate(329.586961 321.502498)scale(0.1 -0.1)\">\n",
       "       <use transform=\"scale(0.996264)\" xlink:href=\"#CMR17-55\"/>\n",
       "       <use transform=\"translate(45.690477 0)scale(0.996264)\" xlink:href=\"#CMMI12-58\"/>\n",
       "       <use transform=\"translate(72.787654 0)scale(0.996264)\" xlink:href=\"#CMR17-53\"/>\n",
       "      </g>\n",
       "     </g>\n",
       "    </g>\n",
       "    <g id=\"xtick_9\">\n",
       "     <g id=\"line2d_9\">\n",
       "      <g>\n",
       "       <use style=\"stroke:#000000;stroke-width:0.8;\" x=\"369.216\" xlink:href=\"#m1d8b3175d0\" y=\"307.584\"/>\n",
       "      </g>\n",
       "     </g>\n",
       "     <g id=\"text_9\">\n",
       "      <!-- $\\mathdefault{10.0}$ -->\n",
       "      <g transform=\"translate(360.360293 321.502498)scale(0.1 -0.1)\">\n",
       "       <use transform=\"scale(0.996264)\" xlink:href=\"#CMR17-49\"/>\n",
       "       <use transform=\"translate(45.690477 0)scale(0.996264)\" xlink:href=\"#CMR17-48\"/>\n",
       "       <use transform=\"translate(91.380954 0)scale(0.996264)\" xlink:href=\"#CMMI12-58\"/>\n",
       "       <use transform=\"translate(118.478131 0)scale(0.996264)\" xlink:href=\"#CMR17-48\"/>\n",
       "      </g>\n",
       "     </g>\n",
       "    </g>\n",
       "   </g>\n",
       "   <g id=\"matplotlib.axis_2\">\n",
       "    <g id=\"ytick_1\">\n",
       "     <g id=\"line2d_10\">\n",
       "      <defs>\n",
       "       <path d=\"M 0 0  L -3.5 0  \" id=\"m3d2d3c94e4\" style=\"stroke:#000000;stroke-width:0.8;\"/>\n",
       "      </defs>\n",
       "      <g>\n",
       "       <use style=\"stroke:#000000;stroke-width:0.8;\" x=\"103.104\" xlink:href=\"#m3d2d3c94e4\" y=\"307.584\"/>\n",
       "      </g>\n",
       "     </g>\n",
       "     <g id=\"text_10\">\n",
       "      <!-- $\\mathdefault{−10.0}$ -->\n",
       "      <g transform=\"translate(70.643842 311.043249)scale(0.1 -0.1)\">\n",
       "       <use transform=\"scale(0.996264)\" xlink:href=\"#CMSY10-0\"/>\n",
       "       <use transform=\"translate(77.487468 0)scale(0.996264)\" xlink:href=\"#CMR17-49\"/>\n",
       "       <use transform=\"translate(123.177945 0)scale(0.996264)\" xlink:href=\"#CMR17-48\"/>\n",
       "       <use transform=\"translate(168.868422 0)scale(0.996264)\" xlink:href=\"#CMMI12-58\"/>\n",
       "       <use transform=\"translate(195.965599 0)scale(0.996264)\" xlink:href=\"#CMR17-48\"/>\n",
       "      </g>\n",
       "     </g>\n",
       "    </g>\n",
       "    <g id=\"ytick_2\">\n",
       "     <g id=\"line2d_11\">\n",
       "      <g>\n",
       "       <use style=\"stroke:#000000;stroke-width:0.8;\" x=\"103.104\" xlink:href=\"#m3d2d3c94e4\" y=\"274.32\"/>\n",
       "      </g>\n",
       "     </g>\n",
       "     <g id=\"text_11\">\n",
       "      <!-- $\\mathdefault{−7.5}$ -->\n",
       "      <g transform=\"translate(75.625177 277.779249)scale(0.1 -0.1)\">\n",
       "       <use transform=\"scale(0.996264)\" xlink:href=\"#CMSY10-0\"/>\n",
       "       <use transform=\"translate(77.487468 0)scale(0.996264)\" xlink:href=\"#CMR17-55\"/>\n",
       "       <use transform=\"translate(123.177945 0)scale(0.996264)\" xlink:href=\"#CMMI12-58\"/>\n",
       "       <use transform=\"translate(150.275122 0)scale(0.996264)\" xlink:href=\"#CMR17-53\"/>\n",
       "      </g>\n",
       "     </g>\n",
       "    </g>\n",
       "    <g id=\"ytick_3\">\n",
       "     <g id=\"line2d_12\">\n",
       "      <g>\n",
       "       <use style=\"stroke:#000000;stroke-width:0.8;\" x=\"103.104\" xlink:href=\"#m3d2d3c94e4\" y=\"241.056\"/>\n",
       "      </g>\n",
       "     </g>\n",
       "     <g id=\"text_12\">\n",
       "      <!-- $\\mathdefault{−5.0}$ -->\n",
       "      <g transform=\"translate(75.625177 244.515249)scale(0.1 -0.1)\">\n",
       "       <use transform=\"scale(0.996264)\" xlink:href=\"#CMSY10-0\"/>\n",
       "       <use transform=\"translate(77.487468 0)scale(0.996264)\" xlink:href=\"#CMR17-53\"/>\n",
       "       <use transform=\"translate(123.177945 0)scale(0.996264)\" xlink:href=\"#CMMI12-58\"/>\n",
       "       <use transform=\"translate(150.275122 0)scale(0.996264)\" xlink:href=\"#CMR17-48\"/>\n",
       "      </g>\n",
       "     </g>\n",
       "    </g>\n",
       "    <g id=\"ytick_4\">\n",
       "     <g id=\"line2d_13\">\n",
       "      <g>\n",
       "       <use style=\"stroke:#000000;stroke-width:0.8;\" x=\"103.104\" xlink:href=\"#m3d2d3c94e4\" y=\"207.792\"/>\n",
       "      </g>\n",
       "     </g>\n",
       "     <g id=\"text_13\">\n",
       "      <!-- $\\mathdefault{−2.5}$ -->\n",
       "      <g transform=\"translate(75.625177 211.251249)scale(0.1 -0.1)\">\n",
       "       <use transform=\"scale(0.996264)\" xlink:href=\"#CMSY10-0\"/>\n",
       "       <use transform=\"translate(77.487468 0)scale(0.996264)\" xlink:href=\"#CMR17-50\"/>\n",
       "       <use transform=\"translate(123.177945 0)scale(0.996264)\" xlink:href=\"#CMMI12-58\"/>\n",
       "       <use transform=\"translate(150.275122 0)scale(0.996264)\" xlink:href=\"#CMR17-53\"/>\n",
       "      </g>\n",
       "     </g>\n",
       "    </g>\n",
       "    <g id=\"ytick_5\">\n",
       "     <g id=\"line2d_14\">\n",
       "      <g>\n",
       "       <use style=\"stroke:#000000;stroke-width:0.8;\" x=\"103.104\" xlink:href=\"#m3d2d3c94e4\" y=\"174.528\"/>\n",
       "      </g>\n",
       "     </g>\n",
       "     <g id=\"text_14\">\n",
       "      <!-- $\\mathdefault{0.0}$ -->\n",
       "      <g transform=\"translate(83.373921 177.987249)scale(0.1 -0.1)\">\n",
       "       <use transform=\"scale(0.996264)\" xlink:href=\"#CMR17-48\"/>\n",
       "       <use transform=\"translate(45.690477 0)scale(0.996264)\" xlink:href=\"#CMMI12-58\"/>\n",
       "       <use transform=\"translate(72.787654 0)scale(0.996264)\" xlink:href=\"#CMR17-48\"/>\n",
       "      </g>\n",
       "     </g>\n",
       "    </g>\n",
       "    <g id=\"ytick_6\">\n",
       "     <g id=\"line2d_15\">\n",
       "      <g>\n",
       "       <use style=\"stroke:#000000;stroke-width:0.8;\" x=\"103.104\" xlink:href=\"#m3d2d3c94e4\" y=\"141.264\"/>\n",
       "      </g>\n",
       "     </g>\n",
       "     <g id=\"text_15\">\n",
       "      <!-- $\\mathdefault{2.5}$ -->\n",
       "      <g transform=\"translate(83.373921 144.723249)scale(0.1 -0.1)\">\n",
       "       <use transform=\"scale(0.996264)\" xlink:href=\"#CMR17-50\"/>\n",
       "       <use transform=\"translate(45.690477 0)scale(0.996264)\" xlink:href=\"#CMMI12-58\"/>\n",
       "       <use transform=\"translate(72.787654 0)scale(0.996264)\" xlink:href=\"#CMR17-53\"/>\n",
       "      </g>\n",
       "     </g>\n",
       "    </g>\n",
       "    <g id=\"ytick_7\">\n",
       "     <g id=\"line2d_16\">\n",
       "      <g>\n",
       "       <use style=\"stroke:#000000;stroke-width:0.8;\" x=\"103.104\" xlink:href=\"#m3d2d3c94e4\" y=\"108\"/>\n",
       "      </g>\n",
       "     </g>\n",
       "     <g id=\"text_16\">\n",
       "      <!-- $\\mathdefault{5.0}$ -->\n",
       "      <g transform=\"translate(83.373921 111.459249)scale(0.1 -0.1)\">\n",
       "       <use transform=\"scale(0.996264)\" xlink:href=\"#CMR17-53\"/>\n",
       "       <use transform=\"translate(45.690477 0)scale(0.996264)\" xlink:href=\"#CMMI12-58\"/>\n",
       "       <use transform=\"translate(72.787654 0)scale(0.996264)\" xlink:href=\"#CMR17-48\"/>\n",
       "      </g>\n",
       "     </g>\n",
       "    </g>\n",
       "    <g id=\"ytick_8\">\n",
       "     <g id=\"line2d_17\">\n",
       "      <g>\n",
       "       <use style=\"stroke:#000000;stroke-width:0.8;\" x=\"103.104\" xlink:href=\"#m3d2d3c94e4\" y=\"74.736\"/>\n",
       "      </g>\n",
       "     </g>\n",
       "     <g id=\"text_17\">\n",
       "      <!-- $\\mathdefault{7.5}$ -->\n",
       "      <g transform=\"translate(83.373921 78.195249)scale(0.1 -0.1)\">\n",
       "       <use transform=\"scale(0.996264)\" xlink:href=\"#CMR17-55\"/>\n",
       "       <use transform=\"translate(45.690477 0)scale(0.996264)\" xlink:href=\"#CMMI12-58\"/>\n",
       "       <use transform=\"translate(72.787654 0)scale(0.996264)\" xlink:href=\"#CMR17-53\"/>\n",
       "      </g>\n",
       "     </g>\n",
       "    </g>\n",
       "    <g id=\"ytick_9\">\n",
       "     <g id=\"line2d_18\">\n",
       "      <g>\n",
       "       <use style=\"stroke:#000000;stroke-width:0.8;\" x=\"103.104\" xlink:href=\"#m3d2d3c94e4\" y=\"41.472\"/>\n",
       "      </g>\n",
       "     </g>\n",
       "     <g id=\"text_18\">\n",
       "      <!-- $\\mathdefault{10.0}$ -->\n",
       "      <g transform=\"translate(78.392586 44.931249)scale(0.1 -0.1)\">\n",
       "       <use transform=\"scale(0.996264)\" xlink:href=\"#CMR17-49\"/>\n",
       "       <use transform=\"translate(45.690477 0)scale(0.996264)\" xlink:href=\"#CMR17-48\"/>\n",
       "       <use transform=\"translate(91.380954 0)scale(0.996264)\" xlink:href=\"#CMMI12-58\"/>\n",
       "       <use transform=\"translate(118.478131 0)scale(0.996264)\" xlink:href=\"#CMR17-48\"/>\n",
       "      </g>\n",
       "     </g>\n",
       "    </g>\n",
       "   </g>\n",
       "   <g id=\"line2d_19\">\n",
       "    <path clip-path=\"url(#p63cd06932d)\" d=\"M 226.75152 165.11952  L 225.603958 166.428064  L 224.637012 167.8752  L 223.867228 169.436167  L 223.307777 171.084257  L 222.968231 172.791271  L 222.8544 174.528  L 222.8544 174.528  \" style=\"fill:none;stroke:#ff0000;stroke-linecap:square;stroke-width:2;\"/>\n",
       "   </g>\n",
       "   <g id=\"line2d_20\">\n",
       "    <path clip-path=\"url(#p63cd06932d)\" d=\"M 242.8128 163.005012  L 241.287569 162.250092  L 239.678455 161.69603  L 238.011782 161.351889  L 236.314814 161.223301  L 234.615314 161.312368  L 232.941084 161.617633  L 231.319513 162.134103  L 229.777129 162.853329  L 228.339165 163.763543  L 227.029143 164.849857  L 225.868496 166.094499  L 224.876211 167.477106  L 224.068521 168.975061  L 223.458639 170.563859  L 223.056542 172.217507  L 222.868808 173.908953  L 222.8544 174.528  L 222.8544 174.528  \" style=\"fill:none;stroke:#ff0000;stroke-linecap:square;stroke-width:2;\"/>\n",
       "   </g>\n",
       "   <g id=\"patch_3\">\n",
       "    <path d=\"M 103.104 307.584  L 103.104 41.472  \" style=\"fill:none;stroke:#000000;stroke-linecap:square;stroke-linejoin:miter;stroke-width:0.8;\"/>\n",
       "   </g>\n",
       "   <g id=\"patch_4\">\n",
       "    <path d=\"M 369.216 307.584  L 369.216 41.472  \" style=\"fill:none;stroke:#000000;stroke-linecap:square;stroke-linejoin:miter;stroke-width:0.8;\"/>\n",
       "   </g>\n",
       "   <g id=\"patch_5\">\n",
       "    <path d=\"M 103.104 307.584  L 369.216 307.584  \" style=\"fill:none;stroke:#000000;stroke-linecap:square;stroke-linejoin:miter;stroke-width:0.8;\"/>\n",
       "   </g>\n",
       "   <g id=\"patch_6\">\n",
       "    <path d=\"M 103.104 41.472  L 369.216 41.472  \" style=\"fill:none;stroke:#000000;stroke-linecap:square;stroke-linejoin:miter;stroke-width:0.8;\"/>\n",
       "   </g>\n",
       "  </g>\n",
       " </g>\n",
       " <defs>\n",
       "  <clipPath id=\"p63cd06932d\">\n",
       "   <rect height=\"266.112\" width=\"266.112\" x=\"103.104\" y=\"41.472\"/>\n",
       "  </clipPath>\n",
       " </defs>\n",
       "</svg>"
      ],
      "text/plain": [
       "<IPython.core.display.SVG object>"
      ]
     },
     "metadata": {},
     "output_type": "display_data"
    }
   ],
   "source": [
    "arc=\"\"\"\n",
    "center: point(0,0)\n",
    "radius: 1\n",
    "angle: 120\n",
    "start_angle: 180-angle\n",
    "arc_angle: angle\n",
    "arc: Arc(center, radius, start_angle, arc_angle)\n",
    "\"\"\"\n",
    "sketchParse(arc,myfig)\n",
    "d = myfig['arc'].draw() \n",
    "drawing_tool.display()\n",
    "display(SVG(sketch2SVG()))"
   ]
  },
  {
   "cell_type": "markdown",
   "metadata": {},
   "source": [
    "### Python"
   ]
  },
  {
   "cell_type": "code",
   "execution_count": 12,
   "metadata": {},
   "outputs": [
    {
     "data": {
      "image/svg+xml": [
       "<svg xmlns=\"http://www.w3.org/2000/svg\" xmlns:xlink=\"http://www.w3.org/1999/xlink\" height=\"345.6pt\" version=\"1.1\" viewBox=\"0 0 460.8 345.6\" width=\"460.8pt\">\n",
       " <metadata>\n",
       "  <rdf:RDF xmlns:cc=\"http://creativecommons.org/ns#\" xmlns:dc=\"http://purl.org/dc/elements/1.1/\" xmlns:rdf=\"http://www.w3.org/1999/02/22-rdf-syntax-ns#\">\n",
       "   <cc:Work>\n",
       "    <dc:type rdf:resource=\"http://purl.org/dc/dcmitype/StillImage\"/>\n",
       "    <dc:date>2020-08-04T15:23:36.169053</dc:date>\n",
       "    <dc:format>image/svg+xml</dc:format>\n",
       "    <dc:creator>\n",
       "     <cc:Agent>\n",
       "      <dc:title>Matplotlib v3.3.0, https://matplotlib.org/</dc:title>\n",
       "     </cc:Agent>\n",
       "    </dc:creator>\n",
       "   </cc:Work>\n",
       "  </rdf:RDF>\n",
       " </metadata>\n",
       " <defs>\n",
       "  <style type=\"text/css\">*{stroke-linecap:butt;stroke-linejoin:round;}</style>\n",
       " </defs>\n",
       " <g id=\"figure_1\">\n",
       "  <g id=\"patch_1\">\n",
       "   <path d=\"M 0 345.6  L 460.8 345.6  L 460.8 0  L 0 0  z \" style=\"fill:#ffffff;\"/>\n",
       "  </g>\n",
       "  <g id=\"axes_1\">\n",
       "   <g id=\"patch_2\">\n",
       "    <path d=\"M 103.104 307.584  L 369.216 307.584  L 369.216 41.472  L 103.104 41.472  z \" style=\"fill:#ffffff;\"/>\n",
       "   </g>\n",
       "   <g id=\"matplotlib.axis_1\">\n",
       "    <g id=\"xtick_1\">\n",
       "     <g id=\"line2d_1\">\n",
       "      <defs>\n",
       "       <path d=\"M 0 0  L 0 3.5  \" id=\"m52d1af058b\" style=\"stroke:#000000;stroke-width:0.8;\"/>\n",
       "      </defs>\n",
       "      <g>\n",
       "       <use style=\"stroke:#000000;stroke-width:0.8;\" x=\"103.104\" xlink:href=\"#m52d1af058b\" y=\"307.584\"/>\n",
       "      </g>\n",
       "     </g>\n",
       "     <g id=\"text_1\">\n",
       "      <!-- $\\mathdefault{−10.0}$ -->\n",
       "      <g transform=\"translate(90.373921 321.502498)scale(0.1 -0.1)\">\n",
       "       <defs>\n",
       "        <path d=\"M 65.90625 23  C 67.59375 23 69.40625 23 69.40625 25  C 69.40625 27 67.59375 27 65.90625 27  L 11.796875 27  C 10.09375 27 8.296875 27 8.296875 25  C 8.296875 23 10.09375 23 11.796875 23  z \" id=\"CMSY10-0\"/>\n",
       "        <path d=\"M 26.59375 63.796875  C 26.59375 65.890625 26.5 66 25.09375 66  C 21.203125 61.359375 15.296875 59.890625 9.703125 59.6875  C 9.40625 59.6875 8.90625 59.6875 8.796875 59.5  C 8.703125 59.296875 8.703125 59.09375 8.703125 57  C 11.796875 57 17 57.59375 21 59.984375  L 21 7.296875  C 21 3.796875 20.796875 2.59375 12.203125 2.59375  L 9.203125 2.59375  L 9.203125 0  C 14 0.09375 19 0.1875 23.796875 0.1875  C 28.59375 0.1875 33.59375 0.09375 38.40625 0  L 38.40625 2.59375  L 35.40625 2.59375  C 26.796875 2.59375 26.59375 3.6875 26.59375 7.296875  z \" id=\"CMR17-49\"/>\n",
       "        <path d=\"M 42 31.84375  C 42 37.96875 41.90625 48.421875 37.703125 56.453125  C 34 63.484375 28.09375 66 22.90625 66  C 18.09375 66 12 63.78125 8.203125 56.5625  C 4.203125 49.015625 3.796875 39.671875 3.796875 31.84375  C 3.796875 26.109375 3.90625 17.375 7 9.734375  C 11.296875 -0.609375 19 -2 22.90625 -2  C 27.5 -2 34.5 -0.109375 38.59375 9.4375  C 41.59375 16.375 42 24.5 42 31.84375  z M 22.90625 -0.40625  C 16.5 -0.40625 12.703125 5.125 11.296875 12.75  C 10.203125 18.6875 10.203125 27.328125 10.203125 32.953125  C 10.203125 40.6875 10.203125 47.109375 11.5 53.234375  C 13.40625 61.78125 19 64.390625 22.90625 64.390625  C 27 64.390625 32.296875 61.671875 34.203125 53.4375  C 35.5 47.71875 35.59375 40.984375 35.59375 32.953125  C 35.59375 26.421875 35.59375 18.375 34.40625 12.453125  C 32.296875 1.5 26.40625 -0.40625 22.90625 -0.40625  z \" id=\"CMR17-48\"/>\n",
       "        <path d=\"M 18.40625 4.796875  C 18.40625 7.6875 16 9.6875 13.59375 9.6875  C 10.703125 9.6875 8.703125 7.296875 8.703125 4.890625  C 8.703125 2 11.09375 0 13.5 0  C 16.40625 0 18.40625 2.390625 18.40625 4.796875  z \" id=\"CMMI12-58\"/>\n",
       "       </defs>\n",
       "       <use transform=\"scale(0.996264)\" xlink:href=\"#CMSY10-0\"/>\n",
       "       <use transform=\"translate(77.487468 0)scale(0.996264)\" xlink:href=\"#CMR17-49\"/>\n",
       "       <use transform=\"translate(123.177945 0)scale(0.996264)\" xlink:href=\"#CMR17-48\"/>\n",
       "       <use transform=\"translate(168.868422 0)scale(0.996264)\" xlink:href=\"#CMMI12-58\"/>\n",
       "       <use transform=\"translate(195.965599 0)scale(0.996264)\" xlink:href=\"#CMR17-48\"/>\n",
       "      </g>\n",
       "     </g>\n",
       "    </g>\n",
       "    <g id=\"xtick_2\">\n",
       "     <g id=\"line2d_2\">\n",
       "      <g>\n",
       "       <use style=\"stroke:#000000;stroke-width:0.8;\" x=\"136.368\" xlink:href=\"#m52d1af058b\" y=\"307.584\"/>\n",
       "      </g>\n",
       "     </g>\n",
       "     <g id=\"text_2\">\n",
       "      <!-- $\\mathdefault{−7.5}$ -->\n",
       "      <g transform=\"translate(126.128589 321.502498)scale(0.1 -0.1)\">\n",
       "       <defs>\n",
       "        <path d=\"M 45.09375 61.796875  L 45.09375 64  L 21.59375 64  C 9.90625 64 9.703125 65.09375 9.296875 67  L 7.5 67  L 4.59375 48.5  L 6.40625 48.5  C 6.703125 50.40625 7.40625 55.5 8.59375 57.390625  C 9.203125 58.1875 16.59375 58.1875 18.296875 58.1875  L 40.296875 58.1875  L 29.203125 41.71875  C 21.796875 30.640625 16.703125 15.671875 16.703125 2.59375  C 16.703125 1.390625 16.703125 -2 20.296875 -2  C 23.90625 -2 23.90625 1.390625 23.90625 2.6875  L 23.90625 7.28125  C 23.90625 23.65625 26.703125 34.4375 31.296875 41.3125  z \" id=\"CMR17-55\"/>\n",
       "        <path d=\"M 11.40625 58.59375  C 12.40625 58.1875 16.5 56.890625 20.703125 56.890625  C 30 56.890625 35.09375 61.890625 38 64.6875  C 38 65.484375 38 66 37.40625 66  C 37.296875 66 37.09375 66 36.296875 65.59375  C 32.796875 64.09375 28.703125 63 23.703125 63  C 20.703125 63 16.203125 63.359375 11.296875 65.484375  C 10.203125 66 10 66 9.90625 66  C 9.40625 66 9.296875 65.890625 9.296875 63.90625  L 9.296875 34.859375  C 9.296875 33.015625 9.296875 32.5 10.296875 32.5  C 10.796875 32.5 11 32.703125 11.5 33.421875  C 14.703125 38.046875 19.09375 40 24.09375 40  C 27.59375 40 35.09375 37.734375 35.09375 20.203125  C 35.09375 16.984375 35.09375 11.1875 32.09375 6.59375  C 29.59375 2.484375 25.703125 0.390625 21.40625 0.390625  C 14.796875 0.390625 8.09375 4.984375 6.296875 12.6875  C 6.703125 12.59375 7.5 12.390625 7.90625 12.390625  C 9.203125 12.390625 11.703125 13.09375 11.703125 16.1875  C 11.703125 18.890625 9.796875 20 7.90625 20  C 5.59375 20 4.09375 18.59375 4.09375 15.796875  C 4.09375 7.09375 11 -2 21.59375 -2  C 31.90625 -2 41.703125 6.890625 41.703125 19.796875  C 41.703125 32.09375 33.90625 41.59375 24.203125 41.59375  C 19.09375 41.59375 14.796875 39.6875 11.40625 36  z \" id=\"CMR17-53\"/>\n",
       "       </defs>\n",
       "       <use transform=\"scale(0.996264)\" xlink:href=\"#CMSY10-0\"/>\n",
       "       <use transform=\"translate(77.487468 0)scale(0.996264)\" xlink:href=\"#CMR17-55\"/>\n",
       "       <use transform=\"translate(123.177945 0)scale(0.996264)\" xlink:href=\"#CMMI12-58\"/>\n",
       "       <use transform=\"translate(150.275122 0)scale(0.996264)\" xlink:href=\"#CMR17-53\"/>\n",
       "      </g>\n",
       "     </g>\n",
       "    </g>\n",
       "    <g id=\"xtick_3\">\n",
       "     <g id=\"line2d_3\">\n",
       "      <g>\n",
       "       <use style=\"stroke:#000000;stroke-width:0.8;\" x=\"169.632\" xlink:href=\"#m52d1af058b\" y=\"307.584\"/>\n",
       "      </g>\n",
       "     </g>\n",
       "     <g id=\"text_3\">\n",
       "      <!-- $\\mathdefault{−5.0}$ -->\n",
       "      <g transform=\"translate(159.392589 321.502498)scale(0.1 -0.1)\">\n",
       "       <use transform=\"scale(0.996264)\" xlink:href=\"#CMSY10-0\"/>\n",
       "       <use transform=\"translate(77.487468 0)scale(0.996264)\" xlink:href=\"#CMR17-53\"/>\n",
       "       <use transform=\"translate(123.177945 0)scale(0.996264)\" xlink:href=\"#CMMI12-58\"/>\n",
       "       <use transform=\"translate(150.275122 0)scale(0.996264)\" xlink:href=\"#CMR17-48\"/>\n",
       "      </g>\n",
       "     </g>\n",
       "    </g>\n",
       "    <g id=\"xtick_4\">\n",
       "     <g id=\"line2d_4\">\n",
       "      <g>\n",
       "       <use style=\"stroke:#000000;stroke-width:0.8;\" x=\"202.896\" xlink:href=\"#m52d1af058b\" y=\"307.584\"/>\n",
       "      </g>\n",
       "     </g>\n",
       "     <g id=\"text_4\">\n",
       "      <!-- $\\mathdefault{−2.5}$ -->\n",
       "      <g transform=\"translate(192.656589 321.502498)scale(0.1 -0.1)\">\n",
       "       <defs>\n",
       "        <path d=\"M 41.703125 15.46875  L 39.90625 15.46875  C 38.90625 8.390625 38.09375 7.1875 37.703125 6.59375  C 37.203125 5.796875 30 5.796875 28.59375 5.796875  L 9.40625 5.796875  C 13 9.6875 20 16.765625 28.5 24.9375  C 34.59375 30.71875 41.703125 37.5 41.703125 47.390625  C 41.703125 59.1875 32.296875 66 21.796875 66  C 10.796875 66 4.09375 56.296875 4.09375 47.296875  C 4.09375 43.390625 7 42.890625 8.203125 42.890625  C 9.203125 42.890625 12.203125 43.484375 12.203125 46.984375  C 12.203125 50.09375 9.59375 51 8.203125 51  C 7.59375 51 7 50.890625 6.59375 50.6875  C 8.5 59.1875 14.296875 63.390625 20.40625 63.390625  C 29.09375 63.390625 34.796875 56.5 34.796875 47.390625  C 34.796875 38.703125 29.703125 31.21875 24 24.734375  L 4.09375 2.296875  L 4.09375 0  L 39.296875 0  z \" id=\"CMR17-50\"/>\n",
       "       </defs>\n",
       "       <use transform=\"scale(0.996264)\" xlink:href=\"#CMSY10-0\"/>\n",
       "       <use transform=\"translate(77.487468 0)scale(0.996264)\" xlink:href=\"#CMR17-50\"/>\n",
       "       <use transform=\"translate(123.177945 0)scale(0.996264)\" xlink:href=\"#CMMI12-58\"/>\n",
       "       <use transform=\"translate(150.275122 0)scale(0.996264)\" xlink:href=\"#CMR17-53\"/>\n",
       "      </g>\n",
       "     </g>\n",
       "    </g>\n",
       "    <g id=\"xtick_5\">\n",
       "     <g id=\"line2d_5\">\n",
       "      <g>\n",
       "       <use style=\"stroke:#000000;stroke-width:0.8;\" x=\"236.16\" xlink:href=\"#m52d1af058b\" y=\"307.584\"/>\n",
       "      </g>\n",
       "     </g>\n",
       "     <g id=\"text_5\">\n",
       "      <!-- $\\mathdefault{0.0}$ -->\n",
       "      <g transform=\"translate(229.794961 321.502498)scale(0.1 -0.1)\">\n",
       "       <use transform=\"scale(0.996264)\" xlink:href=\"#CMR17-48\"/>\n",
       "       <use transform=\"translate(45.690477 0)scale(0.996264)\" xlink:href=\"#CMMI12-58\"/>\n",
       "       <use transform=\"translate(72.787654 0)scale(0.996264)\" xlink:href=\"#CMR17-48\"/>\n",
       "      </g>\n",
       "     </g>\n",
       "    </g>\n",
       "    <g id=\"xtick_6\">\n",
       "     <g id=\"line2d_6\">\n",
       "      <g>\n",
       "       <use style=\"stroke:#000000;stroke-width:0.8;\" x=\"269.424\" xlink:href=\"#m52d1af058b\" y=\"307.584\"/>\n",
       "      </g>\n",
       "     </g>\n",
       "     <g id=\"text_6\">\n",
       "      <!-- $\\mathdefault{2.5}$ -->\n",
       "      <g transform=\"translate(263.058961 321.502498)scale(0.1 -0.1)\">\n",
       "       <use transform=\"scale(0.996264)\" xlink:href=\"#CMR17-50\"/>\n",
       "       <use transform=\"translate(45.690477 0)scale(0.996264)\" xlink:href=\"#CMMI12-58\"/>\n",
       "       <use transform=\"translate(72.787654 0)scale(0.996264)\" xlink:href=\"#CMR17-53\"/>\n",
       "      </g>\n",
       "     </g>\n",
       "    </g>\n",
       "    <g id=\"xtick_7\">\n",
       "     <g id=\"line2d_7\">\n",
       "      <g>\n",
       "       <use style=\"stroke:#000000;stroke-width:0.8;\" x=\"302.688\" xlink:href=\"#m52d1af058b\" y=\"307.584\"/>\n",
       "      </g>\n",
       "     </g>\n",
       "     <g id=\"text_7\">\n",
       "      <!-- $\\mathdefault{5.0}$ -->\n",
       "      <g transform=\"translate(296.322961 321.502498)scale(0.1 -0.1)\">\n",
       "       <use transform=\"scale(0.996264)\" xlink:href=\"#CMR17-53\"/>\n",
       "       <use transform=\"translate(45.690477 0)scale(0.996264)\" xlink:href=\"#CMMI12-58\"/>\n",
       "       <use transform=\"translate(72.787654 0)scale(0.996264)\" xlink:href=\"#CMR17-48\"/>\n",
       "      </g>\n",
       "     </g>\n",
       "    </g>\n",
       "    <g id=\"xtick_8\">\n",
       "     <g id=\"line2d_8\">\n",
       "      <g>\n",
       "       <use style=\"stroke:#000000;stroke-width:0.8;\" x=\"335.952\" xlink:href=\"#m52d1af058b\" y=\"307.584\"/>\n",
       "      </g>\n",
       "     </g>\n",
       "     <g id=\"text_8\">\n",
       "      <!-- $\\mathdefault{7.5}$ -->\n",
       "      <g transform=\"translate(329.586961 321.502498)scale(0.1 -0.1)\">\n",
       "       <use transform=\"scale(0.996264)\" xlink:href=\"#CMR17-55\"/>\n",
       "       <use transform=\"translate(45.690477 0)scale(0.996264)\" xlink:href=\"#CMMI12-58\"/>\n",
       "       <use transform=\"translate(72.787654 0)scale(0.996264)\" xlink:href=\"#CMR17-53\"/>\n",
       "      </g>\n",
       "     </g>\n",
       "    </g>\n",
       "    <g id=\"xtick_9\">\n",
       "     <g id=\"line2d_9\">\n",
       "      <g>\n",
       "       <use style=\"stroke:#000000;stroke-width:0.8;\" x=\"369.216\" xlink:href=\"#m52d1af058b\" y=\"307.584\"/>\n",
       "      </g>\n",
       "     </g>\n",
       "     <g id=\"text_9\">\n",
       "      <!-- $\\mathdefault{10.0}$ -->\n",
       "      <g transform=\"translate(360.360293 321.502498)scale(0.1 -0.1)\">\n",
       "       <use transform=\"scale(0.996264)\" xlink:href=\"#CMR17-49\"/>\n",
       "       <use transform=\"translate(45.690477 0)scale(0.996264)\" xlink:href=\"#CMR17-48\"/>\n",
       "       <use transform=\"translate(91.380954 0)scale(0.996264)\" xlink:href=\"#CMMI12-58\"/>\n",
       "       <use transform=\"translate(118.478131 0)scale(0.996264)\" xlink:href=\"#CMR17-48\"/>\n",
       "      </g>\n",
       "     </g>\n",
       "    </g>\n",
       "   </g>\n",
       "   <g id=\"matplotlib.axis_2\">\n",
       "    <g id=\"ytick_1\">\n",
       "     <g id=\"line2d_10\">\n",
       "      <defs>\n",
       "       <path d=\"M 0 0  L -3.5 0  \" id=\"ma642c4f036\" style=\"stroke:#000000;stroke-width:0.8;\"/>\n",
       "      </defs>\n",
       "      <g>\n",
       "       <use style=\"stroke:#000000;stroke-width:0.8;\" x=\"103.104\" xlink:href=\"#ma642c4f036\" y=\"307.584\"/>\n",
       "      </g>\n",
       "     </g>\n",
       "     <g id=\"text_10\">\n",
       "      <!-- $\\mathdefault{−10.0}$ -->\n",
       "      <g transform=\"translate(70.643842 311.043249)scale(0.1 -0.1)\">\n",
       "       <use transform=\"scale(0.996264)\" xlink:href=\"#CMSY10-0\"/>\n",
       "       <use transform=\"translate(77.487468 0)scale(0.996264)\" xlink:href=\"#CMR17-49\"/>\n",
       "       <use transform=\"translate(123.177945 0)scale(0.996264)\" xlink:href=\"#CMR17-48\"/>\n",
       "       <use transform=\"translate(168.868422 0)scale(0.996264)\" xlink:href=\"#CMMI12-58\"/>\n",
       "       <use transform=\"translate(195.965599 0)scale(0.996264)\" xlink:href=\"#CMR17-48\"/>\n",
       "      </g>\n",
       "     </g>\n",
       "    </g>\n",
       "    <g id=\"ytick_2\">\n",
       "     <g id=\"line2d_11\">\n",
       "      <g>\n",
       "       <use style=\"stroke:#000000;stroke-width:0.8;\" x=\"103.104\" xlink:href=\"#ma642c4f036\" y=\"274.32\"/>\n",
       "      </g>\n",
       "     </g>\n",
       "     <g id=\"text_11\">\n",
       "      <!-- $\\mathdefault{−7.5}$ -->\n",
       "      <g transform=\"translate(75.625177 277.779249)scale(0.1 -0.1)\">\n",
       "       <use transform=\"scale(0.996264)\" xlink:href=\"#CMSY10-0\"/>\n",
       "       <use transform=\"translate(77.487468 0)scale(0.996264)\" xlink:href=\"#CMR17-55\"/>\n",
       "       <use transform=\"translate(123.177945 0)scale(0.996264)\" xlink:href=\"#CMMI12-58\"/>\n",
       "       <use transform=\"translate(150.275122 0)scale(0.996264)\" xlink:href=\"#CMR17-53\"/>\n",
       "      </g>\n",
       "     </g>\n",
       "    </g>\n",
       "    <g id=\"ytick_3\">\n",
       "     <g id=\"line2d_12\">\n",
       "      <g>\n",
       "       <use style=\"stroke:#000000;stroke-width:0.8;\" x=\"103.104\" xlink:href=\"#ma642c4f036\" y=\"241.056\"/>\n",
       "      </g>\n",
       "     </g>\n",
       "     <g id=\"text_12\">\n",
       "      <!-- $\\mathdefault{−5.0}$ -->\n",
       "      <g transform=\"translate(75.625177 244.515249)scale(0.1 -0.1)\">\n",
       "       <use transform=\"scale(0.996264)\" xlink:href=\"#CMSY10-0\"/>\n",
       "       <use transform=\"translate(77.487468 0)scale(0.996264)\" xlink:href=\"#CMR17-53\"/>\n",
       "       <use transform=\"translate(123.177945 0)scale(0.996264)\" xlink:href=\"#CMMI12-58\"/>\n",
       "       <use transform=\"translate(150.275122 0)scale(0.996264)\" xlink:href=\"#CMR17-48\"/>\n",
       "      </g>\n",
       "     </g>\n",
       "    </g>\n",
       "    <g id=\"ytick_4\">\n",
       "     <g id=\"line2d_13\">\n",
       "      <g>\n",
       "       <use style=\"stroke:#000000;stroke-width:0.8;\" x=\"103.104\" xlink:href=\"#ma642c4f036\" y=\"207.792\"/>\n",
       "      </g>\n",
       "     </g>\n",
       "     <g id=\"text_13\">\n",
       "      <!-- $\\mathdefault{−2.5}$ -->\n",
       "      <g transform=\"translate(75.625177 211.251249)scale(0.1 -0.1)\">\n",
       "       <use transform=\"scale(0.996264)\" xlink:href=\"#CMSY10-0\"/>\n",
       "       <use transform=\"translate(77.487468 0)scale(0.996264)\" xlink:href=\"#CMR17-50\"/>\n",
       "       <use transform=\"translate(123.177945 0)scale(0.996264)\" xlink:href=\"#CMMI12-58\"/>\n",
       "       <use transform=\"translate(150.275122 0)scale(0.996264)\" xlink:href=\"#CMR17-53\"/>\n",
       "      </g>\n",
       "     </g>\n",
       "    </g>\n",
       "    <g id=\"ytick_5\">\n",
       "     <g id=\"line2d_14\">\n",
       "      <g>\n",
       "       <use style=\"stroke:#000000;stroke-width:0.8;\" x=\"103.104\" xlink:href=\"#ma642c4f036\" y=\"174.528\"/>\n",
       "      </g>\n",
       "     </g>\n",
       "     <g id=\"text_14\">\n",
       "      <!-- $\\mathdefault{0.0}$ -->\n",
       "      <g transform=\"translate(83.373921 177.987249)scale(0.1 -0.1)\">\n",
       "       <use transform=\"scale(0.996264)\" xlink:href=\"#CMR17-48\"/>\n",
       "       <use transform=\"translate(45.690477 0)scale(0.996264)\" xlink:href=\"#CMMI12-58\"/>\n",
       "       <use transform=\"translate(72.787654 0)scale(0.996264)\" xlink:href=\"#CMR17-48\"/>\n",
       "      </g>\n",
       "     </g>\n",
       "    </g>\n",
       "    <g id=\"ytick_6\">\n",
       "     <g id=\"line2d_15\">\n",
       "      <g>\n",
       "       <use style=\"stroke:#000000;stroke-width:0.8;\" x=\"103.104\" xlink:href=\"#ma642c4f036\" y=\"141.264\"/>\n",
       "      </g>\n",
       "     </g>\n",
       "     <g id=\"text_15\">\n",
       "      <!-- $\\mathdefault{2.5}$ -->\n",
       "      <g transform=\"translate(83.373921 144.723249)scale(0.1 -0.1)\">\n",
       "       <use transform=\"scale(0.996264)\" xlink:href=\"#CMR17-50\"/>\n",
       "       <use transform=\"translate(45.690477 0)scale(0.996264)\" xlink:href=\"#CMMI12-58\"/>\n",
       "       <use transform=\"translate(72.787654 0)scale(0.996264)\" xlink:href=\"#CMR17-53\"/>\n",
       "      </g>\n",
       "     </g>\n",
       "    </g>\n",
       "    <g id=\"ytick_7\">\n",
       "     <g id=\"line2d_16\">\n",
       "      <g>\n",
       "       <use style=\"stroke:#000000;stroke-width:0.8;\" x=\"103.104\" xlink:href=\"#ma642c4f036\" y=\"108\"/>\n",
       "      </g>\n",
       "     </g>\n",
       "     <g id=\"text_16\">\n",
       "      <!-- $\\mathdefault{5.0}$ -->\n",
       "      <g transform=\"translate(83.373921 111.459249)scale(0.1 -0.1)\">\n",
       "       <use transform=\"scale(0.996264)\" xlink:href=\"#CMR17-53\"/>\n",
       "       <use transform=\"translate(45.690477 0)scale(0.996264)\" xlink:href=\"#CMMI12-58\"/>\n",
       "       <use transform=\"translate(72.787654 0)scale(0.996264)\" xlink:href=\"#CMR17-48\"/>\n",
       "      </g>\n",
       "     </g>\n",
       "    </g>\n",
       "    <g id=\"ytick_8\">\n",
       "     <g id=\"line2d_17\">\n",
       "      <g>\n",
       "       <use style=\"stroke:#000000;stroke-width:0.8;\" x=\"103.104\" xlink:href=\"#ma642c4f036\" y=\"74.736\"/>\n",
       "      </g>\n",
       "     </g>\n",
       "     <g id=\"text_17\">\n",
       "      <!-- $\\mathdefault{7.5}$ -->\n",
       "      <g transform=\"translate(83.373921 78.195249)scale(0.1 -0.1)\">\n",
       "       <use transform=\"scale(0.996264)\" xlink:href=\"#CMR17-55\"/>\n",
       "       <use transform=\"translate(45.690477 0)scale(0.996264)\" xlink:href=\"#CMMI12-58\"/>\n",
       "       <use transform=\"translate(72.787654 0)scale(0.996264)\" xlink:href=\"#CMR17-53\"/>\n",
       "      </g>\n",
       "     </g>\n",
       "    </g>\n",
       "    <g id=\"ytick_9\">\n",
       "     <g id=\"line2d_18\">\n",
       "      <g>\n",
       "       <use style=\"stroke:#000000;stroke-width:0.8;\" x=\"103.104\" xlink:href=\"#ma642c4f036\" y=\"41.472\"/>\n",
       "      </g>\n",
       "     </g>\n",
       "     <g id=\"text_18\">\n",
       "      <!-- $\\mathdefault{10.0}$ -->\n",
       "      <g transform=\"translate(78.392586 44.931249)scale(0.1 -0.1)\">\n",
       "       <use transform=\"scale(0.996264)\" xlink:href=\"#CMR17-49\"/>\n",
       "       <use transform=\"translate(45.690477 0)scale(0.996264)\" xlink:href=\"#CMR17-48\"/>\n",
       "       <use transform=\"translate(91.380954 0)scale(0.996264)\" xlink:href=\"#CMMI12-58\"/>\n",
       "       <use transform=\"translate(118.478131 0)scale(0.996264)\" xlink:href=\"#CMR17-48\"/>\n",
       "      </g>\n",
       "     </g>\n",
       "    </g>\n",
       "   </g>\n",
       "   <g id=\"line2d_19\">\n",
       "    <path clip-path=\"url(#p6dac08fe62)\" d=\"M 242.8128 163.005012  L 241.287569 162.250092  L 239.678455 161.69603  L 238.011782 161.351889  L 236.314814 161.223301  L 234.615314 161.312368  L 232.941084 161.617633  L 231.319513 162.134103  L 229.777129 162.853329  L 228.339165 163.763543  L 227.029143 164.849857  L 225.868496 166.094499  L 224.876211 167.477106  L 224.068521 168.975061  L 223.458639 170.563859  L 223.056542 172.217507  L 222.868808 173.908953  L 222.8544 174.528  L 222.8544 174.528  \" style=\"fill:none;stroke:#ff0000;stroke-linecap:square;stroke-width:2;\"/>\n",
       "   </g>\n",
       "   <g id=\"patch_3\">\n",
       "    <path d=\"M 103.104 307.584  L 103.104 41.472  \" style=\"fill:none;stroke:#000000;stroke-linecap:square;stroke-linejoin:miter;stroke-width:0.8;\"/>\n",
       "   </g>\n",
       "   <g id=\"patch_4\">\n",
       "    <path d=\"M 369.216 307.584  L 369.216 41.472  \" style=\"fill:none;stroke:#000000;stroke-linecap:square;stroke-linejoin:miter;stroke-width:0.8;\"/>\n",
       "   </g>\n",
       "   <g id=\"patch_5\">\n",
       "    <path d=\"M 103.104 307.584  L 369.216 307.584  \" style=\"fill:none;stroke:#000000;stroke-linecap:square;stroke-linejoin:miter;stroke-width:0.8;\"/>\n",
       "   </g>\n",
       "   <g id=\"patch_6\">\n",
       "    <path d=\"M 103.104 41.472  L 369.216 41.472  \" style=\"fill:none;stroke:#000000;stroke-linecap:square;stroke-linejoin:miter;stroke-width:0.8;\"/>\n",
       "   </g>\n",
       "  </g>\n",
       " </g>\n",
       " <defs>\n",
       "  <clipPath id=\"p6dac08fe62\">\n",
       "   <rect height=\"266.112\" width=\"266.112\" x=\"103.104\" y=\"41.472\"/>\n",
       "  </clipPath>\n",
       " </defs>\n",
       "</svg>"
      ],
      "text/plain": [
       "<IPython.core.display.SVG object>"
      ]
     },
     "metadata": {},
     "output_type": "display_data"
    }
   ],
   "source": [
    "drawing_tool.erase()\n",
    "center = point(0,0)\n",
    "radius = 1\n",
    "angle = 120\n",
    "start_angle = 180-angle\n",
    "arc_angle = angle\n",
    "arc = Arc(center, radius, start_angle, arc_angle)\n",
    "arc.draw()\n",
    "drawing_tool.display()\n",
    "display(SVG(sketch2SVG()))"
   ]
  },
  {
   "cell_type": "markdown",
   "metadata": {},
   "source": [
    "## Object"
   ]
  },
  {
   "cell_type": "markdown",
   "metadata": {},
   "source": [
    "[home](#Table-of-Content)"
   ]
  },
  {
   "cell_type": "markdown",
   "metadata": {},
   "source": [
    "### YAML"
   ]
  },
  {
   "cell_type": "code",
   "execution_count": null,
   "metadata": {},
   "outputs": [],
   "source": [
    "object=\"\"\"\n",
    "TBC:\n",
    "\"\"\"\n",
    "drawing_tool.erase()\n",
    "sketchParse(object,myfig)\n",
    "# replace 'object' by the actual one\n",
    "d = myfig['object'].draw() \n",
    "drawing_tool.display()\n",
    "display(SVG(sketch2SVG()))"
   ]
  },
  {
   "cell_type": "markdown",
   "metadata": {},
   "source": [
    "### Python"
   ]
  },
  {
   "cell_type": "code",
   "execution_count": null,
   "metadata": {},
   "outputs": [],
   "source": [
    "drawing_tool.erase()\n",
    "# put code\n",
    "object = ...\n",
    "object.draw()\n",
    "drawing_tool.display()\n",
    "display(SVG(sketch2SVG()))"
   ]
  },
  {
   "cell_type": "code",
   "execution_count": null,
   "metadata": {},
   "outputs": [],
   "source": []
  }
 ],
 "metadata": {
  "kernelspec": {
   "display_name": "Python 3",
   "language": "python",
   "name": "python3"
  },
  "language_info": {
   "codemirror_mode": {
    "name": "ipython",
    "version": 3
   },
   "file_extension": ".py",
   "mimetype": "text/x-python",
   "name": "python",
   "nbconvert_exporter": "python",
   "pygments_lexer": "ipython3",
   "version": "3.8.5"
  }
 },
 "nbformat": 4,
 "nbformat_minor": 4
}
