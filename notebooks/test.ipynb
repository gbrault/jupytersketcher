{
 "cells": [
  {
   "cell_type": "code",
   "execution_count": 1,
   "metadata": {},
   "outputs": [],
   "source": [
    "%matplotlib widget"
   ]
  },
  {
   "cell_type": "code",
   "execution_count": 3,
   "metadata": {},
   "outputs": [],
   "source": [
    "import matplotlib.pyplot as plt"
   ]
  },
  {
   "cell_type": "code",
   "execution_count": 5,
   "metadata": {},
   "outputs": [],
   "source": [
    "import numpy as np"
   ]
  },
  {
   "cell_type": "code",
   "execution_count": 4,
   "metadata": {},
   "outputs": [
    {
     "data": {
      "application/vnd.jupyter.widget-view+json": {
       "model_id": "5f55bdbff37043bb8e9f05835be4c6e3",
       "version_major": 2,
       "version_minor": 0
      },
      "text/plain": [
       "Canvas(toolbar=Toolbar(toolitems=[('Home', 'Reset original view', 'home', 'home'), ('Back', 'Back to previous …"
      ]
     },
     "metadata": {},
     "output_type": "display_data"
    },
    {
     "data": {
      "text/plain": [
       "[<matplotlib.lines.Line2D at 0x27b2d2bfb20>]"
      ]
     },
     "execution_count": 4,
     "metadata": {},
     "output_type": "execute_result"
    }
   ],
   "source": [
    "fig, ax = plt.subplots()\n",
    "fig.canvas.width = '7in'\n",
    "fig.canvas.height= '5in'\n",
    "\n",
    "# if I hide the header here, I get a libpng error\n",
    "# fig.canvas.header_visible = False\n",
    "\n",
    "ax.plot([1,2,3], [4,5,3])"
   ]
  },
  {
   "cell_type": "code",
   "execution_count": 4,
   "metadata": {},
   "outputs": [],
   "source": [
    "# hiding after rendering works\n",
    "fig.canvas.header_visible = False"
   ]
  },
  {
   "cell_type": "code",
   "execution_count": 5,
   "metadata": {},
   "outputs": [
    {
     "data": {
      "application/vnd.jupyter.widget-view+json": {
       "model_id": "e0b21d300cff4df3b616fdae74984486",
       "version_major": 2,
       "version_minor": 0
      },
      "text/plain": [
       "Canvas(toolbar=Toolbar(toolitems=[('Home', 'Reset original view', 'home', 'home'), ('Back', 'Back to previous …"
      ]
     },
     "metadata": {},
     "output_type": "display_data"
    },
    {
     "data": {
      "text/plain": [
       "[<matplotlib.lines.Line2D at 0x202d6feb730>]"
      ]
     },
     "execution_count": 5,
     "metadata": {},
     "output_type": "execute_result"
    }
   ],
   "source": [
    "# hiding together with calls to toolbar options, work.\n",
    "fig, ax = plt.subplots()\n",
    "fig.canvas.width = '7in'\n",
    "fig.canvas.height= '5in'\n",
    "\n",
    "fig.canvas.toolbar_visible = False\n",
    "fig.canvas.header_visible = False\n",
    "\n",
    "ax.plot([1,2,3], [4,5,3])"
   ]
  },
  {
   "cell_type": "code",
   "execution_count": 6,
   "metadata": {},
   "outputs": [
    {
     "data": {
      "application/vnd.jupyter.widget-view+json": {
       "model_id": "b8cab1f8c4e544eca23e0b2fb7246dd6",
       "version_major": 2,
       "version_minor": 0
      },
      "text/plain": [
       "AppLayout(children=(FloatSlider(value=1.0, description='Factor:', layout=Layout(grid_area='footer', margin='0p…"
      ]
     },
     "metadata": {},
     "output_type": "display_data"
    }
   ],
   "source": [
    "# When using the `widget` backend from ipympl,\n",
    "# fig.canvas is a proper Jupyter interactive widget, which can be embedded in\n",
    "# an ipywidgets layout. See https://ipywidgets.readthedocs.io/en/stable/examples/Layout%20Templates.html\n",
    "\n",
    "# One can bound figure attributes to other widget values.\n",
    "from ipywidgets import AppLayout, FloatSlider\n",
    "\n",
    "plt.ioff()\n",
    "\n",
    "slider = FloatSlider(\n",
    "    orientation='horizontal',\n",
    "    description='Factor:',\n",
    "    value=1.0,\n",
    "    min=0.02,\n",
    "    max=2.0\n",
    ")\n",
    "\n",
    "slider.layout.margin = '0px 30% 0px 30%'\n",
    "slider.layout.width = '40%'\n",
    "\n",
    "fig = plt.figure()\n",
    "fig.canvas.header_visible = False\n",
    "fig.canvas.layout.min_height = '400px'\n",
    "plt.title('Plotting: y=sin({} * x)'.format(slider.value))\n",
    "\n",
    "x = np.linspace(0, 20, 500)\n",
    "\n",
    "lines = plt.plot(x, np.sin(slider.value * x))\n",
    "\n",
    "def update_lines(change):\n",
    "    plt.title('Plotting: y=sin({} * x)'.format(change.new))\n",
    "    lines[0].set_data(x, np.sin(change.new * x))\n",
    "    fig.canvas.draw()\n",
    "    fig.canvas.flush_events()\n",
    "\n",
    "slider.observe(update_lines, names='value')\n",
    "\n",
    "AppLayout(\n",
    "    center=fig.canvas,\n",
    "    footer=slider,\n",
    "    pane_heights=[0, 6, 1]\n",
    ")"
   ]
  },
  {
   "cell_type": "code",
   "execution_count": 1,
   "metadata": {},
   "outputs": [
    {
     "name": "stdout",
     "output_type": "stream",
     "text": [
      "Saving 'svg_filter_pie.svg'\n"
     ]
    },
    {
     "data": {
      "image/png": "[encoded data removed]",
      "text/plain": [
       "<Figure size 432x432 with 1 Axes>"
      ]
     },
     "metadata": {},
     "output_type": "display_data"
    }
   ],
   "source": [
    "import matplotlib.pyplot as plt\n",
    "from matplotlib.patches import Shadow\n",
    "\n",
    "# make a square figure and axes\n",
    "fig = plt.figure(figsize=(6, 6))\n",
    "ax = fig.add_axes([0.1, 0.1, 0.8, 0.8])\n",
    "\n",
    "labels = 'Frogs', 'Hogs', 'Dogs', 'Logs'\n",
    "fracs = [15, 30, 45, 10]\n",
    "\n",
    "explode = (0, 0.05, 0, 0)\n",
    "\n",
    "# We want to draw the shadow for each pie but we will not use \"shadow\"\n",
    "# option as it does'n save the references to the shadow patches.\n",
    "pies = ax.pie(fracs, explode=explode, labels=labels, autopct='%1.1f%%')\n",
    "\n",
    "for w in pies[0]:\n",
    "    # set the id with the label.\n",
    "    w.set_gid(w.get_label())\n",
    "\n",
    "    # we don't want to draw the edge of the pie\n",
    "    w.set_edgecolor(\"none\")\n",
    "\n",
    "for w in pies[0]:\n",
    "    # create shadow patch\n",
    "    s = Shadow(w, -0.01, -0.01)\n",
    "    s.set_gid(w.get_gid() + \"_shadow\")\n",
    "    s.set_zorder(w.get_zorder() - 0.1)\n",
    "    ax.add_patch(s)\n",
    "\n",
    "\n",
    "# save\n",
    "from io import BytesIO\n",
    "f = BytesIO()\n",
    "plt.savefig(f, format=\"svg\")\n",
    "\n",
    "import xml.etree.cElementTree as ET\n",
    "\n",
    "\n",
    "# filter definition for shadow using a gaussian blur\n",
    "# and lightening effect.\n",
    "# The lightening filter is copied from http://www.w3.org/TR/SVG/filters.html\n",
    "\n",
    "# I tested it with Inkscape and Firefox3. \"Gaussian blur\" is supported\n",
    "# in both, but the lightening effect only in the Inkscape. Also note\n",
    "# that, Inkscape's exporting also may not support it.\n",
    "\n",
    "filter_def = \"\"\"\n",
    "  <defs xmlns='http://www.w3.org/2000/svg' xmlns:xlink='http://www.w3.org/1999/xlink'>\n",
    "    <filter id='dropshadow' height='1.2' width='1.2'>\n",
    "      <feGaussianBlur result='blur' stdDeviation='2'/>\n",
    "    </filter>\n",
    "\n",
    "    <filter id='MyFilter' filterUnits='objectBoundingBox' x='0' y='0' width='1' height='1'>\n",
    "      <feGaussianBlur in='SourceAlpha' stdDeviation='4%' result='blur'/>\n",
    "      <feOffset in='blur' dx='4%' dy='4%' result='offsetBlur'/>\n",
    "      <feSpecularLighting in='blur' surfaceScale='5' specularConstant='.75'\n",
    "           specularExponent='20' lighting-color='#bbbbbb' result='specOut'>\n",
    "        <fePointLight x='-5000%' y='-10000%' z='20000%'/>\n",
    "      </feSpecularLighting>\n",
    "      <feComposite in='specOut' in2='SourceAlpha' operator='in' result='specOut'/>\n",
    "      <feComposite in='SourceGraphic' in2='specOut' operator='arithmetic'\n",
    "    k1='0' k2='1' k3='1' k4='0'/>\n",
    "    </filter>\n",
    "  </defs>\n",
    "\"\"\"\n",
    "\n",
    "\n",
    "tree, xmlid = ET.XMLID(f.getvalue())\n",
    "\n",
    "# insert the filter definition in the svg dom tree.\n",
    "tree.insert(0, ET.XML(filter_def))\n",
    "\n",
    "for i, pie_name in enumerate(labels):\n",
    "    pie = xmlid[pie_name]\n",
    "    pie.set(\"filter\", 'url(#MyFilter)')\n",
    "\n",
    "    shadow = xmlid[pie_name + \"_shadow\"]\n",
    "    shadow.set(\"filter\", 'url(#dropshadow)')\n",
    "\n",
    "fn = \"svg_filter_pie.svg\"\n",
    "print(\"Saving '%s'\" % fn)\n",
    "ET.ElementTree(tree).write(fn)"
   ]
  },
  {
   "cell_type": "code",
   "execution_count": null,
   "metadata": {},
   "outputs": [],
   "source": []
  }
 ],
 "metadata": {
  "kernelspec": {
   "display_name": "Python 3",
   "language": "python",
   "name": "python3"
  },
  "language_info": {
   "codemirror_mode": {
    "name": "ipython",
    "version": 3
   },
   "file_extension": ".py",
   "mimetype": "text/x-python",
   "name": "python",
   "nbconvert_exporter": "python",
   "pygments_lexer": "ipython3",
   "version": "3.8.5"
  }
 },
 "nbformat": 4,
 "nbformat_minor": 4
}
