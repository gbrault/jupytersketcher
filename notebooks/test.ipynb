{
 "cells": [
  {
   "cell_type": "code",
   "execution_count": 1,
   "metadata": {},
   "outputs": [],
   "source": [
    "%matplotlib widget"
   ]
  },
  {
   "cell_type": "code",
   "execution_count": 2,
   "metadata": {},
   "outputs": [],
   "source": [
    "import matplotlib.pyplot as plt"
   ]
  },
  {
   "cell_type": "code",
   "execution_count": 3,
   "metadata": {},
   "outputs": [],
   "source": [
    "import numpy as np"
   ]
  },
  {
   "cell_type": "code",
   "execution_count": null,
   "metadata": {},
   "outputs": [],
   "source": [
    "fig, ax = plt.subplots()\n",
    "fig.canvas.width = '7in'\n",
    "fig.canvas.height= '5in'\n",
    "\n",
    "# if I hide the header here, I get a libpng error\n",
    "# fig.canvas.header_visible = False\n",
    "\n",
    "ax.plot([1,2,3], [4,5,3])"
   ]
  },
  {
   "cell_type": "code",
   "execution_count": null,
   "metadata": {},
   "outputs": [],
   "source": [
    "# hiding after rendering works\n",
    "fig.canvas.header_visible = False"
   ]
  },
  {
   "cell_type": "code",
   "execution_count": null,
   "metadata": {},
   "outputs": [],
   "source": [
    "# hiding together with calls to toolbar options, work.\n",
    "fig, ax = plt.subplots()\n",
    "fig.canvas.width = '7in'\n",
    "fig.canvas.height= '5in'\n",
    "\n",
    "fig.canvas.toolbar_visible = False\n",
    "fig.canvas.header_visible = False\n",
    "\n",
    "ax.plot([1,2,3], [4,5,3])"
   ]
  },
  {
   "cell_type": "code",
   "execution_count": null,
   "metadata": {},
   "outputs": [],
   "source": [
    "# When using the `widget` backend from ipympl,\n",
    "# fig.canvas is a proper Jupyter interactive widget, which can be embedded in\n",
    "# an ipywidgets layout. See https://ipywidgets.readthedocs.io/en/stable/examples/Layout%20Templates.html\n",
    "\n",
    "# One can bound figure attributes to other widget values.\n",
    "from ipywidgets import AppLayout, FloatSlider\n",
    "\n",
    "plt.ioff()\n",
    "\n",
    "slider = FloatSlider(\n",
    "    orientation='horizontal',\n",
    "    description='Factor:',\n",
    "    value=1.0,\n",
    "    min=0.02,\n",
    "    max=2.0\n",
    ")\n",
    "\n",
    "slider.layout.margin = '0px 30% 0px 30%'\n",
    "slider.layout.width = '40%'\n",
    "\n",
    "fig = plt.figure()\n",
    "fig.canvas.header_visible = False\n",
    "fig.canvas.layout.min_height = '400px'\n",
    "plt.title('Plotting: y=sin({} * x)'.format(slider.value))\n",
    "\n",
    "x = np.linspace(0, 20, 500)\n",
    "\n",
    "lines = plt.plot(x, np.sin(slider.value * x))\n",
    "\n",
    "def update_lines(change):\n",
    "    plt.title('Plotting: y=sin({} * x)'.format(change.new))\n",
    "    lines[0].set_data(x, np.sin(change.new * x))\n",
    "    fig.canvas.draw()\n",
    "    fig.canvas.flush_events()\n",
    "\n",
    "slider.observe(update_lines, names='value')\n",
    "\n",
    "AppLayout(\n",
    "    center=fig.canvas,\n",
    "    footer=slider,\n",
    "    pane_heights=[0, 6, 1]\n",
    ")"
   ]
  },
  {
   "cell_type": "code",
   "execution_count": null,
   "metadata": {},
   "outputs": [],
   "source": [
    "import matplotlib.pyplot as plt\n",
    "from matplotlib.patches import Shadow\n",
    "\n",
    "# make a square figure and axes\n",
    "fig = plt.figure(figsize=(6, 6))\n",
    "ax = fig.add_axes([0.1, 0.1, 0.8, 0.8])\n",
    "\n",
    "labels = 'Frogs', 'Hogs', 'Dogs', 'Logs'\n",
    "fracs = [15, 30, 45, 10]\n",
    "\n",
    "explode = (0, 0.05, 0, 0)\n",
    "\n",
    "# We want to draw the shadow for each pie but we will not use \"shadow\"\n",
    "# option as it does'n save the references to the shadow patches.\n",
    "pies = ax.pie(fracs, explode=explode, labels=labels, autopct='%1.1f%%')\n",
    "\n",
    "for w in pies[0]:\n",
    "    # set the id with the label.\n",
    "    w.set_gid(w.get_label())\n",
    "\n",
    "    # we don't want to draw the edge of the pie\n",
    "    w.set_edgecolor(\"none\")\n",
    "\n",
    "for w in pies[0]:\n",
    "    # create shadow patch\n",
    "    s = Shadow(w, -0.01, -0.01)\n",
    "    s.set_gid(w.get_gid() + \"_shadow\")\n",
    "    s.set_zorder(w.get_zorder() - 0.1)\n",
    "    ax.add_patch(s)\n",
    "\n",
    "\n",
    "# save\n",
    "from io import BytesIO\n",
    "f = BytesIO()\n",
    "plt.savefig(f, format=\"svg\")\n",
    "\n",
    "import xml.etree.cElementTree as ET\n",
    "\n",
    "\n",
    "# filter definition for shadow using a gaussian blur\n",
    "# and lightening effect.\n",
    "# The lightening filter is copied from http://www.w3.org/TR/SVG/filters.html\n",
    "\n",
    "# I tested it with Inkscape and Firefox3. \"Gaussian blur\" is supported\n",
    "# in both, but the lightening effect only in the Inkscape. Also note\n",
    "# that, Inkscape's exporting also may not support it.\n",
    "\n",
    "filter_def = \"\"\"\n",
    "  <defs xmlns='http://www.w3.org/2000/svg' xmlns:xlink='http://www.w3.org/1999/xlink'>\n",
    "    <filter id='dropshadow' height='1.2' width='1.2'>\n",
    "      <feGaussianBlur result='blur' stdDeviation='2'/>\n",
    "    </filter>\n",
    "\n",
    "    <filter id='MyFilter' filterUnits='objectBoundingBox' x='0' y='0' width='1' height='1'>\n",
    "      <feGaussianBlur in='SourceAlpha' stdDeviation='4%' result='blur'/>\n",
    "      <feOffset in='blur' dx='4%' dy='4%' result='offsetBlur'/>\n",
    "      <feSpecularLighting in='blur' surfaceScale='5' specularConstant='.75'\n",
    "           specularExponent='20' lighting-color='#bbbbbb' result='specOut'>\n",
    "        <fePointLight x='-5000%' y='-10000%' z='20000%'/>\n",
    "      </feSpecularLighting>\n",
    "      <feComposite in='specOut' in2='SourceAlpha' operator='in' result='specOut'/>\n",
    "      <feComposite in='SourceGraphic' in2='specOut' operator='arithmetic'\n",
    "    k1='0' k2='1' k3='1' k4='0'/>\n",
    "    </filter>\n",
    "  </defs>\n",
    "\"\"\"\n",
    "\n",
    "\n",
    "tree, xmlid = ET.XMLID(f.getvalue())\n",
    "\n",
    "# insert the filter definition in the svg dom tree.\n",
    "tree.insert(0, ET.XML(filter_def))\n",
    "\n",
    "for i, pie_name in enumerate(labels):\n",
    "    pie = xmlid[pie_name]\n",
    "    pie.set(\"filter\", 'url(#MyFilter)')\n",
    "\n",
    "    shadow = xmlid[pie_name + \"_shadow\"]\n",
    "    shadow.set(\"filter\", 'url(#dropshadow)')\n",
    "\n",
    "fn = \"svg_filter_pie.svg\"\n",
    "print(\"Saving '%s'\" % fn)\n",
    "ET.ElementTree(tree).write(fn)"
   ]
  },
  {
   "cell_type": "code",
   "execution_count": null,
   "metadata": {},
   "outputs": [],
   "source": [
    "%matplotlib widget\n",
    "import ipywidgets as widgets\n",
    "import matplotlib.pyplot as plt\n",
    "import numpy as np\n",
    "# set up plot\n",
    "fig, ax = plt.subplots(figsize=(6, 4))\n",
    "ax.set_ylim([-4, 4])\n",
    "ax.grid(True)\n",
    " \n",
    "# generate x values\n",
    "x = np.linspace(0, 2 * np.pi, 100)\n",
    " \n",
    " \n",
    "def my_sine(x, w, amp, phi):\n",
    "    \"\"\"\n",
    "    Return a sine for x with angular frequeny w and amplitude amp.\n",
    "    \"\"\"\n",
    "    return amp*np.sin(w * (x-phi))\n",
    " \n",
    " \n",
    "@widgets.interact(w=(0, 10, 1), amp=(0, 4, .1), phi=(0, 2*np.pi+0.01, 0.01))\n",
    "def update(w = 1.0, amp=1, phi=0):\n",
    "    \"\"\"Remove old lines from plot and plot new one\"\"\"\n",
    "    [l.remove() for l in ax.lines]\n",
    "    ax.plot(x, my_sine(x, w, amp, phi), color='C0')\n"
   ]
  },
  {
   "cell_type": "code",
   "execution_count": null,
   "metadata": {},
   "outputs": [],
   "source": [
    "%matplotlib inline\n",
    "import time\n",
    "import pylab as pl\n",
    "from IPython import display\n",
    "for i in range(10):\n",
    "    pl.plot(pl.randn(100))\n",
    "    display.clear_output(wait=True)\n",
    "    display.display(pl.gcf())\n",
    "    time.sleep(1.0)"
   ]
  },
  {
   "cell_type": "code",
   "execution_count": null,
   "metadata": {},
   "outputs": [],
   "source": [
    "!pip install drawsvg"
   ]
  },
  {
   "cell_type": "code",
   "execution_count": null,
   "metadata": {},
   "outputs": [],
   "source": [
    "import drawSvg as draw"
   ]
  },
  {
   "cell_type": "code",
   "execution_count": null,
   "metadata": {},
   "outputs": [],
   "source": [
    "from IPython.display import SVG, display"
   ]
  },
  {
   "cell_type": "code",
   "execution_count": null,
   "metadata": {},
   "outputs": [],
   "source": [
    "d = draw.Drawing(200, 200, origin='center')"
   ]
  },
  {
   "cell_type": "code",
   "execution_count": null,
   "metadata": {},
   "outputs": [],
   "source": [
    "c = draw.Circle(0, 0, 20, fill='red')"
   ]
  },
  {
   "cell_type": "code",
   "execution_count": null,
   "metadata": {},
   "outputs": [],
   "source": [
    "d.append(c)"
   ]
  },
  {
   "cell_type": "code",
   "execution_count": null,
   "metadata": {},
   "outputs": [],
   "source": [
    "d"
   ]
  },
  {
   "cell_type": "code",
   "execution_count": null,
   "metadata": {},
   "outputs": [],
   "source": [
    "c0 = d.allElements()[0]"
   ]
  },
  {
   "cell_type": "code",
   "execution_count": null,
   "metadata": {},
   "outputs": [],
   "source": [
    "c0.args"
   ]
  },
  {
   "cell_type": "code",
   "execution_count": null,
   "metadata": {},
   "outputs": [],
   "source": [
    "c0.args={'cx': 0, 'cy': 0, 'r': 25, 'fill': 'red'}"
   ]
  },
  {
   "cell_type": "code",
   "execution_count": null,
   "metadata": {},
   "outputs": [],
   "source": [
    "r = draw.Rectangle(5,5,5,3,fill='blue')"
   ]
  },
  {
   "cell_type": "code",
   "execution_count": null,
   "metadata": {},
   "outputs": [],
   "source": [
    "d.append(r)"
   ]
  },
  {
   "cell_type": "code",
   "execution_count": null,
   "metadata": {},
   "outputs": [],
   "source": [
    "r.args"
   ]
  },
  {
   "cell_type": "code",
   "execution_count": null,
   "metadata": {},
   "outputs": [],
   "source": [
    "r.args={'x': 25, 'y': 25, 'width': 25, 'height': 20, 'fill': 'blue'}"
   ]
  },
  {
   "cell_type": "code",
   "execution_count": null,
   "metadata": {},
   "outputs": [],
   "source": [
    "!pip3 install hyperbolic"
   ]
  },
  {
   "cell_type": "code",
   "execution_count": null,
   "metadata": {},
   "outputs": [],
   "source": [
    "import drawSvg as draw\n",
    "from drawSvg.widgets import DrawingWidget\n",
    "import hyperbolic.poincare.shapes as hyper  # pip3 install hyperbolic\n",
    "\n",
    "# Create drawing\n",
    "d = draw.Drawing(2, 2, origin='center')\n",
    "d.setRenderSize(500)\n",
    "d.append(draw.Circle(0, 0, 1, fill='orange'))\n",
    "group = draw.Group()\n",
    "d.append(group)\n",
    "\n",
    "# Update the drawing based on user input\n",
    "click_list = []\n",
    "def redraw(points):\n",
    "    group.children.clear()\n",
    "    for x1, y1 in points:\n",
    "        for x2, y2 in points:\n",
    "            if (x1, y1) == (x2, y2): continue\n",
    "            p1 = hyper.Point.fromEuclid(x1, y1)\n",
    "            p2 = hyper.Point.fromEuclid(x2, y2)\n",
    "            if p1.distanceTo(p2) <= 2:\n",
    "                line = hyper.Line.fromPoints(*p1, *p2, segment=True)\n",
    "                group.draw(line, hwidth=0.2, fill='white')\n",
    "    for x, y in points:\n",
    "        p = hyper.Point.fromEuclid(x, y)\n",
    "        group.draw(hyper.Circle.fromCenterRadius(p, 0.1),\n",
    "                   fill='green')\n",
    "redraw(click_list)\n",
    "\n",
    "# Create interactive widget and register mouse events\n",
    "widget = DrawingWidget(d)\n",
    "@widget.mousedown\n",
    "def mousedown(widget, x, y, info):\n",
    "    if (x**2 + y**2) ** 0.5 + 1e-5 < 1:\n",
    "        click_list.append((x, y))\n",
    "    redraw(click_list)\n",
    "    widget.refresh()\n",
    "@widget.mousemove\n",
    "def mousemove(widget, x, y, info):\n",
    "    if (x**2 + y**2) ** 0.5 + 1e-5 < 1:\n",
    "        redraw(click_list + [(x, y)])\n",
    "    widget.refresh()\n",
    "widget"
   ]
  },
  {
   "cell_type": "markdown",
   "metadata": {},
   "source": [
    "![](fourbar.png)"
   ]
  },
  {
   "cell_type": "code",
   "execution_count": null,
   "metadata": {},
   "outputs": [],
   "source": [
    "!pip install sympy"
   ]
  },
  {
   "cell_type": "code",
   "execution_count": null,
   "metadata": {},
   "outputs": [],
   "source": [
    "!pip install pydy"
   ]
  },
  {
   "cell_type": "code",
   "execution_count": 1,
   "metadata": {},
   "outputs": [],
   "source": [
    "from __future__ import print_function, division\n",
    "from sympy.physics.mechanics import *\n",
    "from sympy.physics.vector import time_derivative\n",
    "from sympy import symbols\n",
    "from numpy import array, linspace, rad2deg, deg2rad\n",
    "from scipy.integrate import odeint\n",
    "from pydy.codegen.ode_function_generators import generate_ode_function\n",
    "# number of links in the mechanism\n",
    "n = 3\n",
    "# generalized speeds and coordinates\n",
    "theta = dynamicsymbols('theta:{}'.format(n))\n",
    "theta_d = dynamicsymbols('theta:{}'.format(n), 1)\n",
    "omega = dynamicsymbols('omega:{}'.format(n))\n",
    "omega_d = dynamicsymbols('omega:{}'.format(n), 1)\n",
    "# the extra symbol thanks to n+1 stands for the distance\n",
    "# between the grounding joints\n",
    "length_bars = symbols('L_B:{}'.format(n+1))\n",
    "g = symbols('g') # gravity"
   ]
  },
  {
   "cell_type": "code",
   "execution_count": 2,
   "metadata": {},
   "outputs": [],
   "source": [
    "# reference frames\n",
    "inertial_frame = ReferenceFrame('I')\n",
    "bar0_frame = inertial_frame.orientnew('B0', 'Axis', (theta[0],\n",
    " inertial_frame.z))\n",
    "bar1_frame = inertial_frame.orientnew('B1', 'Axis', (theta[1],\n",
    " inertial_frame.z))\n",
    "bar2_frame = inertial_frame.orientnew('B2', 'Body', [0, 0, theta[2]],\n",
    " 'XYZ')\n",
    "# angular velocities\n",
    "bar0_frame.set_ang_vel(inertial_frame, omega[0]*inertial_frame.z)\n",
    "bar1_frame.set_ang_vel(inertial_frame, omega[1]*inertial_frame.z)\n",
    "bar2_frame.set_ang_vel(inertial_frame, omega[2]*inertial_frame.z)"
   ]
  },
  {
   "cell_type": "code",
   "execution_count": 3,
   "metadata": {},
   "outputs": [],
   "source": [
    "# joints\n",
    "joint0 = Point('j0')\n",
    "joint1 = joint0.locatenew('j1', length_bars[0] * bar0_frame.x)\n",
    "joint2 = joint1.locatenew('j2', length_bars[1] * bar1_frame.x)\n",
    "joint3 = joint2.locatenew('j3', -length_bars[2] * bar2_frame.x)\n",
    "# cm positions\n",
    "bar0_cm = joint0.locatenew('b0cm', length_bars[0]/2 * bar0_frame.x)\n",
    "bar1_cm = joint1.locatenew('b1cm', length_bars[1]/2 * bar1_frame.x)\n",
    "bar2_cm = joint3.locatenew('b2cm', length_bars[2]/2 * bar2_frame.x)"
   ]
  },
  {
   "cell_type": "code",
   "execution_count": 4,
   "metadata": {},
   "outputs": [
    {
     "data": {
      "text/latex": [
       "$\\displaystyle L_{B0} \\omega_{0}\\mathbf{\\hat{b0}_y} + L_{B1} \\omega_{1}\\mathbf{\\hat{b1}_y} -  \\frac{L_{B2} \\omega_{2}}{2}\\mathbf{\\hat{b2}_y}$"
      ],
      "text/plain": [
       "L_B0*omega0*B0.y + L_B1*omega1*B1.y - L_B2*omega2/2*B2.y"
      ]
     },
     "execution_count": 4,
     "metadata": {},
     "output_type": "execute_result"
    }
   ],
   "source": [
    "# velocity of the grounding joints is 0\n",
    "joint0.set_vel(inertial_frame, 0)\n",
    "joint3.set_vel(inertial_frame, 0)\n",
    "# velocity if the remaining joints\n",
    "joint1.v2pt_theory(joint0, inertial_frame, bar0_frame)\n",
    "joint2.v2pt_theory(joint1, inertial_frame, bar1_frame)\n",
    "# velocity if centres of mass\n",
    "bar0_cm.v2pt_theory(joint0, inertial_frame, bar0_frame)\n",
    "bar1_cm.v2pt_theory(joint1, inertial_frame, bar1_frame)\n",
    "bar2_cm.v2pt_theory(joint2, inertial_frame, bar2_frame) "
   ]
  },
  {
   "cell_type": "code",
   "execution_count": 5,
   "metadata": {},
   "outputs": [],
   "source": [
    "# configuration constraint\n",
    "zero = joint3.pos_from(joint0) + length_bars[3] * inertial_frame.x\n",
    "f_c = [zero & inertial_frame.x, zero & inertial_frame.y]\n",
    "# velocity constraint\n",
    "dzero = time_derivative(zero, inertial_frame)\n",
    "f_v = [dzero & inertial_frame.x, dzero & inertial_frame.y] "
   ]
  },
  {
   "cell_type": "code",
   "execution_count": 6,
   "metadata": {},
   "outputs": [],
   "source": [
    "# mass and inertia\n",
    "mass_bars = symbols('m_B:{}'.format(n))\n",
    "inertia_bars = symbols('I_B:{}'.format(n))\n",
    "# inertia(frame, ixx=0, iyy=0, izz, ixy=0, iyz=0, izx=0)\n",
    "bar0_indyad = inertia(bar0_frame, 0, 0, inertia_bars[0])\n",
    "bar1_indyad = inertia(bar1_frame, 0, 0, inertia_bars[1])\n",
    "bar2_indyad = inertia(bar2_frame, 0, 0, inertia_bars[2])\n",
    "bar0_inertia = (bar0_indyad, bar0_cm)\n",
    "bar1_inertia = (bar1_indyad, bar1_cm)\n",
    "bar2_inertia = (bar2_indyad, bar2_cm)\n",
    "# bodies\n",
    "bar0 = RigidBody('Bar 0', bar0_cm, bar0_frame, mass_bars[0],\n",
    " bar0_inertia)\n",
    "bar1 = RigidBody('Bar 1', bar1_cm, bar0_frame, mass_bars[1],\n",
    " bar1_inertia)\n",
    "bar2 = RigidBody('Bar 1', bar2_cm, bar0_frame, mass_bars[2],\n",
    " bar2_inertia)\n",
    "bodies = [bar0, bar1, bar2] "
   ]
  },
  {
   "cell_type": "code",
   "execution_count": 7,
   "metadata": {},
   "outputs": [],
   "source": [
    "# forces\n",
    "bar0_force = (bar0_cm, -mass_bars[0] * g * inertial_frame.y)\n",
    "bar1_force = (bar1_cm, -mass_bars[1] * g * inertial_frame.y)\n",
    "bar2_force = (bar2_cm, -mass_bars[2] * g * inertial_frame.y)\n",
    "loads = [bar0_force, bar1_force, bar2_force] "
   ]
  },
  {
   "cell_type": "code",
   "execution_count": 8,
   "metadata": {},
   "outputs": [],
   "source": [
    "# kinematic differential equations\n",
    "KDE = [theta_d[0] - omega[0], theta_d[1] - omega[1],\n",
    " theta_d[2] - omega[2]]\n",
    "# Kanes Method\n",
    "kane = KanesMethod(inertial_frame, q_ind=[theta[0]],\n",
    " u_ind=[omega[0]],\n",
    " q_dependent=[theta[1],theta[2]],\n",
    " u_dependent=[omega[1],omega[2]],\n",
    " configuration_constraints=f_c,\n",
    " velocity_constraints=f_v,\n",
    " kd_eqs=KDE)\n",
    "fr, frstar = kane.kanes_equations(bodies, loads) "
   ]
  },
  {
   "cell_type": "code",
   "execution_count": 15,
   "metadata": {},
   "outputs": [],
   "source": [
    "# list of constants\n",
    "constants = [g,\n",
    "mass_bars[0],\n",
    "mass_bars[1],\n",
    "mass_bars[2],\n",
    "length_bars[0],\n",
    "length_bars[1],\n",
    "length_bars[2],\n",
    "length_bars[3],\n",
    "inertia_bars[0],\n",
    "inertia_bars[1],\n",
    "inertia_bars[2]]\n",
    "kdd = kane.kindiffdict()\n",
    "mass_matrix = kane.mass_matrix_full.subs(kdd)\n",
    "forcing_vector = kane.forcing_full.subs(kdd)\n",
    "right_hand_side = generate_ode_function(forcing_vector,\n",
    "theta, omega, constants, mass_matrix=mass_matrix)\n",
    "# list of numerical values\n",
    "numerical_constants = [9.81,\n",
    "2.0,\n",
    "5.0,\n",
    "4.0,\n",
    "2.0,\n",
    "5.0,\n",
    "5.0,\n",
    "4.0,\n",
    "1.0,\n",
    "1.0,\n",
    "1.0]\n",
    "# inital conditions\n",
    "x0 = array([deg2rad(135), deg2rad(41.3340), deg2rad(109.3884), 0.0,\n",
    "0.0, 0.0])\n",
    "# timeframe\n",
    "frames_per_sec = 100\n",
    "final_time = 20.0\n",
    "t = linspace(0.0, final_time, int(final_time * frames_per_sec))\n",
    "# integration\n",
    "y = odeint(right_hand_side, x0, t,\n",
    "args=(dict(zip(constants, numerical_constants)),))"
   ]
  },
  {
   "cell_type": "code",
   "execution_count": 20,
   "metadata": {},
   "outputs": [],
   "source": [
    "from matplotlib import pyplot as plt"
   ]
  },
  {
   "cell_type": "code",
   "execution_count": 21,
   "metadata": {},
   "outputs": [
    {
     "data": {
      "text/plain": [
       "[<matplotlib.lines.Line2D at 0x28cca4aba30>,\n",
       " <matplotlib.lines.Line2D at 0x28cca4abaf0>,\n",
       " <matplotlib.lines.Line2D at 0x28cca4abb80>,\n",
       " <matplotlib.lines.Line2D at 0x28cca4abc70>,\n",
       " <matplotlib.lines.Line2D at 0x28cca4abd30>,\n",
       " <matplotlib.lines.Line2D at 0x28cca4abdf0>]"
      ]
     },
     "execution_count": 21,
     "metadata": {},
     "output_type": "execute_result"
    },
    {
     "data": {
      "image/png": "[encoded data removed]",
      "text/plain": [
       "<Figure size 432x288 with 1 Axes>"
      ]
     },
     "metadata": {
      "needs_background": "light"
     },
     "output_type": "display_data"
    }
   ],
   "source": [
    "plt.plot(t,y)"
   ]
  },
  {
   "cell_type": "code",
   "execution_count": 1,
   "metadata": {},
   "outputs": [],
   "source": [
    "car = \"\"\"\\\n",
    "!!omap\n",
    "- name: car\n",
    "- parts:\n",
    "  - name: head\n",
    "    shapes:\n",
    "      libraries: ['from math import tan, radians, sin, cos', 'from pysketcher import *']\n",
    "  - name: constants\n",
    "    shapes:\n",
    "        R: 1.0    # radius of wheel\n",
    "        L: 4.0    # distance between wheels\n",
    "        H: 2.0    # height of vehicle body\n",
    "        w_1: 5.0  # position of front wheel\n",
    "  - name: frame\n",
    "    shapes:\n",
    "        xmax: w_1 + 2*L + 3*R\n",
    "        setframe:\n",
    "            action: drawing_tool.set_coordinate_system(xmin=0, xmax=xmax,\n",
    "                                   ymin=-1, ymax=2*R + 3*H,\n",
    "                                   axis=False)\n",
    "        wheel1: |\n",
    "                 Composition({'wheel': Circle(center=(w_1, R), radius=R),\n",
    "                    'cross': Composition({'cross1': Line((w_1,0),(w_1,2*R)),\n",
    "                    'cross2': Line((w_1-R,R), (w_1+R,R))})})\n",
    "        wheel2: \n",
    "            formula: wheel1.copy()\n",
    "            transform: translate((L,0))\n",
    "\n",
    "        under: Rectangle(lower_left_corner=(w_1-2*R, 2*R),\n",
    "                  width=2*R + L + 2*R, height=H)\n",
    "        over: Rectangle(lower_left_corner=(w_1, 2*R + H),\n",
    "                  width=2.5*R, height=1.25*H)\n",
    "\n",
    "        wheels: | \n",
    "                  Composition({'wheel1': wheel1, 'wheel2': wheel2})\n",
    "        body:  |\n",
    "                 Composition({'under': under, 'over': over})\n",
    "\n",
    "        vehicle: |\n",
    "                  Composition({'wheels': wheels, 'body': body})\n",
    "        ground: Wall(x=[R, xmax], y=[0, 0], thickness=-0.3*R)\n",
    "\n",
    "        car: |\n",
    "               Composition({'vehicle': vehicle, 'ground': ground})\n",
    "\"\"\""
   ]
  },
  {
   "cell_type": "code",
   "execution_count": 2,
   "metadata": {},
   "outputs": [],
   "source": [
    "from ruamel.yaml import YAML"
   ]
  },
  {
   "cell_type": "code",
   "execution_count": 3,
   "metadata": {},
   "outputs": [],
   "source": [
    "from pysketcher import *"
   ]
  },
  {
   "cell_type": "code",
   "execution_count": 4,
   "metadata": {},
   "outputs": [],
   "source": [
    "yaml = YAML()"
   ]
  },
  {
   "cell_type": "code",
   "execution_count": 5,
   "metadata": {},
   "outputs": [],
   "source": [
    "ycar = yaml.load(car)"
   ]
  },
  {
   "cell_type": "code",
   "execution_count": 6,
   "metadata": {},
   "outputs": [
    {
     "data": {
      "text/plain": [
       "ruamel.yaml.scalarstring.LiteralScalarString"
      ]
     },
     "execution_count": 6,
     "metadata": {},
     "output_type": "execute_result"
    }
   ],
   "source": [
    "type(ycar['parts'][2]['shapes']['wheel1'])"
   ]
  },
  {
   "cell_type": "code",
   "execution_count": 18,
   "metadata": {},
   "outputs": [
    {
     "data": {
      "text/plain": [
       "\"Composition({'wheel': Circle(center=(w_1, R), radius=R),'cross': Composition({'cross1': Line((w_1,0),(w_1,2*R)),'cross2': Line((w_1-R,R), (w_1+R,R))})})\""
      ]
     },
     "execution_count": 18,
     "metadata": {},
     "output_type": "execute_result"
    }
   ],
   "source": [
    "\"\".join([s.strip() for s in ycar['parts'][2]['shapes']['wheel1'].split(\"\\n\")])"
   ]
  },
  {
   "cell_type": "code",
   "execution_count": 14,
   "metadata": {},
   "outputs": [
    {
     "ename": "NameError",
     "evalue": "name 'w_1' is not defined",
     "output_type": "error",
     "traceback": [
      "\u001b[1;31m---------------------------------------------------------------------------\u001b[0m",
      "\u001b[1;31mNameError\u001b[0m                                 Traceback (most recent call last)",
      "\u001b[1;32m<ipython-input-14-f68fedabd67e>\u001b[0m in \u001b[0;36m<module>\u001b[1;34m\u001b[0m\n\u001b[1;32m----> 1\u001b[1;33m \u001b[0mwheel1\u001b[0m \u001b[1;33m=\u001b[0m \u001b[0mexec\u001b[0m\u001b[1;33m(\u001b[0m\u001b[1;34mf\"wheel1 = {ycar['parts'][2]['shapes']['wheel1']}\"\u001b[0m\u001b[1;33m)\u001b[0m\u001b[1;33m\u001b[0m\u001b[1;33m\u001b[0m\u001b[0m\n\u001b[0m",
      "\u001b[1;32m<string>\u001b[0m in \u001b[0;36m<module>\u001b[1;34m\u001b[0m\n",
      "\u001b[1;31mNameError\u001b[0m: name 'w_1' is not defined"
     ]
    }
   ],
   "source": [
    "wheel1 = exec(f\"wheel1 = {ycar['parts'][2]['shapes']['wheel1']}\")"
   ]
  },
  {
   "cell_type": "code",
   "execution_count": 4,
   "metadata": {},
   "outputs": [],
   "source": [
    "from pysketcher import *"
   ]
  },
  {
   "cell_type": "code",
   "execution_count": null,
   "metadata": {},
   "outputs": [],
   "source": []
  },
  {
   "cell_type": "code",
   "execution_count": 8,
   "metadata": {},
   "outputs": [],
   "source": [
    "from IPython.display import HTML, SVG, display, clear_output"
   ]
  },
  {
   "cell_type": "code",
   "execution_count": 6,
   "metadata": {},
   "outputs": [
    {
     "data": {
      "text/plain": [
       "{\n",
       "'spring': {\n",
       "    'bar1': {\n",
       "        'line': \"2 (x,y) coords\",},\n",
       "    'spiral': \"45 (x,y) coords\",\n",
       "    'bar2': {\n",
       "        'line': \"2 (x,y) coords\",},},\n",
       "'mass': {\n",
       "    'rectangle': \"5 (x,y) coords linewidth=4\",},\n",
       "'left wall': {\n",
       "    'rectangle': \"5 (x,y) coords fillcolor='' fillpattern='/'\",},\n",
       "'ground': {\n",
       "    'wall': \"4 (x,y) coords fillcolor='white' fillpattern='/'\",},\n",
       "'wheel1': {\n",
       "    'arc': \"181 (x,y) coords\",},\n",
       "'wheel2': {\n",
       "    'arc': \"181 (x,y) coords\",},\n",
       "'text_m': \"Text at (4,6)\",\n",
       "'text_ku': \"Text at (-6,10)\",\n",
       "'x_axis': {\n",
       "    'arrow': {\n",
       "        'line': {\n",
       "            'line': \"2 (x,y) coords\",},\n",
       "        'head left': {\n",
       "            'line': \"2 (x,y) coords linestyle='solid'\",},\n",
       "        'head right': {\n",
       "            'line': \"2 (x,y) coords linestyle='solid'\",},},\n",
       "    'label': \"Text at (6.96,11.85)\",},\n",
       "'x_axis_start': {\n",
       "    'line': \"2 (x,y) coords linewidth=4\",},}"
      ]
     },
     "execution_count": 6,
     "metadata": {},
     "output_type": "execute_result"
    }
   ],
   "source": [
    "\"\"\"Draw mechanical vibration system.\"\"\"\n",
    "L = 12.\n",
    "H = L/6\n",
    "W = L/6\n",
    "\n",
    "xmax = L\n",
    "drawing_tool.set_coordinate_system(xmin=-L, xmax=xmax,\n",
    "                                   ymin=-1, ymax=L+H,\n",
    "                                   axis=False,\n",
    "                                   instruction_file='tmp_mpl.py')\n",
    "x = 0\n",
    "drawing_tool.set_linecolor('black')\n",
    "\n",
    "def make_dashpot(x):\n",
    "    d_start = (-L,2*H)\n",
    "    d = Dashpot(start=d_start, total_length=L+x, width=W,\n",
    "                bar_length=3*H/2, dashpot_length=L/2, piston_pos=H+x)\n",
    "    d.rotate(-90, d_start)\n",
    "    return d\n",
    "\n",
    "def make_spring(x):\n",
    "    s_start = (-L,4*H)\n",
    "    s = Spring(start=s_start, length=L+x, bar_length=3*H/2, teeth=True)\n",
    "    s.rotate(-90, s_start)\n",
    "    return s\n",
    "\n",
    "d = make_dashpot(0)\n",
    "s = make_spring(0)\n",
    "\n",
    "M = Rectangle((0,H), 4*H, 4*H).set_linewidth(4)\n",
    "left_wall = Rectangle((-L,0),H/10,L).set_filled_curves(pattern='/')\n",
    "ground = Wall(x=[-L/2,L], y=[0,0], thickness=-H/10)\n",
    "wheel1 = Circle((H,H/2), H/2)\n",
    "wheel2 = wheel1.copy()\n",
    "wheel2.translate(point(2*H, 0))\n",
    "\n",
    "fontsize = 18\n",
    "text_m = Text('$m$', (2*H, H+2*H), fontsize=fontsize)\n",
    "text_ku = Text('$ku$', (-L/2, H+4*H), fontsize=fontsize)\n",
    "text_bv = Text(\"$bu'$\", (-L/2, H), fontsize=fontsize)\n",
    "x_axis = Axis((2*H, L), H, '$u(t)$', fontsize=fontsize,\n",
    "              label_spacing=(0.04, -0.01))\n",
    "x_axis_start = Line((2*H, L-H/4), (2*H, L+H/4)).set_linewidth(4)\n",
    "\n",
    "fig = Composition({\n",
    "    'spring': s, 'mass': M, 'left wall': left_wall,\n",
    "    'ground': ground, 'wheel1': wheel1, 'wheel2': wheel2,\n",
    "    'text_m': text_m, 'text_ku': text_ku,\n",
    "    'x_axis': x_axis, 'x_axis_start': x_axis_start})\n",
    "\n",
    "fig.draw()\n",
    "\n",
    "\n",
    "# or fig = Composition(dict(fig=fig, dashpot=d, text_bv=text_bv))"
   ]
  },
  {
   "cell_type": "code",
   "execution_count": 9,
   "metadata": {},
   "outputs": [
    {
     "data": {
      "image/svg+xml": [
       "<svg xmlns=\"http://www.w3.org/2000/svg\" xmlns:xlink=\"http://www.w3.org/1999/xlink\" height=\"345.6pt\" version=\"1.1\" viewBox=\"0 0 460.8 345.6\" width=\"460.8pt\">\n",
       " <metadata>\n",
       "  <rdf:RDF xmlns:cc=\"http://creativecommons.org/ns#\" xmlns:dc=\"http://purl.org/dc/elements/1.1/\" xmlns:rdf=\"http://www.w3.org/1999/02/22-rdf-syntax-ns#\">\n",
       "   <cc:Work>\n",
       "    <dc:type rdf:resource=\"http://purl.org/dc/dcmitype/StillImage\"/>\n",
       "    <dc:date>2020-08-08T16:21:15.677115</dc:date>\n",
       "    <dc:format>image/svg+xml</dc:format>\n",
       "    <dc:creator>\n",
       "     <cc:Agent>\n",
       "      <dc:title>Matplotlib v3.3.0, https://matplotlib.org/</dc:title>\n",
       "     </cc:Agent>\n",
       "    </dc:creator>\n",
       "   </cc:Work>\n",
       "  </rdf:RDF>\n",
       " </metadata>\n",
       " <defs>\n",
       "  <style type=\"text/css\">*{stroke-linecap:butt;stroke-linejoin:round;}</style>\n",
       " </defs>\n",
       " <g id=\"figure_1\">\n",
       "  <g id=\"patch_1\">\n",
       "   <path d=\"M 0 345.6  L 460.8 345.6  L 460.8 0  L 0 0  z \" style=\"fill:#ffffff;\"/>\n",
       "  </g>\n",
       "  <g id=\"axes_1\">\n",
       "   <g id=\"patch_2\">\n",
       "    <path clip-path=\"url(#pccbb15f6a3)\" d=\"M 57.6 271.248  L 60.576 271.248  L 60.576 92.688  L 57.6 92.688  z \" style=\"fill:url(#h0fdd9066f1);stroke:#000000;stroke-linejoin:miter;stroke-width:2;\"/>\n",
       "   </g>\n",
       "   <g id=\"patch_3\">\n",
       "    <path clip-path=\"url(#pccbb15f6a3)\" d=\"M 146.88 271.248  L 414.72 271.248  L 414.72 274.224  L 146.88 274.224  z \" style=\"fill:url(#h0fdd9066f1);stroke:#000000;stroke-linejoin:miter;stroke-width:2;\"/>\n",
       "   </g>\n",
       "   <g id=\"line2d_1\">\n",
       "    <path clip-path=\"url(#pccbb15f6a3)\" d=\"M 57.6 152.208  L 102.24 152.208  \" style=\"fill:none;stroke:#000000;stroke-linecap:square;stroke-width:2;\"/>\n",
       "   </g>\n",
       "   <g id=\"line2d_2\">\n",
       "    <path clip-path=\"url(#pccbb15f6a3)\" d=\"M 102.24 152.208  L 104.269091 170.064  L 106.298182 152.208  L 108.327273 134.352  L 110.356364 152.208  L 112.385455 170.064  L 114.414545 152.208  L 116.443636 134.352  L 118.472727 152.208  L 120.501818 170.064  L 122.530909 152.208  L 124.56 134.352  L 126.589091 152.208  L 128.618182 170.064  L 130.647273 152.208  L 132.676364 134.352  L 134.705455 152.208  L 136.734545 170.064  L 138.763636 152.208  L 140.792727 134.352  L 142.821818 152.208  L 144.850909 170.064  L 146.88 152.208  L 148.909091 134.352  L 150.938182 152.208  L 152.967273 170.064  L 154.996364 152.208  L 157.025455 134.352  L 159.054545 152.208  L 161.083636 170.064  L 163.112727 152.208  L 165.141818 134.352  L 167.170909 152.208  L 169.2 170.064  L 171.229091 152.208  L 173.258182 134.352  L 175.287273 152.208  L 177.316364 170.064  L 179.345455 152.208  L 181.374545 134.352  L 183.403636 152.208  L 185.432727 170.064  L 187.461818 152.208  L 189.490909 134.352  L 191.52 152.208  \" style=\"fill:none;stroke:#000000;stroke-linecap:square;stroke-width:2;\"/>\n",
       "   </g>\n",
       "   <g id=\"line2d_3\">\n",
       "    <path clip-path=\"url(#pccbb15f6a3)\" d=\"M 191.52 152.208  L 236.16 152.208  \" style=\"fill:none;stroke:#000000;stroke-linecap:square;stroke-width:2;\"/>\n",
       "   </g>\n",
       "   <g id=\"line2d_4\">\n",
       "    <path clip-path=\"url(#pccbb15f6a3)\" d=\"M 236.16 241.488  L 355.2 241.488  L 355.2 122.448  L 236.16 122.448  L 236.16 241.488  \" style=\"fill:none;stroke:#000000;stroke-linecap:square;stroke-width:4;\"/>\n",
       "   </g>\n",
       "   <g id=\"line2d_5\">\n",
       "    <path clip-path=\"url(#pccbb15f6a3)\" d=\"M 280.8 256.368  L 280.655189 254.297104  L 280.223574 252.266516  L 279.513556 250.315759  L 278.538956 248.482801  L 277.318741 246.80332  L 275.876663 245.310005  L 274.24079 244.031921  L 272.442963 242.993945  L 270.518173 242.216279  L 268.503885 241.714061  L 266.439305 241.497064  L 264.364616 241.569514  L 262.320202 241.93  L 260.345854 242.571504  L 258.48 243.481542  L 256.758957 244.6424  L 255.216224 246.031483  L 253.881827 247.621755  L 252.78174 249.382263  L 251.937374 251.27874  L 251.365164 253.274274  L 251.076247 255.330024  L 251.076247 257.405976  L 251.365164 259.461726  L 251.937374 261.45726  L 252.78174 263.353737  L 253.881827 265.114245  L 255.216224 266.704517  L 256.758957 268.0936  L 258.48 269.254458  L 260.345854 270.164496  L 262.320202 270.806  L 264.364616 271.166486  L 266.439305 271.238936  L 268.503885 271.021939  L 270.518173 270.519721  L 272.442963 269.742055  L 274.24079 268.704079  L 275.876663 267.425995  L 277.318741 265.93268  L 278.538956 264.253199  L 279.513556 262.420241  L 280.223574 260.469484  L 280.655189 258.438896  L 280.8 256.368  L 280.8 256.368  \" style=\"fill:none;stroke:#000000;stroke-linecap:square;stroke-width:2;\"/>\n",
       "   </g>\n",
       "   <g id=\"line2d_6\">\n",
       "    <path clip-path=\"url(#pccbb15f6a3)\" d=\"M 340.32 256.368  L 340.175189 254.297104  L 339.743574 252.266516  L 339.033556 250.315759  L 338.058956 248.482801  L 336.838741 246.80332  L 335.396663 245.310005  L 333.76079 244.031921  L 331.962963 242.993945  L 330.038173 242.216279  L 328.023885 241.714061  L 325.959305 241.497064  L 323.884616 241.569514  L 321.840202 241.93  L 319.865854 242.571504  L 318 243.481542  L 316.278957 244.6424  L 314.736224 246.031483  L 313.401827 247.621755  L 312.30174 249.382263  L 311.457374 251.27874  L 310.885164 253.274274  L 310.596247 255.330024  L 310.596247 257.405976  L 310.885164 259.461726  L 311.457374 261.45726  L 312.30174 263.353737  L 313.401827 265.114245  L 314.736224 266.704517  L 316.278957 268.0936  L 318 269.254458  L 319.865854 270.164496  L 321.840202 270.806  L 323.884616 271.166486  L 325.959305 271.238936  L 328.023885 271.021939  L 330.038173 270.519721  L 331.962963 269.742055  L 333.76079 268.704079  L 335.396663 267.425995  L 336.838741 265.93268  L 338.058956 264.253199  L 339.033556 262.420241  L 339.743574 260.469484  L 340.175189 258.438896  L 340.32 256.368  L 340.32 256.368  \" style=\"fill:none;stroke:#000000;stroke-linecap:square;stroke-width:2;\"/>\n",
       "   </g>\n",
       "   <g id=\"line2d_7\">\n",
       "    <path clip-path=\"url(#pccbb15f6a3)\" d=\"M 295.68 92.688  L 325.44 92.688  \" style=\"fill:none;stroke:#000000;stroke-linecap:square;stroke-width:2;\"/>\n",
       "   </g>\n",
       "   <g id=\"line2d_8\">\n",
       "    <path clip-path=\"url(#pccbb15f6a3)\" d=\"M 319.2545 89.1168  L 325.44 92.688  \" style=\"fill:none;stroke:#000000;stroke-linecap:square;stroke-width:2;\"/>\n",
       "   </g>\n",
       "   <g id=\"line2d_9\">\n",
       "    <path clip-path=\"url(#pccbb15f6a3)\" d=\"M 319.2545 96.2592  L 325.44 92.688  \" style=\"fill:none;stroke:#000000;stroke-linecap:square;stroke-width:2;\"/>\n",
       "   </g>\n",
       "   <g id=\"line2d_10\">\n",
       "    <path clip-path=\"url(#pccbb15f6a3)\" d=\"M 295.68 100.128  L 295.68 85.248  \" style=\"fill:none;stroke:#000000;stroke-linecap:square;stroke-width:4;\"/>\n",
       "   </g>\n",
       "   <g id=\"text_1\">\n",
       "    <!-- $m$ -->\n",
       "    <g transform=\"translate(288.000554 181.968)scale(0.18 -0.18)\">\n",
       "     <defs>\n",
       "      <path d=\"M 20.59375 29.21875  C 20.796875 29.828125 23.296875 34.8125 27 38  C 29.59375 40.390625 33 41.984375 36.90625 41.984375  C 40.90625 41.984375 42.296875 39 42.296875 35.015625  C 42.296875 34.40625 42.296875 32.421875 41.09375 27.734375  L 38.59375 17.453125  C 37.796875 14.453125 35.90625 7.078125 35.703125 5.984375  C 35.296875 4.484375 34.703125 1.890625 34.703125 1.484375  C 34.703125 0.09375 35.796875 -1 37.296875 -1  C 40.296875 -1 40.796875 1.296875 41.703125 4.890625  L 47.703125 28.71875  C 47.90625 29.53125 53.09375 41.984375 64.09375 41.984375  C 68.09375 41.984375 69.5 39 69.5 35.015625  C 69.5 29.421875 65.59375 18.546875 63.40625 12.5625  C 62.5 10.171875 62 8.875 62 7.078125  C 62 2.59375 65.09375 -1 69.90625 -1  C 79.203125 -1 82.703125 13.65625 82.703125 14.265625  C 82.703125 14.765625 82.296875 15.15625 81.703125 15.15625  C 80.796875 15.15625 80.703125 14.859375 80.203125 13.15625  C 77.90625 5.1875 74.203125 1 70.203125 1  C 69.203125 1 67.59375 1.09375 67.59375 4.28125  C 67.59375 6.875 68.796875 10.078125 69.203125 11.171875  C 71 15.953125 75.5 27.734375 75.5 33.515625  C 75.5 39.5 72 44 64.40625 44  C 57.703125 44 52.296875 40.203125 48.296875 34.3125  C 48 39.703125 44.703125 44 37.203125 44  C 28.296875 44 23.59375 37.703125 21.796875 35.203125  C 21.5 40.890625 17.40625 44 13 44  C 10.09375 44 7.796875 42.59375 5.90625 38.796875  C 4.09375 35.203125 2.703125 29.125 2.703125 28.71875  C 2.703125 28.328125 3.09375 27.828125 3.796875 27.828125  C 4.59375 27.828125 4.703125 27.921875 5.296875 30.21875  C 6.796875 36.109375 8.703125 41.984375 12.703125 41.984375  C 15 41.984375 15.796875 40.390625 15.796875 37.40625  C 15.796875 35.203125 14.796875 31.3125 14.09375 28.234375  L 11.296875 17.453125  C 10.90625 15.5625 9.796875 11.0625 9.296875 9.265625  C 8.59375 6.671875 7.5 1.984375 7.5 1.484375  C 7.5 0.09375 8.59375 -1 10.09375 -1  C 11.296875 -1 12.703125 -0.40625 13.5 1.09375  C 13.703125 1.59375 14.59375 5.078125 15.09375 7.078125  L 17.296875 16.0625  z \" id=\"CMMI12-109\"/>\n",
       "     </defs>\n",
       "     <use transform=\"scale(0.996264)\" xlink:href=\"#CMMI12-109\"/>\n",
       "    </g>\n",
       "   </g>\n",
       "   <g id=\"text_2\">\n",
       "    <!-- $ku$ -->\n",
       "    <g transform=\"translate(137.01605 122.448)scale(0.18 -0.18)\">\n",
       "     <defs>\n",
       "      <path d=\"M 28.09375 66.484375  C 28.203125 66.890625 28.40625 67.484375 28.40625 67.984375  C 28.40625 69 27.40625 69 27.203125 69  C 27.09375 69 23.5 68.6875 21.703125 68.484375  C 20 68.390625 18.5 68.1875 16.703125 68.09375  C 14.296875 67.890625 13.59375 67.796875 13.59375 65.984375  C 13.59375 64.984375 14.59375 64.984375 15.59375 64.984375  C 20.703125 64.984375 20.703125 64.109375 20.703125 63.125  C 20.703125 62.71875 20.703125 62.53125 20.203125 60.75  L 5.90625 3.90625  C 5.5 2.390625 5.5 2.203125 5.5 1.59375  C 5.5 -0.609375 7.203125 -1 8.203125 -1  C 11 -1 11.59375 1.1875 12.40625 4.296875  L 17.09375 23.0625  C 24.296875 22.265625 28.59375 19.25 28.59375 14.4375  C 28.59375 13.828125 28.59375 13.4375 28.296875 11.921875  C 27.90625 10.421875 27.90625 9.21875 27.90625 8.71875  C 27.90625 2.890625 31.703125 -1 36.796875 -1  C 41.40625 -1 43.796875 3.203125 44.59375 4.609375  C 46.703125 8.3125 48 13.9375 48 14.328125  C 48 14.828125 47.59375 15.234375 47 15.234375  C 46.09375 15.234375 46 14.828125 45.59375 13.234375  C 44.203125 8.015625 42.09375 1 37 1  C 35 1 33.703125 2 33.703125 5.8125  C 33.703125 7.71875 34.09375 9.921875 34.5 11.421875  C 34.90625 13.234375 34.90625 13.328125 34.90625 14.53125  C 34.90625 20.453125 29.59375 23.765625 20.40625 24.96875  C 24 27.171875 27.59375 31.078125 29 32.59375  C 34.703125 38.984375 38.59375 41.984375 43.203125 41.984375  C 45.5 41.984375 46.09375 41.484375 46.796875 41  C 43.09375 40.59375 41.703125 37.984375 41.703125 35.984375  C 41.703125 33.59375 43.59375 32.796875 45 32.796875  C 47.703125 32.796875 50.09375 35.09375 50.09375 38.296875  C 50.09375 41.15625 47.796875 44 43.296875 44  C 37.796875 44 33.296875 40.296875 26.203125 32.296875  C 25.203125 31.078125 21.5 27.28125 17.796875 25.875  z \" id=\"CMMI12-107\"/>\n",
       "      <path d=\"M 34.09375 5.78125  C 35.40625 0.1875 40.203125 -1 42.59375 -1  C 45.796875 -1 48.203125 1.09375 49.796875 4.484375  C 51.5 8.078125 52.796875 13.953125 52.796875 14.265625  C 52.796875 14.75 52.40625 15.15625 51.796875 15.15625  C 50.90625 15.15625 50.796875 14.65625 50.40625 13.15625  C 48.59375 6.28125 46.796875 1 42.796875 1  C 39.796875 1 39.796875 4.28125 39.796875 5.578125  C 39.796875 7.875 40.09375 8.875 41.09375 13.0625  C 41.796875 15.75 42.5 18.453125 43.09375 21.234375  L 47.203125 37.5  C 47.90625 40 47.90625 40.1875 47.90625 40.484375  C 47.90625 41.984375 46.703125 43 45.203125 43  C 42.296875 43 41.59375 40.484375 41 38  C 40 34.109375 34.59375 12.65625 33.90625 9.171875  C 33.796875 9.171875 29.90625 1 22.59375 1  C 17.40625 1 16.40625 5.484375 16.40625 9.171875  C 16.40625 14.859375 19.203125 22.84375 21.796875 29.53125  C 23 32.71875 23.5 34.015625 23.5 36.015625  C 23.5 40.296875 20.40625 44 15.59375 44  C 6.40625 44 2.703125 29.53125 2.703125 28.71875  C 2.703125 28.328125 3.09375 27.828125 3.796875 27.828125  C 4.703125 27.828125 4.796875 28.234375 5.203125 29.625  C 7.59375 38.203125 11.5 41.984375 15.296875 41.984375  C 16.296875 41.984375 17.90625 41.890625 17.90625 38.703125  C 17.90625 36.109375 16.796875 33.21875 15.296875 29.421875  C 10.90625 17.546875 10.40625 13.765625 10.40625 10.765625  C 10.40625 0.59375 18.09375 -1 22.203125 -1  C 28.59375 -1 32.09375 3.390625 34.09375 5.78125  z \" id=\"CMMI12-117\"/>\n",
       "     </defs>\n",
       "     <use transform=\"scale(0.996264)\" xlink:href=\"#CMMI12-107\"/>\n",
       "     <use transform=\"translate(54.079201 0)scale(0.996264)\" xlink:href=\"#CMMI12-117\"/>\n",
       "    </g>\n",
       "   </g>\n",
       "   <g id=\"text_3\">\n",
       "    <!-- $u(t)$ -->\n",
       "    <g transform=\"translate(325.207075 94.92)scale(0.18 -0.18)\">\n",
       "     <defs>\n",
       "      <path d=\"M 30.59375 -24.40625  C 30.59375 -24.3125 30.59375 -24.109375 30.296875 -23.8125  C 25.703125 -19.109375 13.40625 -6.296875 13.40625 24.9375  C 13.40625 56.171875 25.5 68.875 30.40625 73.890625  C 30.40625 73.984375 30.59375 74.1875 30.59375 74.484375  C 30.59375 74.796875 30.296875 75 29.90625 75  C 28.796875 75 20.296875 67.578125 15.40625 56.5625  C 10.40625 45.453125 9 34.65625 9 25.046875  C 9 17.828125 9.703125 5.625 15.703125 -7.296875  C 20.5 -17.703125 28.703125 -25 29.90625 -25  C 30.40625 -25 30.59375 -24.8125 30.59375 -24.40625  z \" id=\"CMR17-40\"/>\n",
       "      <path d=\"M 20.09375 40.09375  L 29.296875 40.09375  C 31.203125 40.09375 32.203125 40.09375 32.203125 41.890625  C 32.203125 43 31.59375 43 29.59375 43  L 20.796875 43  L 24.5 57.25  C 24.90625 58.625 24.90625 58.8125 24.90625 59.5  C 24.90625 61.09375 23.59375 62 22.296875 62  C 21.5 62 19.203125 61.6875 18.40625 58.53125  L 14.5 43  L 5.09375 43  C 3.09375 43 2.203125 43 2.203125 41.09375  C 2.203125 40.09375 2.90625 40.09375 4.796875 40.09375  L 13.703125 40.09375  L 7.09375 13.765625  C 6.296875 10.265625 6 9.265625 6 7.96875  C 6 3.28125 9.296875 -1 14.90625 -1  C 25 -1 30.40625 13.5625 30.40625 14.265625  C 30.40625 14.859375 30 15.15625 29.40625 15.15625  C 29.203125 15.15625 28.796875 15.15625 28.59375 14.75  C 28.5 14.65625 28.40625 14.5625 27.703125 12.96875  C 25.59375 7.96875 21 1 15.203125 1  C 12.203125 1 12 3.484375 12 5.6875  C 12 5.78125 12 7.671875 12.296875 8.875  z \" id=\"CMMI12-116\"/>\n",
       "      <path d=\"M 26.296875 24.9375  C 26.296875 32.140625 25.59375 44.359375 19.59375 57.265625  C 14.796875 67.6875 6.59375 75 5.40625 75  C 5.09375 75 4.703125 74.890625 4.703125 74.390625  C 4.703125 74.1875 4.796875 74.09375 4.90625 73.890625  C 9.703125 68.875 21.90625 56.171875 21.90625 25.046875  C 21.90625 -6.1875 9.796875 -18.90625 4.90625 -23.90625  C 4.796875 -24.109375 4.703125 -24.203125 4.703125 -24.40625  C 4.703125 -24.90625 5.09375 -25 5.40625 -25  C 6.5 -25 15 -17.609375 19.90625 -6.59375  C 24.90625 4.515625 26.296875 15.328125 26.296875 24.9375  z \" id=\"CMR17-41\"/>\n",
       "     </defs>\n",
       "     <use transform=\"scale(0.996264)\" xlink:href=\"#CMMI12-117\"/>\n",
       "     <use transform=\"translate(55.52033 0)scale(0.996264)\" xlink:href=\"#CMR17-40\"/>\n",
       "     <use transform=\"translate(90.801097 0)scale(0.996264)\" xlink:href=\"#CMMI12-116\"/>\n",
       "     <use transform=\"translate(126.027428 0)scale(0.996264)\" xlink:href=\"#CMR17-41\"/>\n",
       "    </g>\n",
       "   </g>\n",
       "  </g>\n",
       " </g>\n",
       " <defs>\n",
       "  <clipPath id=\"pccbb15f6a3\">\n",
       "   <rect height=\"223.2\" width=\"357.12\" x=\"57.6\" y=\"62.928\"/>\n",
       "  </clipPath>\n",
       " </defs>\n",
       " <defs>\n",
       "  <pattern height=\"72\" id=\"h0fdd9066f1\" patternUnits=\"userSpaceOnUse\" width=\"72\" x=\"0\" y=\"0\">\n",
       "   <rect fill=\"#ffffff\" height=\"73\" width=\"73\" x=\"0\" y=\"0\"/>\n",
       "   <path d=\"M -36 36  L 36 -36  M -24 48  L 48 -24  M -12 60  L 60 -12  M 0 72  L 72 0  M 12 84  L 84 12  M 24 96  L 96 24  M 36 108  L 108 36  \" style=\"fill:#000000;stroke:#000000;stroke-linecap:butt;stroke-linejoin:miter;stroke-width:1.0;\"/>\n",
       "  </pattern>\n",
       " </defs>\n",
       "</svg>"
      ],
      "text/plain": [
       "<IPython.core.display.SVG object>"
      ]
     },
     "metadata": {},
     "output_type": "display_data"
    }
   ],
   "source": [
    "display(SVG(Sketch.matplotlib2SVG()))"
   ]
  },
  {
   "cell_type": "code",
   "execution_count": null,
   "metadata": {},
   "outputs": [],
   "source": []
  }
 ],
 "metadata": {
  "kernelspec": {
   "display_name": "Python 3",
   "language": "python",
   "name": "python3"
  },
  "language_info": {
   "codemirror_mode": {
    "name": "ipython",
    "version": 3
   },
   "file_extension": ".py",
   "mimetype": "text/x-python",
   "name": "python",
   "nbconvert_exporter": "python",
   "pygments_lexer": "ipython3",
   "version": "3.8.5"
  }
 },
 "nbformat": 4,
 "nbformat_minor": 4
}
